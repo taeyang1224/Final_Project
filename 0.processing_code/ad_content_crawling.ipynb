{
 "cells": [
  {
   "cell_type": "markdown",
   "metadata": {},
   "source": [
    "# 초기 설정"
   ]
  },
  {
   "cell_type": "markdown",
   "metadata": {},
   "source": [
    "- 필요패키지 import"
   ]
  },
  {
   "cell_type": "code",
   "execution_count": 285,
   "metadata": {
    "ExecuteTime": {
     "end_time": "2021-12-15T08:40:33.279143Z",
     "start_time": "2021-12-15T08:40:33.272160Z"
    }
   },
   "outputs": [],
   "source": [
    "import numpy as np\n",
    "import pandas as pd\n",
    "import time\n",
    "import requests # 크롤링에 사용하는 패키지\n",
    "from bs4 import BeautifulSoup # html 변환에 사용함\n",
    "import json\n",
    "from selenium import webdriver\n",
    "from selenium.webdriver.common.keys import Keys"
   ]
  },
  {
   "cell_type": "markdown",
   "metadata": {},
   "source": [
    "- `ad.csv`에서 content_id 불러옴"
   ]
  },
  {
   "cell_type": "code",
   "execution_count": 2,
   "metadata": {
    "ExecuteTime": {
     "end_time": "2021-12-15T01:36:28.165929Z",
     "start_time": "2021-12-15T01:36:28.145921Z"
    }
   },
   "outputs": [],
   "source": [
    "ad_df = pd.read_csv('data/ad.csv')"
   ]
  },
  {
   "cell_type": "code",
   "execution_count": 7,
   "metadata": {
    "ExecuteTime": {
     "end_time": "2021-12-15T01:36:56.448556Z",
     "start_time": "2021-12-15T01:36:56.442567Z"
    }
   },
   "outputs": [],
   "source": [
    "content_id = ad_df['content_id']"
   ]
  },
  {
   "cell_type": "markdown",
   "metadata": {},
   "source": [
    "- 셀레니움 설정"
   ]
  },
  {
   "cell_type": "code",
   "execution_count": 87,
   "metadata": {
    "ExecuteTime": {
     "end_time": "2021-12-15T05:25:57.982842Z",
     "start_time": "2021-12-15T05:25:54.609663Z"
    }
   },
   "outputs": [],
   "source": [
    "driver = webdriver.Chrome('.//chromedriver.exe')"
   ]
  },
  {
   "cell_type": "code",
   "execution_count": 88,
   "metadata": {
    "ExecuteTime": {
     "end_time": "2021-12-15T05:26:04.821946Z",
     "start_time": "2021-12-15T05:26:00.237396Z"
    }
   },
   "outputs": [],
   "source": [
    "url = 'https://m.bunjang.co.kr/'\n",
    "driver.get(url)"
   ]
  },
  {
   "cell_type": "markdown",
   "metadata": {},
   "source": [
    "# content_id 기반으로 추가 정보 크롤링"
   ]
  },
  {
   "cell_type": "markdown",
   "metadata": {},
   "source": [
    "- `b_pay` : 번개페이 여부  (번개페이 사용시 `1`, 아니면 `0`)\n",
    "- `place` : 거래 지역\n",
    "- `text` : 판매자가 등록한 상품 정보\n",
    "- `delivery_fee` : 배송비 여부 (`배송비포함`, `배송비 별도`)\n",
    "- `category` : 세부 카테고리 명(한글)\n",
    "- `status` : 등록되었던 상품의 현 상태 : `판매중`, `거래 완료`, `삭제됨`"
   ]
  },
  {
   "cell_type": "code",
   "execution_count": 95,
   "metadata": {
    "ExecuteTime": {
     "end_time": "2021-12-15T06:41:15.636047Z",
     "start_time": "2021-12-15T05:26:57.836561Z"
    }
   },
   "outputs": [],
   "source": [
    "content_data = []\n",
    "\n",
    "for cid in content_id:\n",
    "    url = f'https://m.bunjang.co.kr/products/{cid}'\n",
    "    driver.get(url)\n",
    "    cnt += 1\n",
    "    tt = 2 + np.random.rand(1)[0]  \n",
    "    time.sleep(tt)\n",
    "    # 번개페이 여부\n",
    "    try : \n",
    "        b_pay = driver.find_element_by_xpath('//*[@id=\"root\"]/div/div/div[4]/div[1]/div/div[2]/div/div[2]/div/div[1]/div[1]/div[2]/div[2]/span/img').text\n",
    "        b_pay = 1\n",
    "    except:\n",
    "        b_pay = 0\n",
    "    # 거래 지역\n",
    "    try:\n",
    "        place = driver.find_element_by_xpath('//*[@id=\"root\"]/div/div/div[4]/div[1]/div/div[2]/div/div[2]/div/div[1]/div[2]/div[2]/div[4]/div[2]').text\n",
    "    except:\n",
    "        place = None\n",
    "    # 상품 정보 : 판매자가 등록한 설명\n",
    "    try:\n",
    "        text = driver.find_element_by_xpath('//*[@id=\"root\"]/div/div/div[4]/div[1]/div/div[4]/div[1]/div[2]/div[1]').text\n",
    "    except:\n",
    "        text = None\n",
    "    # 배송비\n",
    "    try:\n",
    "        delivery_fee = driver.find_element_by_xpath('//*[@id=\"root\"]/div/div/div[4]/div[1]/div/div[2]/div/div[2]/div/div[1]/div[2]/div[2]/div[3]/div[2]').text\n",
    "    except:\n",
    "        delivery_fee = None\n",
    "    # 카테고리\n",
    "    try:\n",
    "        category = driver.find_element_by_xpath('//*[@id=\"root\"]/div/div/div[4]/div[1]/div/div[4]/div[1]/div[2]/div[1]/div[2]/div[3]/div[2]/div[2]/a/span').text\n",
    "    except:\n",
    "        category = None\n",
    "    # 게시글의 현 상태    \n",
    "    if driver.find_element_by_xpath('//*[@id=\"root\"]/div/div/div[4]/div/div/div[2]/div[1]').text[:9] == '이미 삭제된 상품':\n",
    "        status = '삭제됨'\n",
    "    elif driver.find_element_by_xpath('//*[@id=\"root\"]/div/div/div[4]/div/div/div[2]/div[1]').text[:10] == '이미 거래가 완료된':\n",
    "        status = '거래 완료'\n",
    "    else:\n",
    "        status ='판매중'\n",
    "    # 각 id별로 합쳐서 저장\n",
    "    content_dict = {'id':cid, 'status': status, 'b_pay':b_pay, 'place':place, 'text':text, 'delivery_fee':delivery_fee,, 'category': category}\n",
    "    content_data.append(content_dict)\n",
    "# 데이터 프레임으로 만든 후 저장\n",
    "df = pd.DataFrame(content_data)\n",
    "df.to_csv('ad_content_data.csv', index=False)"
   ]
  },
  {
   "cell_type": "code",
   "execution_count": 50,
   "metadata": {
    "ExecuteTime": {
     "end_time": "2021-12-15T04:05:06.932870Z",
     "start_time": "2021-12-15T04:05:06.901974Z"
    }
   },
   "outputs": [
    {
     "data": {
      "text/html": [
       "<div>\n",
       "<style scoped>\n",
       "    .dataframe tbody tr th:only-of-type {\n",
       "        vertical-align: middle;\n",
       "    }\n",
       "\n",
       "    .dataframe tbody tr th {\n",
       "        vertical-align: top;\n",
       "    }\n",
       "\n",
       "    .dataframe thead th {\n",
       "        text-align: right;\n",
       "    }\n",
       "</style>\n",
       "<table border=\"1\" class=\"dataframe\">\n",
       "  <thead>\n",
       "    <tr style=\"text-align: right;\">\n",
       "      <th></th>\n",
       "      <th>id</th>\n",
       "      <th>status</th>\n",
       "      <th>b_pay</th>\n",
       "      <th>place</th>\n",
       "      <th>text</th>\n",
       "      <th>delivery_fee</th>\n",
       "    </tr>\n",
       "  </thead>\n",
       "  <tbody>\n",
       "    <tr>\n",
       "      <td>0</td>\n",
       "      <td>157826057</td>\n",
       "      <td>판매중</td>\n",
       "      <td>1</td>\n",
       "      <td>서울특별시 용산구 한강로동</td>\n",
       "      <td>상품정보\\n[ 컴퓨터 상세 사양 ] \\n(SSD, 케이스만 신품, 나머지 중고)\\n...</td>\n",
       "      <td>배송비포함</td>\n",
       "    </tr>\n",
       "    <tr>\n",
       "      <td>3</td>\n",
       "      <td>152625380</td>\n",
       "      <td>판매중</td>\n",
       "      <td>1</td>\n",
       "      <td>서울특별시 강남구 논현2동</td>\n",
       "      <td>상품정보\\n★ 번개장터 구매고객 특별이벤트 ★\\n\\n1,구입후 중고폰 100일 제품...</td>\n",
       "      <td>배송비포함</td>\n",
       "    </tr>\n",
       "    <tr>\n",
       "      <td>6</td>\n",
       "      <td>163127295</td>\n",
       "      <td>판매중</td>\n",
       "      <td>1</td>\n",
       "      <td>충청북도 청주시 청원구 율량.사천동\\n지역인증</td>\n",
       "      <td>상품정보\\n상품명:러블리트렌치 코트 \\n\\n봄에 엄청난 인기상품이였던 소재부터\\n요...</td>\n",
       "      <td>배송비 별도</td>\n",
       "    </tr>\n",
       "    <tr>\n",
       "      <td>7</td>\n",
       "      <td>137118036</td>\n",
       "      <td>판매중</td>\n",
       "      <td>1</td>\n",
       "      <td>서울특별시 강남구 삼성동</td>\n",
       "      <td>상품정보\\n★ 번개장터 구매고객 특별이벤트 ★\\n\\n1,구입후 중고폰 100일 제품...</td>\n",
       "      <td>배송비포함</td>\n",
       "    </tr>\n",
       "    <tr>\n",
       "      <td>8</td>\n",
       "      <td>162362067</td>\n",
       "      <td>판매중</td>\n",
       "      <td>1</td>\n",
       "      <td>서울특별시 서초구 서초1동\\n지역인증</td>\n",
       "      <td>상품정보\\n무려 8마리의 용과 화염 당초문으로 장식되어 있습니다.\\n여의주를 쥔 가...</td>\n",
       "      <td>배송비 별도</td>\n",
       "    </tr>\n",
       "    <tr>\n",
       "      <td>...</td>\n",
       "      <td>...</td>\n",
       "      <td>...</td>\n",
       "      <td>...</td>\n",
       "      <td>...</td>\n",
       "      <td>...</td>\n",
       "      <td>...</td>\n",
       "    </tr>\n",
       "    <tr>\n",
       "      <td>1412</td>\n",
       "      <td>155571548</td>\n",
       "      <td>판매중</td>\n",
       "      <td>1</td>\n",
       "      <td>서울특별시 강남구 논현2동</td>\n",
       "      <td>상품정보\\n고객님 안녕하세요!\\n\\nAIR OK 입니다^^\\n\\n저희 중고폰/액정파...</td>\n",
       "      <td>배송비포함</td>\n",
       "    </tr>\n",
       "    <tr>\n",
       "      <td>1414</td>\n",
       "      <td>162789993</td>\n",
       "      <td>판매중</td>\n",
       "      <td>1</td>\n",
       "      <td>전국</td>\n",
       "      <td>상품정보\\n검색창에서 \" 애슐리상점 \" \\n\\n잇미샤 루즈한라인 리본 블라우스 55...</td>\n",
       "      <td>배송비 별도</td>\n",
       "    </tr>\n",
       "    <tr>\n",
       "      <td>1418</td>\n",
       "      <td>84088254</td>\n",
       "      <td>판매중</td>\n",
       "      <td>1</td>\n",
       "      <td>부산광역시 남구 용호제1동\\n지역인증</td>\n",
       "      <td>상품정보\\n가장빠른 채팅\\n\\n카 카 오 톡 : bbb4883 \\n\\n카 카 오 톡...</td>\n",
       "      <td>배송비포함</td>\n",
       "    </tr>\n",
       "    <tr>\n",
       "      <td>1419</td>\n",
       "      <td>152049275</td>\n",
       "      <td>판매중</td>\n",
       "      <td>1</td>\n",
       "      <td>전국</td>\n",
       "      <td>상품정보\\n품명:스위스밀리터리 에어슬림 무선 멀티 청소기 SMA-BV2200 \\n시...</td>\n",
       "      <td>배송비포함</td>\n",
       "    </tr>\n",
       "    <tr>\n",
       "      <td>1422</td>\n",
       "      <td>130344977</td>\n",
       "      <td>판매중</td>\n",
       "      <td>0</td>\n",
       "      <td>서울특별시 광진구 화양동</td>\n",
       "      <td>상품정보\\n✔구매 전 2000개가 넘는 실제 구매후기를 확인해주세요. \\n✔번개장터...</td>\n",
       "      <td>배송비포함</td>\n",
       "    </tr>\n",
       "  </tbody>\n",
       "</table>\n",
       "<p>649 rows × 6 columns</p>\n",
       "</div>"
      ],
      "text/plain": [
       "             id status  b_pay                      place  \\\n",
       "0     157826057    판매중      1             서울특별시 용산구 한강로동   \n",
       "3     152625380    판매중      1             서울특별시 강남구 논현2동   \n",
       "6     163127295    판매중      1  충청북도 청주시 청원구 율량.사천동\\n지역인증   \n",
       "7     137118036    판매중      1              서울특별시 강남구 삼성동   \n",
       "8     162362067    판매중      1       서울특별시 서초구 서초1동\\n지역인증   \n",
       "...         ...    ...    ...                        ...   \n",
       "1412  155571548    판매중      1             서울특별시 강남구 논현2동   \n",
       "1414  162789993    판매중      1                         전국   \n",
       "1418   84088254    판매중      1       부산광역시 남구 용호제1동\\n지역인증   \n",
       "1419  152049275    판매중      1                         전국   \n",
       "1422  130344977    판매중      0              서울특별시 광진구 화양동   \n",
       "\n",
       "                                                   text delivery_fee  \n",
       "0     상품정보\\n[ 컴퓨터 상세 사양 ] \\n(SSD, 케이스만 신품, 나머지 중고)\\n...        배송비포함  \n",
       "3     상품정보\\n★ 번개장터 구매고객 특별이벤트 ★\\n\\n1,구입후 중고폰 100일 제품...        배송비포함  \n",
       "6     상품정보\\n상품명:러블리트렌치 코트 \\n\\n봄에 엄청난 인기상품이였던 소재부터\\n요...       배송비 별도  \n",
       "7     상품정보\\n★ 번개장터 구매고객 특별이벤트 ★\\n\\n1,구입후 중고폰 100일 제품...        배송비포함  \n",
       "8     상품정보\\n무려 8마리의 용과 화염 당초문으로 장식되어 있습니다.\\n여의주를 쥔 가...       배송비 별도  \n",
       "...                                                 ...          ...  \n",
       "1412  상품정보\\n고객님 안녕하세요!\\n\\nAIR OK 입니다^^\\n\\n저희 중고폰/액정파...        배송비포함  \n",
       "1414  상품정보\\n검색창에서 \" 애슐리상점 \" \\n\\n잇미샤 루즈한라인 리본 블라우스 55...       배송비 별도  \n",
       "1418  상품정보\\n가장빠른 채팅\\n\\n카 카 오 톡 : bbb4883 \\n\\n카 카 오 톡...        배송비포함  \n",
       "1419  상품정보\\n품명:스위스밀리터리 에어슬림 무선 멀티 청소기 SMA-BV2200 \\n시...        배송비포함  \n",
       "1422  상품정보\\n✔구매 전 2000개가 넘는 실제 구매후기를 확인해주세요. \\n✔번개장터...        배송비포함  \n",
       "\n",
       "[649 rows x 6 columns]"
      ]
     },
     "execution_count": 50,
     "metadata": {},
     "output_type": "execute_result"
    }
   ],
   "source": [
    "dff[dff['status'] == '판매중']"
   ]
  },
  {
   "cell_type": "code",
   "execution_count": 51,
   "metadata": {
    "ExecuteTime": {
     "end_time": "2021-12-15T04:05:16.003526Z",
     "start_time": "2021-12-15T04:05:15.980225Z"
    }
   },
   "outputs": [
    {
     "data": {
      "text/html": [
       "<div>\n",
       "<style scoped>\n",
       "    .dataframe tbody tr th:only-of-type {\n",
       "        vertical-align: middle;\n",
       "    }\n",
       "\n",
       "    .dataframe tbody tr th {\n",
       "        vertical-align: top;\n",
       "    }\n",
       "\n",
       "    .dataframe thead th {\n",
       "        text-align: right;\n",
       "    }\n",
       "</style>\n",
       "<table border=\"1\" class=\"dataframe\">\n",
       "  <thead>\n",
       "    <tr style=\"text-align: right;\">\n",
       "      <th></th>\n",
       "      <th>id</th>\n",
       "      <th>status</th>\n",
       "      <th>b_pay</th>\n",
       "      <th>place</th>\n",
       "      <th>text</th>\n",
       "      <th>delivery_fee</th>\n",
       "    </tr>\n",
       "  </thead>\n",
       "  <tbody>\n",
       "    <tr>\n",
       "      <td>1</td>\n",
       "      <td>162431268</td>\n",
       "      <td>거래 완료</td>\n",
       "      <td>0</td>\n",
       "      <td>NaN</td>\n",
       "      <td>NaN</td>\n",
       "      <td>NaN</td>\n",
       "    </tr>\n",
       "    <tr>\n",
       "      <td>18</td>\n",
       "      <td>162909690</td>\n",
       "      <td>거래 완료</td>\n",
       "      <td>0</td>\n",
       "      <td>NaN</td>\n",
       "      <td>NaN</td>\n",
       "      <td>NaN</td>\n",
       "    </tr>\n",
       "    <tr>\n",
       "      <td>28</td>\n",
       "      <td>162609608</td>\n",
       "      <td>거래 완료</td>\n",
       "      <td>0</td>\n",
       "      <td>NaN</td>\n",
       "      <td>NaN</td>\n",
       "      <td>NaN</td>\n",
       "    </tr>\n",
       "    <tr>\n",
       "      <td>32</td>\n",
       "      <td>162854569</td>\n",
       "      <td>거래 완료</td>\n",
       "      <td>0</td>\n",
       "      <td>NaN</td>\n",
       "      <td>NaN</td>\n",
       "      <td>NaN</td>\n",
       "    </tr>\n",
       "    <tr>\n",
       "      <td>35</td>\n",
       "      <td>163068537</td>\n",
       "      <td>거래 완료</td>\n",
       "      <td>0</td>\n",
       "      <td>NaN</td>\n",
       "      <td>NaN</td>\n",
       "      <td>NaN</td>\n",
       "    </tr>\n",
       "    <tr>\n",
       "      <td>...</td>\n",
       "      <td>...</td>\n",
       "      <td>...</td>\n",
       "      <td>...</td>\n",
       "      <td>...</td>\n",
       "      <td>...</td>\n",
       "      <td>...</td>\n",
       "    </tr>\n",
       "    <tr>\n",
       "      <td>1411</td>\n",
       "      <td>155602263</td>\n",
       "      <td>거래 완료</td>\n",
       "      <td>0</td>\n",
       "      <td>NaN</td>\n",
       "      <td>NaN</td>\n",
       "      <td>NaN</td>\n",
       "    </tr>\n",
       "    <tr>\n",
       "      <td>1413</td>\n",
       "      <td>160744536</td>\n",
       "      <td>거래 완료</td>\n",
       "      <td>0</td>\n",
       "      <td>NaN</td>\n",
       "      <td>NaN</td>\n",
       "      <td>NaN</td>\n",
       "    </tr>\n",
       "    <tr>\n",
       "      <td>1415</td>\n",
       "      <td>162671672</td>\n",
       "      <td>거래 완료</td>\n",
       "      <td>0</td>\n",
       "      <td>NaN</td>\n",
       "      <td>NaN</td>\n",
       "      <td>NaN</td>\n",
       "    </tr>\n",
       "    <tr>\n",
       "      <td>1417</td>\n",
       "      <td>162431076</td>\n",
       "      <td>거래 완료</td>\n",
       "      <td>0</td>\n",
       "      <td>NaN</td>\n",
       "      <td>NaN</td>\n",
       "      <td>NaN</td>\n",
       "    </tr>\n",
       "    <tr>\n",
       "      <td>1423</td>\n",
       "      <td>156423859</td>\n",
       "      <td>거래 완료</td>\n",
       "      <td>0</td>\n",
       "      <td>NaN</td>\n",
       "      <td>NaN</td>\n",
       "      <td>NaN</td>\n",
       "    </tr>\n",
       "  </tbody>\n",
       "</table>\n",
       "<p>295 rows × 6 columns</p>\n",
       "</div>"
      ],
      "text/plain": [
       "             id status  b_pay place text delivery_fee\n",
       "1     162431268  거래 완료      0   NaN  NaN          NaN\n",
       "18    162909690  거래 완료      0   NaN  NaN          NaN\n",
       "28    162609608  거래 완료      0   NaN  NaN          NaN\n",
       "32    162854569  거래 완료      0   NaN  NaN          NaN\n",
       "35    163068537  거래 완료      0   NaN  NaN          NaN\n",
       "...         ...    ...    ...   ...  ...          ...\n",
       "1411  155602263  거래 완료      0   NaN  NaN          NaN\n",
       "1413  160744536  거래 완료      0   NaN  NaN          NaN\n",
       "1415  162671672  거래 완료      0   NaN  NaN          NaN\n",
       "1417  162431076  거래 완료      0   NaN  NaN          NaN\n",
       "1423  156423859  거래 완료      0   NaN  NaN          NaN\n",
       "\n",
       "[295 rows x 6 columns]"
      ]
     },
     "execution_count": 51,
     "metadata": {},
     "output_type": "execute_result"
    }
   ],
   "source": [
    "dff[dff['status'] == '거래 완료']"
   ]
  },
  {
   "cell_type": "code",
   "execution_count": 52,
   "metadata": {
    "ExecuteTime": {
     "end_time": "2021-12-15T04:05:28.954824Z",
     "start_time": "2021-12-15T04:05:28.938832Z"
    }
   },
   "outputs": [
    {
     "data": {
      "text/html": [
       "<div>\n",
       "<style scoped>\n",
       "    .dataframe tbody tr th:only-of-type {\n",
       "        vertical-align: middle;\n",
       "    }\n",
       "\n",
       "    .dataframe tbody tr th {\n",
       "        vertical-align: top;\n",
       "    }\n",
       "\n",
       "    .dataframe thead th {\n",
       "        text-align: right;\n",
       "    }\n",
       "</style>\n",
       "<table border=\"1\" class=\"dataframe\">\n",
       "  <thead>\n",
       "    <tr style=\"text-align: right;\">\n",
       "      <th></th>\n",
       "      <th>id</th>\n",
       "      <th>status</th>\n",
       "      <th>b_pay</th>\n",
       "      <th>place</th>\n",
       "      <th>text</th>\n",
       "      <th>delivery_fee</th>\n",
       "    </tr>\n",
       "  </thead>\n",
       "  <tbody>\n",
       "    <tr>\n",
       "      <td>2</td>\n",
       "      <td>162806215</td>\n",
       "      <td>삭제됨</td>\n",
       "      <td>0</td>\n",
       "      <td>NaN</td>\n",
       "      <td>NaN</td>\n",
       "      <td>NaN</td>\n",
       "    </tr>\n",
       "    <tr>\n",
       "      <td>4</td>\n",
       "      <td>161572473</td>\n",
       "      <td>삭제됨</td>\n",
       "      <td>0</td>\n",
       "      <td>NaN</td>\n",
       "      <td>NaN</td>\n",
       "      <td>NaN</td>\n",
       "    </tr>\n",
       "    <tr>\n",
       "      <td>5</td>\n",
       "      <td>159624182</td>\n",
       "      <td>삭제됨</td>\n",
       "      <td>0</td>\n",
       "      <td>NaN</td>\n",
       "      <td>NaN</td>\n",
       "      <td>NaN</td>\n",
       "    </tr>\n",
       "    <tr>\n",
       "      <td>11</td>\n",
       "      <td>163063044</td>\n",
       "      <td>삭제됨</td>\n",
       "      <td>0</td>\n",
       "      <td>NaN</td>\n",
       "      <td>NaN</td>\n",
       "      <td>NaN</td>\n",
       "    </tr>\n",
       "    <tr>\n",
       "      <td>12</td>\n",
       "      <td>151970858</td>\n",
       "      <td>삭제됨</td>\n",
       "      <td>0</td>\n",
       "      <td>NaN</td>\n",
       "      <td>NaN</td>\n",
       "      <td>NaN</td>\n",
       "    </tr>\n",
       "    <tr>\n",
       "      <td>...</td>\n",
       "      <td>...</td>\n",
       "      <td>...</td>\n",
       "      <td>...</td>\n",
       "      <td>...</td>\n",
       "      <td>...</td>\n",
       "      <td>...</td>\n",
       "    </tr>\n",
       "    <tr>\n",
       "      <td>1420</td>\n",
       "      <td>160809748</td>\n",
       "      <td>삭제됨</td>\n",
       "      <td>0</td>\n",
       "      <td>NaN</td>\n",
       "      <td>NaN</td>\n",
       "      <td>NaN</td>\n",
       "    </tr>\n",
       "    <tr>\n",
       "      <td>1421</td>\n",
       "      <td>159900430</td>\n",
       "      <td>삭제됨</td>\n",
       "      <td>0</td>\n",
       "      <td>NaN</td>\n",
       "      <td>NaN</td>\n",
       "      <td>NaN</td>\n",
       "    </tr>\n",
       "    <tr>\n",
       "      <td>1424</td>\n",
       "      <td>163149174</td>\n",
       "      <td>삭제됨</td>\n",
       "      <td>0</td>\n",
       "      <td>NaN</td>\n",
       "      <td>NaN</td>\n",
       "      <td>NaN</td>\n",
       "    </tr>\n",
       "    <tr>\n",
       "      <td>1425</td>\n",
       "      <td>160955756</td>\n",
       "      <td>삭제됨</td>\n",
       "      <td>0</td>\n",
       "      <td>NaN</td>\n",
       "      <td>NaN</td>\n",
       "      <td>NaN</td>\n",
       "    </tr>\n",
       "    <tr>\n",
       "      <td>1426</td>\n",
       "      <td>162949964</td>\n",
       "      <td>삭제됨</td>\n",
       "      <td>0</td>\n",
       "      <td>NaN</td>\n",
       "      <td>NaN</td>\n",
       "      <td>NaN</td>\n",
       "    </tr>\n",
       "  </tbody>\n",
       "</table>\n",
       "<p>483 rows × 6 columns</p>\n",
       "</div>"
      ],
      "text/plain": [
       "             id status  b_pay place text delivery_fee\n",
       "2     162806215    삭제됨      0   NaN  NaN          NaN\n",
       "4     161572473    삭제됨      0   NaN  NaN          NaN\n",
       "5     159624182    삭제됨      0   NaN  NaN          NaN\n",
       "11    163063044    삭제됨      0   NaN  NaN          NaN\n",
       "12    151970858    삭제됨      0   NaN  NaN          NaN\n",
       "...         ...    ...    ...   ...  ...          ...\n",
       "1420  160809748    삭제됨      0   NaN  NaN          NaN\n",
       "1421  159900430    삭제됨      0   NaN  NaN          NaN\n",
       "1424  163149174    삭제됨      0   NaN  NaN          NaN\n",
       "1425  160955756    삭제됨      0   NaN  NaN          NaN\n",
       "1426  162949964    삭제됨      0   NaN  NaN          NaN\n",
       "\n",
       "[483 rows x 6 columns]"
      ]
     },
     "execution_count": 52,
     "metadata": {},
     "output_type": "execute_result"
    }
   ],
   "source": [
    "dff[dff['status'] == '삭제됨']"
   ]
  },
  {
   "cell_type": "markdown",
   "metadata": {},
   "source": [
    "# 거래 완료된 데이터 추가 크롤링"
   ]
  },
  {
   "cell_type": "markdown",
   "metadata": {},
   "source": [
    "- 페이지 이동 `.click()` 추가해서 거래 완료된 데이터도 크롤링하도록 함"
   ]
  },
  {
   "cell_type": "code",
   "execution_count": 136,
   "metadata": {
    "ExecuteTime": {
     "end_time": "2021-12-15T07:47:37.195810Z",
     "start_time": "2021-12-15T07:28:07.397899Z"
    }
   },
   "outputs": [],
   "source": [
    "content_complete = []\n",
    "\n",
    "for cid in df[df['status'] == '거래 완료']['id']:\n",
    "    url = f'https://m.bunjang.co.kr/products/{cid}'\n",
    "    driver.get(url)\n",
    "    cnt += 1\n",
    "    tt = 3 + np.random.rand(1)[0]  \n",
    "    time.sleep(tt)\n",
    "    # 페이지 이동\n",
    "    driver.find_element_by_xpath('//*[@id=\"root\"]/div/div/div[4]/div[1]/div/div[2]/div[1]/a/div[2]/div[1]').click()\n",
    "    # 번개페이 여부\n",
    "    try : \n",
    "        b_pay = driver.find_element_by_xpath('//*[@id=\"root\"]/div/div/div[4]/div[1]/div/div[2]/div/div[2]/div/div[1]/div[1]/div[2]/div[2]/span/img').text\n",
    "        b_pay = 1\n",
    "    except:\n",
    "        b_pay = 0\n",
    "    # 거래 지역\n",
    "    try:\n",
    "        place = driver.find_element_by_xpath('//*[@id=\"root\"]/div/div/div[4]/div[1]/div/div[2]/div/div[2]/div/div[1]/div[2]/div[2]/div[4]/div[2]').text\n",
    "    except:\n",
    "        place = None\n",
    "    # 상품 정보 : 판매자가 등록한 설명\n",
    "    try:\n",
    "        text = driver.find_element_by_xpath('//*[@id=\"root\"]/div/div/div[4]/div[1]/div/div[4]/div[1]/div[2]/div[1]').text\n",
    "    except:\n",
    "        text = None\n",
    "    # 배송비\n",
    "    try:\n",
    "        delivery_fee = driver.find_element_by_xpath('//*[@id=\"root\"]/div/div/div[4]/div[1]/div/div[2]/div/div[2]/div/div[1]/div[2]/div[2]/div[3]/div[2]').text\n",
    "    except:\n",
    "        delivery_fee = None\n",
    "    # 카테고리\n",
    "    try:\n",
    "        category = driver.find_element_by_xpath('//*[@id=\"root\"]/div/div/div[4]/div[1]/div/div[4]/div[1]/div[2]/div[1]/div[2]/div[3]/div[2]/div[2]/a/span').text\n",
    "    except:\n",
    "        category = None\n",
    "    # 게시글의 현 상태    \n",
    "    if driver.find_element_by_xpath('//*[@id=\"root\"]/div/div/div[4]/div/div/div[2]/div[1]').text[:9] == '이미 삭제된 상품':\n",
    "        status = '삭제됨'\n",
    "    elif driver.find_element_by_xpath('//*[@id=\"root\"]/div/div/div[4]/div/div/div[2]/div[1]').text[:10] == '이미 거래가 완료된':\n",
    "        status = '거래 완료'\n",
    "    else:\n",
    "        status ='판매중'\n",
    "    # 각 id별로 합쳐서 저장\n",
    "    content_dict = {'id':cid, 'status': status, 'b_pay':b_pay, 'place':place, 'text':text, 'delivery_fee':delivery_fee, 'category': category}\n",
    "    content_complete.append(content_dict)\n",
    "# 데이터 프레임으로 만든 후 저장\n",
    "df_complete = pd.DataFrame(content_complete)\n",
    "df_complete.to_csv('ad_content_data_complete.csv', index=False)"
   ]
  },
  {
   "cell_type": "markdown",
   "metadata": {},
   "source": [
    "# 크롤링한 데이터들 병합"
   ]
  },
  {
   "cell_type": "code",
   "execution_count": 141,
   "metadata": {
    "ExecuteTime": {
     "end_time": "2021-12-15T07:56:05.279399Z",
     "start_time": "2021-12-15T07:56:05.193118Z"
    }
   },
   "outputs": [],
   "source": [
    "ad_c = pd.read_csv('data/ad_content_data.csv')\n",
    "ad_c_new = pd.read_csv('data/ad_content_data_new.csv')\n",
    "ad_c_comp = pd.read_csv('data/ad_content_data_complete.csv')"
   ]
  },
  {
   "cell_type": "markdown",
   "metadata": {},
   "source": [
    "- 거래 완료된 따로 크롤링 후 병합"
   ]
  },
  {
   "cell_type": "code",
   "execution_count": 202,
   "metadata": {
    "ExecuteTime": {
     "end_time": "2021-12-15T08:06:07.727981Z",
     "start_time": "2021-12-15T08:06:07.719004Z"
    }
   },
   "outputs": [],
   "source": [
    "# 거래완료인 데이터들 drop\n",
    "complete_ind = ad_c[ad_c['status']=='거래 완료'].index.tolist()\n",
    "ad_drop = ad_c.drop(complete_ind)\n",
    "# 거래완료된 상품들에 대해 새로 크롤링한 데이터 추가\n",
    "ad_new = ad_drop.append(ad_c_comp)\n",
    "ad_new = ad_new.reset_index().drop('index', axis=1)"
   ]
  },
  {
   "cell_type": "code",
   "execution_count": 213,
   "metadata": {
    "ExecuteTime": {
     "end_time": "2021-12-15T08:08:30.553656Z",
     "start_time": "2021-12-15T08:08:30.534705Z"
    }
   },
   "outputs": [
    {
     "data": {
      "text/html": [
       "<div>\n",
       "<style scoped>\n",
       "    .dataframe tbody tr th:only-of-type {\n",
       "        vertical-align: middle;\n",
       "    }\n",
       "\n",
       "    .dataframe tbody tr th {\n",
       "        vertical-align: top;\n",
       "    }\n",
       "\n",
       "    .dataframe thead th {\n",
       "        text-align: right;\n",
       "    }\n",
       "</style>\n",
       "<table border=\"1\" class=\"dataframe\">\n",
       "  <thead>\n",
       "    <tr style=\"text-align: right;\">\n",
       "      <th></th>\n",
       "      <th>id</th>\n",
       "      <th>status</th>\n",
       "      <th>b_pay</th>\n",
       "      <th>place</th>\n",
       "      <th>text</th>\n",
       "      <th>delivery_fee</th>\n",
       "      <th>category</th>\n",
       "    </tr>\n",
       "  </thead>\n",
       "  <tbody>\n",
       "    <tr>\n",
       "      <td>0</td>\n",
       "      <td>157826057</td>\n",
       "      <td>판매중</td>\n",
       "      <td>1</td>\n",
       "      <td>서울특별시 용산구 한강로동</td>\n",
       "      <td>상품정보\\n[ 컴퓨터 상세 사양 ] \\n(SSD, 케이스만 신품, 나머지 중고)\\n...</td>\n",
       "      <td>배송비포함</td>\n",
       "      <td>데스크탑</td>\n",
       "    </tr>\n",
       "    <tr>\n",
       "      <td>2</td>\n",
       "      <td>162806215</td>\n",
       "      <td>삭제됨</td>\n",
       "      <td>0</td>\n",
       "      <td>NaN</td>\n",
       "      <td>NaN</td>\n",
       "      <td>NaN</td>\n",
       "      <td>None</td>\n",
       "    </tr>\n",
       "    <tr>\n",
       "      <td>3</td>\n",
       "      <td>152625380</td>\n",
       "      <td>판매중</td>\n",
       "      <td>1</td>\n",
       "      <td>서울특별시 강남구 논현2동</td>\n",
       "      <td>상품정보\\n★ 번개장터 구매고객 특별이벤트 ★\\n\\n1,구입후 중고폰 100일 제품...</td>\n",
       "      <td>배송비포함</td>\n",
       "      <td>스마트폰</td>\n",
       "    </tr>\n",
       "    <tr>\n",
       "      <td>4</td>\n",
       "      <td>161572473</td>\n",
       "      <td>삭제됨</td>\n",
       "      <td>0</td>\n",
       "      <td>NaN</td>\n",
       "      <td>NaN</td>\n",
       "      <td>NaN</td>\n",
       "      <td>None</td>\n",
       "    </tr>\n",
       "    <tr>\n",
       "      <td>5</td>\n",
       "      <td>159624182</td>\n",
       "      <td>삭제됨</td>\n",
       "      <td>0</td>\n",
       "      <td>NaN</td>\n",
       "      <td>NaN</td>\n",
       "      <td>NaN</td>\n",
       "      <td>None</td>\n",
       "    </tr>\n",
       "    <tr>\n",
       "      <td>...</td>\n",
       "      <td>...</td>\n",
       "      <td>...</td>\n",
       "      <td>...</td>\n",
       "      <td>...</td>\n",
       "      <td>...</td>\n",
       "      <td>...</td>\n",
       "      <td>...</td>\n",
       "    </tr>\n",
       "    <tr>\n",
       "      <td>289</td>\n",
       "      <td>155602263</td>\n",
       "      <td>판매중</td>\n",
       "      <td>1</td>\n",
       "      <td>경기도 김포시 사우동</td>\n",
       "      <td>상품정보\\n▲LG G7 (A급)  64GB 블루\\n\\n외관은 생활기스 조금 있으며 ...</td>\n",
       "      <td>배송비 별도</td>\n",
       "      <td>스마트폰</td>\n",
       "    </tr>\n",
       "    <tr>\n",
       "      <td>290</td>\n",
       "      <td>160744536</td>\n",
       "      <td>판매중</td>\n",
       "      <td>1</td>\n",
       "      <td>서울특별시 용산구 한강로동</td>\n",
       "      <td>상품정보\\nQHD 포토샵, 영상편집OK, 최상의 게이밍 성능!!\\n\\n✨ 신품(정품...</td>\n",
       "      <td>배송비포함</td>\n",
       "      <td>데스크탑</td>\n",
       "    </tr>\n",
       "    <tr>\n",
       "      <td>291</td>\n",
       "      <td>162671672</td>\n",
       "      <td>판매중</td>\n",
       "      <td>0</td>\n",
       "      <td>서울특별시 관악구 청룡동</td>\n",
       "      <td>상품정보\\n가슴 50\\n기장 62\\n바지기장 90\\n실크100%\\n물세탁 가능한 실...</td>\n",
       "      <td>배송비 별도</td>\n",
       "      <td>언더웨어/홈웨어</td>\n",
       "    </tr>\n",
       "    <tr>\n",
       "      <td>292</td>\n",
       "      <td>162431076</td>\n",
       "      <td>판매중</td>\n",
       "      <td>0</td>\n",
       "      <td>경기도 평택시 신장1동</td>\n",
       "      <td>상품정보\\n♥ 핸드폰장인만의 혜택 ♥\\n\\n1.전상품 필름 + 케이스 + 고속충전케...</td>\n",
       "      <td>배송비포함</td>\n",
       "      <td>스마트폰</td>\n",
       "    </tr>\n",
       "    <tr>\n",
       "      <td>293</td>\n",
       "      <td>156423859</td>\n",
       "      <td>판매중</td>\n",
       "      <td>1</td>\n",
       "      <td>경기도 부천시 중1동</td>\n",
       "      <td>상품정보\\nno.45301\\n\\n○등급 : S급\\n○용량 : 256GB\\n○색상 :...</td>\n",
       "      <td>배송비 별도</td>\n",
       "      <td>스마트폰</td>\n",
       "    </tr>\n",
       "  </tbody>\n",
       "</table>\n",
       "<p>1426 rows × 7 columns</p>\n",
       "</div>"
      ],
      "text/plain": [
       "            id status  b_pay           place  \\\n",
       "0    157826057    판매중      1  서울특별시 용산구 한강로동   \n",
       "2    162806215    삭제됨      0             NaN   \n",
       "3    152625380    판매중      1  서울특별시 강남구 논현2동   \n",
       "4    161572473    삭제됨      0             NaN   \n",
       "5    159624182    삭제됨      0             NaN   \n",
       "..         ...    ...    ...             ...   \n",
       "289  155602263    판매중      1     경기도 김포시 사우동   \n",
       "290  160744536    판매중      1  서울특별시 용산구 한강로동   \n",
       "291  162671672    판매중      0   서울특별시 관악구 청룡동   \n",
       "292  162431076    판매중      0    경기도 평택시 신장1동   \n",
       "293  156423859    판매중      1     경기도 부천시 중1동   \n",
       "\n",
       "                                                  text delivery_fee  category  \n",
       "0    상품정보\\n[ 컴퓨터 상세 사양 ] \\n(SSD, 케이스만 신품, 나머지 중고)\\n...        배송비포함      데스크탑  \n",
       "2                                                  NaN          NaN      None  \n",
       "3    상품정보\\n★ 번개장터 구매고객 특별이벤트 ★\\n\\n1,구입후 중고폰 100일 제품...        배송비포함      스마트폰  \n",
       "4                                                  NaN          NaN      None  \n",
       "5                                                  NaN          NaN      None  \n",
       "..                                                 ...          ...       ...  \n",
       "289  상품정보\\n▲LG G7 (A급)  64GB 블루\\n\\n외관은 생활기스 조금 있으며 ...       배송비 별도      스마트폰  \n",
       "290  상품정보\\nQHD 포토샵, 영상편집OK, 최상의 게이밍 성능!!\\n\\n✨ 신품(정품...        배송비포함      데스크탑  \n",
       "291  상품정보\\n가슴 50\\n기장 62\\n바지기장 90\\n실크100%\\n물세탁 가능한 실...       배송비 별도  언더웨어/홈웨어  \n",
       "292  상품정보\\n♥ 핸드폰장인만의 혜택 ♥\\n\\n1.전상품 필름 + 케이스 + 고속충전케...        배송비포함      스마트폰  \n",
       "293  상품정보\\nno.45301\\n\\n○등급 : S급\\n○용량 : 256GB\\n○색상 :...       배송비 별도      스마트폰  \n",
       "\n",
       "[1426 rows x 7 columns]"
      ]
     },
     "execution_count": 213,
     "metadata": {},
     "output_type": "execute_result"
    }
   ],
   "source": [
    "ad_new"
   ]
  },
  {
   "cell_type": "markdown",
   "metadata": {},
   "source": [
    "- 크롤링 도중에 거래완료 -> 삭제 된 데이터 하나 수동으로 처리"
   ]
  },
  {
   "cell_type": "code",
   "execution_count": 277,
   "metadata": {
    "ExecuteTime": {
     "end_time": "2021-12-15T08:35:57.649735Z",
     "start_time": "2021-12-15T08:35:57.639758Z"
    }
   },
   "outputs": [],
   "source": [
    "ad_new = ad_new.append({'id':161397461, 'status': '삭제됨', 'b_pay':0, 'place':None, 'text':None, 'delivery_fee':None, 'category': None}, ignore_index=True)"
   ]
  },
  {
   "cell_type": "markdown",
   "metadata": {},
   "source": [
    "### 결측치 확인"
   ]
  },
  {
   "cell_type": "markdown",
   "metadata": {},
   "source": [
    "결측치 2개 확인"
   ]
  },
  {
   "cell_type": "code",
   "execution_count": 235,
   "metadata": {
    "ExecuteTime": {
     "end_time": "2021-12-15T08:14:58.493031Z",
     "start_time": "2021-12-15T08:14:58.485052Z"
    }
   },
   "outputs": [
    {
     "data": {
      "text/plain": [
       "2"
      ]
     },
     "execution_count": 235,
     "metadata": {},
     "output_type": "execute_result"
    }
   ],
   "source": [
    "ad_new[ad_new['status']!='삭제됨']['category'].isnull()"
   ]
  },
  {
   "cell_type": "markdown",
   "metadata": {},
   "source": [
    "결측치 인덱스 찾기"
   ]
  },
  {
   "cell_type": "code",
   "execution_count": 238,
   "metadata": {
    "ExecuteTime": {
     "end_time": "2021-12-15T08:16:00.146550Z",
     "start_time": "2021-12-15T08:16:00.133616Z"
    }
   },
   "outputs": [
    {
     "data": {
      "text/plain": [
       "561    NaN\n",
       "883    NaN\n",
       "Name: category, dtype: object"
      ]
     },
     "execution_count": 238,
     "metadata": {},
     "output_type": "execute_result"
    }
   ],
   "source": [
    "## 결측치 2개 확인\n",
    "ad_non['category'][ad_non['category'].isna()]"
   ]
  },
  {
   "cell_type": "markdown",
   "metadata": {},
   "source": [
    "- 수동으로 결측 채워주기 (크롤링 과정에서 누락된 듯)"
   ]
  },
  {
   "cell_type": "code",
   "execution_count": 239,
   "metadata": {
    "ExecuteTime": {
     "end_time": "2021-12-15T08:16:09.127048Z",
     "start_time": "2021-12-15T08:16:09.118074Z"
    }
   },
   "outputs": [
    {
     "data": {
      "text/plain": [
       "id                         133347162\n",
       "status                           판매중\n",
       "b_pay                              1\n",
       "place                             전국\n",
       "text            13fw 릭오웬스 디트로이트컷 코팅진\n",
       "delivery_fee                  배송비 별도\n",
       "category                         NaN\n",
       "Name: 561, dtype: object"
      ]
     },
     "execution_count": 239,
     "metadata": {},
     "output_type": "execute_result"
    }
   ],
   "source": [
    "ad_non.loc[561]"
   ]
  },
  {
   "cell_type": "code",
   "execution_count": 271,
   "metadata": {
    "ExecuteTime": {
     "end_time": "2021-12-15T08:22:38.315894Z",
     "start_time": "2021-12-15T08:22:38.309912Z"
    }
   },
   "outputs": [],
   "source": [
    "ad_new.loc[561, 'category'] = '이어폰/헤드폰'"
   ]
  },
  {
   "cell_type": "code",
   "execution_count": 240,
   "metadata": {
    "ExecuteTime": {
     "end_time": "2021-12-15T08:16:42.502128Z",
     "start_time": "2021-12-15T08:16:42.493151Z"
    }
   },
   "outputs": [
    {
     "data": {
      "text/plain": [
       "id                                                      163101393\n",
       "status                                                        판매중\n",
       "b_pay                                                           0\n",
       "place                                                경기도 파주시 운정3동\n",
       "text            상품정보\\n개봉만 한 진열 상품 입니다\\n거래지역\\n경기도 파주시 운정3동\\n카테고...\n",
       "delivery_fee                                               배송비 별도\n",
       "category                                                      NaN\n",
       "Name: 883, dtype: object"
      ]
     },
     "execution_count": 240,
     "metadata": {},
     "output_type": "execute_result"
    }
   ],
   "source": [
    "ad_non.loc[883]"
   ]
  },
  {
   "cell_type": "code",
   "execution_count": 268,
   "metadata": {
    "ExecuteTime": {
     "end_time": "2021-12-15T08:22:10.446726Z",
     "start_time": "2021-12-15T08:22:10.441736Z"
    }
   },
   "outputs": [],
   "source": [
    "ad_new.loc[883, 'category'] = '유모차'"
   ]
  },
  {
   "cell_type": "markdown",
   "metadata": {},
   "source": [
    "### 확인"
   ]
  },
  {
   "cell_type": "markdown",
   "metadata": {},
   "source": [
    "결측치의 개수와 삭제됨의 개수가 일치함을 확인"
   ]
  },
  {
   "cell_type": "code",
   "execution_count": 282,
   "metadata": {
    "ExecuteTime": {
     "end_time": "2021-12-15T08:38:07.129494Z",
     "start_time": "2021-12-15T08:38:07.119554Z"
    }
   },
   "outputs": [
    {
     "data": {
      "text/plain": [
       "484"
      ]
     },
     "execution_count": 282,
     "metadata": {},
     "output_type": "execute_result"
    }
   ],
   "source": [
    "ad_new.category.isnull().sum()"
   ]
  },
  {
   "cell_type": "markdown",
   "metadata": {},
   "source": [
    "데이터가 없어서 `None`를 넣어 준 데이터 말고는 결측이 없는 것 확인"
   ]
  },
  {
   "cell_type": "code",
   "execution_count": 284,
   "metadata": {
    "ExecuteTime": {
     "end_time": "2021-12-15T08:38:28.840441Z",
     "start_time": "2021-12-15T08:38:28.834456Z"
    }
   },
   "outputs": [
    {
     "data": {
      "text/plain": [
       "484"
      ]
     },
     "execution_count": 284,
     "metadata": {},
     "output_type": "execute_result"
    }
   ],
   "source": [
    "len(ad_new[ad_new['status']=='삭제됨'])"
   ]
  },
  {
   "cell_type": "markdown",
   "metadata": {},
   "source": [
    "# 데이터 저장"
   ]
  },
  {
   "cell_type": "code",
   "execution_count": 276,
   "metadata": {
    "ExecuteTime": {
     "end_time": "2021-12-15T08:23:37.954723Z",
     "start_time": "2021-12-15T08:23:37.911858Z"
    }
   },
   "outputs": [],
   "source": [
    "ad_new.to_csv('data/ad_new.csv', index=False)"
   ]
  },
  {
   "cell_type": "code",
   "execution_count": null,
   "metadata": {},
   "outputs": [],
   "source": []
  }
 ],
 "metadata": {
  "kernelspec": {
   "display_name": "Python 3",
   "language": "python",
   "name": "python3"
  },
  "language_info": {
   "codemirror_mode": {
    "name": "ipython",
    "version": 3
   },
   "file_extension": ".py",
   "mimetype": "text/x-python",
   "name": "python",
   "nbconvert_exporter": "python",
   "pygments_lexer": "ipython3",
   "version": "3.8.8"
  },
  "toc": {
   "base_numbering": 1,
   "nav_menu": {},
   "number_sections": true,
   "sideBar": true,
   "skip_h1_title": false,
   "title_cell": "Table of Contents",
   "title_sidebar": "Contents",
   "toc_cell": false,
   "toc_position": {},
   "toc_section_display": true,
   "toc_window_display": false
  },
  "varInspector": {
   "cols": {
    "lenName": 16,
    "lenType": 16,
    "lenVar": 40
   },
   "kernels_config": {
    "python": {
     "delete_cmd_postfix": "",
     "delete_cmd_prefix": "del ",
     "library": "var_list.py",
     "varRefreshCmd": "print(var_dic_list())"
    },
    "r": {
     "delete_cmd_postfix": ") ",
     "delete_cmd_prefix": "rm(",
     "library": "var_list.r",
     "varRefreshCmd": "cat(var_dic_list()) "
    }
   },
   "types_to_exclude": [
    "module",
    "function",
    "builtin_function_or_method",
    "instance",
    "_Feature"
   ],
   "window_display": false
  }
 },
 "nbformat": 4,
 "nbformat_minor": 2
}
