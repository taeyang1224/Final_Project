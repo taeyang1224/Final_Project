{
 "cells": [
  {
   "cell_type": "code",
   "execution_count": 1,
   "id": "5f6263ad",
   "metadata": {
    "ExecuteTime": {
     "end_time": "2021-12-16T01:25:04.879562Z",
     "start_time": "2021-12-16T01:25:04.099776Z"
    }
   },
   "outputs": [],
   "source": [
    "import pandas as pd"
   ]
  },
  {
   "cell_type": "code",
   "execution_count": 89,
   "id": "07286942",
   "metadata": {
    "ExecuteTime": {
     "end_time": "2021-12-16T07:21:01.004601Z",
     "start_time": "2021-12-16T07:21:00.965689Z"
    }
   },
   "outputs": [
    {
     "data": {
      "text/html": [
       "<div>\n",
       "<style scoped>\n",
       "    .dataframe tbody tr th:only-of-type {\n",
       "        vertical-align: middle;\n",
       "    }\n",
       "\n",
       "    .dataframe tbody tr th {\n",
       "        vertical-align: top;\n",
       "    }\n",
       "\n",
       "    .dataframe thead th {\n",
       "        text-align: right;\n",
       "    }\n",
       "</style>\n",
       "<table border=\"1\" class=\"dataframe\">\n",
       "  <thead>\n",
       "    <tr style=\"text-align: right;\">\n",
       "      <th></th>\n",
       "      <th>content_id</th>\n",
       "      <th>user_id</th>\n",
       "      <th>name</th>\n",
       "      <th>keyword</th>\n",
       "      <th>price</th>\n",
       "      <th>flag_used</th>\n",
       "      <th>category_id_1</th>\n",
       "      <th>category_id_2</th>\n",
       "      <th>category_id_3</th>\n",
       "      <th>emergency_cnt</th>\n",
       "      <th>comment_cnt</th>\n",
       "      <th>interest</th>\n",
       "      <th>pfavcnt</th>\n",
       "    </tr>\n",
       "  </thead>\n",
       "  <tbody>\n",
       "    <tr>\n",
       "      <th>0</th>\n",
       "      <td>157826057</td>\n",
       "      <td>114088</td>\n",
       "      <td>인텔 4세대 i5-4670 사무용 컴퓨터 팝니다.</td>\n",
       "      <td>사무용컴퓨터,사무용PC,중고사무용컴퓨터,중고사무용PC,사무용중고컴퓨터</td>\n",
       "      <td>250000</td>\n",
       "      <td>1</td>\n",
       "      <td>600</td>\n",
       "      <td>600100</td>\n",
       "      <td>600100006</td>\n",
       "      <td>0</td>\n",
       "      <td>0</td>\n",
       "      <td>714</td>\n",
       "      <td>4</td>\n",
       "    </tr>\n",
       "    <tr>\n",
       "      <th>1</th>\n",
       "      <td>162431268</td>\n",
       "      <td>3247363</td>\n",
       "      <td>갤럭시노트10+ 512GB 글로우 (무잔상) ! 0821</td>\n",
       "      <td>갤럭시노트10,노트10플러스,노트10플러스중고,노트10플러스공기,노트10플러스글로</td>\n",
       "      <td>439000</td>\n",
       "      <td>1</td>\n",
       "      <td>600</td>\n",
       "      <td>600700</td>\n",
       "      <td>600700001</td>\n",
       "      <td>0</td>\n",
       "      <td>0</td>\n",
       "      <td>39</td>\n",
       "      <td>2</td>\n",
       "    </tr>\n",
       "    <tr>\n",
       "      <th>2</th>\n",
       "      <td>162806215</td>\n",
       "      <td>12851816</td>\n",
       "      <td>#한정판매#갤럭시S21 256GB 화이트 SS급 중고폰공기계[75333]</td>\n",
       "      <td>갤럭시S21,갤럭시S21화이트,S21화이트</td>\n",
       "      <td>620000</td>\n",
       "      <td>1</td>\n",
       "      <td>600</td>\n",
       "      <td>600700</td>\n",
       "      <td>600700001</td>\n",
       "      <td>0</td>\n",
       "      <td>0</td>\n",
       "      <td>145</td>\n",
       "      <td>5</td>\n",
       "    </tr>\n",
       "    <tr>\n",
       "      <th>3</th>\n",
       "      <td>152625380</td>\n",
       "      <td>2347538</td>\n",
       "      <td>#당일발송#갤럭시S9플러스 64G 대량판매 등급별초특가!</td>\n",
       "      <td>S9플러스,S9플러스중고,갤럭시S9플러스</td>\n",
       "      <td>195000</td>\n",
       "      <td>1</td>\n",
       "      <td>600</td>\n",
       "      <td>600700</td>\n",
       "      <td>600700001</td>\n",
       "      <td>0</td>\n",
       "      <td>0</td>\n",
       "      <td>234</td>\n",
       "      <td>8</td>\n",
       "    </tr>\n",
       "    <tr>\n",
       "      <th>4</th>\n",
       "      <td>161572473</td>\n",
       "      <td>12927760</td>\n",
       "      <td>포터2카고 중고화물차 팝니다.</td>\n",
       "      <td>포터2,포터중고차,포터2카고,포터2중고,포터2카고중고</td>\n",
       "      <td>9800000</td>\n",
       "      <td>1</td>\n",
       "      <td>750</td>\n",
       "      <td>750200</td>\n",
       "      <td>750200700</td>\n",
       "      <td>0</td>\n",
       "      <td>0</td>\n",
       "      <td>388</td>\n",
       "      <td>4</td>\n",
       "    </tr>\n",
       "    <tr>\n",
       "      <th>...</th>\n",
       "      <td>...</td>\n",
       "      <td>...</td>\n",
       "      <td>...</td>\n",
       "      <td>...</td>\n",
       "      <td>...</td>\n",
       "      <td>...</td>\n",
       "      <td>...</td>\n",
       "      <td>...</td>\n",
       "      <td>...</td>\n",
       "      <td>...</td>\n",
       "      <td>...</td>\n",
       "      <td>...</td>\n",
       "      <td>...</td>\n",
       "    </tr>\n",
       "    <tr>\n",
       "      <th>1422</th>\n",
       "      <td>130344977</td>\n",
       "      <td>948674</td>\n",
       "      <td>*당일발송*아이폰6s 최저가 판매</td>\n",
       "      <td>NaN</td>\n",
       "      <td>109000</td>\n",
       "      <td>2</td>\n",
       "      <td>600</td>\n",
       "      <td>600700</td>\n",
       "      <td>600700001</td>\n",
       "      <td>0</td>\n",
       "      <td>0</td>\n",
       "      <td>15612</td>\n",
       "      <td>290</td>\n",
       "    </tr>\n",
       "    <tr>\n",
       "      <th>1423</th>\n",
       "      <td>156423859</td>\n",
       "      <td>10255755</td>\n",
       "      <td>노트10플러스  [블랙]  45301  (S급)</td>\n",
       "      <td>노트10+,갤럭시노트10+,노트10플러스,갤럭시노트10플러스,노트10plus</td>\n",
       "      <td>450000</td>\n",
       "      <td>1</td>\n",
       "      <td>600</td>\n",
       "      <td>600700</td>\n",
       "      <td>600700001</td>\n",
       "      <td>0</td>\n",
       "      <td>0</td>\n",
       "      <td>1207</td>\n",
       "      <td>18</td>\n",
       "    </tr>\n",
       "    <tr>\n",
       "      <th>1424</th>\n",
       "      <td>163149174</td>\n",
       "      <td>10197556</td>\n",
       "      <td>노트20 256기가 블랙 A급 48516</td>\n",
       "      <td>노트20,갤럭시노트20,note20</td>\n",
       "      <td>510000</td>\n",
       "      <td>1</td>\n",
       "      <td>600</td>\n",
       "      <td>600700</td>\n",
       "      <td>600700001</td>\n",
       "      <td>0</td>\n",
       "      <td>0</td>\n",
       "      <td>99</td>\n",
       "      <td>3</td>\n",
       "    </tr>\n",
       "    <tr>\n",
       "      <th>1425</th>\n",
       "      <td>160955756</td>\n",
       "      <td>10197556</td>\n",
       "      <td>노트20 256기가 브론즈 A급 48011</td>\n",
       "      <td>노트20,갤럭시노트20,note20</td>\n",
       "      <td>510000</td>\n",
       "      <td>1</td>\n",
       "      <td>600</td>\n",
       "      <td>600700</td>\n",
       "      <td>600700001</td>\n",
       "      <td>0</td>\n",
       "      <td>0</td>\n",
       "      <td>617</td>\n",
       "      <td>12</td>\n",
       "    </tr>\n",
       "    <tr>\n",
       "      <th>1426</th>\n",
       "      <td>162949964</td>\n",
       "      <td>10197556</td>\n",
       "      <td>S20울트라 그레이 256기가 S급 48536</td>\n",
       "      <td>s20,s20ultra,갤럭시s20,갤럭시s20울트라,s20울트라</td>\n",
       "      <td>600000</td>\n",
       "      <td>1</td>\n",
       "      <td>600</td>\n",
       "      <td>600700</td>\n",
       "      <td>600700001</td>\n",
       "      <td>0</td>\n",
       "      <td>0</td>\n",
       "      <td>147</td>\n",
       "      <td>1</td>\n",
       "    </tr>\n",
       "  </tbody>\n",
       "</table>\n",
       "<p>1427 rows × 13 columns</p>\n",
       "</div>"
      ],
      "text/plain": [
       "      content_id   user_id                                      name  \\\n",
       "0      157826057    114088               인텔 4세대 i5-4670 사무용 컴퓨터 팝니다.   \n",
       "1      162431268   3247363           갤럭시노트10+ 512GB 글로우 (무잔상) ! 0821   \n",
       "2      162806215  12851816  #한정판매#갤럭시S21 256GB 화이트 SS급 중고폰공기계[75333]   \n",
       "3      152625380   2347538           #당일발송#갤럭시S9플러스 64G 대량판매 등급별초특가!   \n",
       "4      161572473  12927760                          포터2카고 중고화물차 팝니다.   \n",
       "...          ...       ...                                       ...   \n",
       "1422   130344977    948674                        *당일발송*아이폰6s 최저가 판매   \n",
       "1423   156423859  10255755                노트10플러스  [블랙]  45301  (S급)   \n",
       "1424   163149174  10197556                    노트20 256기가 블랙 A급 48516   \n",
       "1425   160955756  10197556                   노트20 256기가 브론즈 A급 48011   \n",
       "1426   162949964  10197556                 S20울트라 그레이 256기가 S급 48536   \n",
       "\n",
       "                                            keyword    price  flag_used  \\\n",
       "0            사무용컴퓨터,사무용PC,중고사무용컴퓨터,중고사무용PC,사무용중고컴퓨터   250000          1   \n",
       "1     갤럭시노트10,노트10플러스,노트10플러스중고,노트10플러스공기,노트10플러스글로   439000          1   \n",
       "2                           갤럭시S21,갤럭시S21화이트,S21화이트   620000          1   \n",
       "3                            S9플러스,S9플러스중고,갤럭시S9플러스   195000          1   \n",
       "4                     포터2,포터중고차,포터2카고,포터2중고,포터2카고중고  9800000          1   \n",
       "...                                             ...      ...        ...   \n",
       "1422                                            NaN   109000          2   \n",
       "1423     노트10+,갤럭시노트10+,노트10플러스,갤럭시노트10플러스,노트10plus   450000          1   \n",
       "1424                            노트20,갤럭시노트20,note20   510000          1   \n",
       "1425                            노트20,갤럭시노트20,note20   510000          1   \n",
       "1426           s20,s20ultra,갤럭시s20,갤럭시s20울트라,s20울트라   600000          1   \n",
       "\n",
       "      category_id_1  category_id_2  category_id_3  emergency_cnt  comment_cnt  \\\n",
       "0               600         600100      600100006              0            0   \n",
       "1               600         600700      600700001              0            0   \n",
       "2               600         600700      600700001              0            0   \n",
       "3               600         600700      600700001              0            0   \n",
       "4               750         750200      750200700              0            0   \n",
       "...             ...            ...            ...            ...          ...   \n",
       "1422            600         600700      600700001              0            0   \n",
       "1423            600         600700      600700001              0            0   \n",
       "1424            600         600700      600700001              0            0   \n",
       "1425            600         600700      600700001              0            0   \n",
       "1426            600         600700      600700001              0            0   \n",
       "\n",
       "      interest  pfavcnt  \n",
       "0          714        4  \n",
       "1           39        2  \n",
       "2          145        5  \n",
       "3          234        8  \n",
       "4          388        4  \n",
       "...        ...      ...  \n",
       "1422     15612      290  \n",
       "1423      1207       18  \n",
       "1424        99        3  \n",
       "1425       617       12  \n",
       "1426       147        1  \n",
       "\n",
       "[1427 rows x 13 columns]"
      ]
     },
     "execution_count": 89,
     "metadata": {},
     "output_type": "execute_result"
    }
   ],
   "source": [
    "df = pd.read_csv(\"./ad/data/ad.csv\")\n",
    "df"
   ]
  },
  {
   "cell_type": "code",
   "execution_count": 90,
   "id": "a6fd035f",
   "metadata": {
    "ExecuteTime": {
     "end_time": "2021-12-16T07:21:05.550129Z",
     "start_time": "2021-12-16T07:21:05.532167Z"
    }
   },
   "outputs": [
    {
     "data": {
      "text/plain": [
       "0      1177\n",
       "1       103\n",
       "2        48\n",
       "3        24\n",
       "4        22\n",
       "5        10\n",
       "6         8\n",
       "7         8\n",
       "8         5\n",
       "9         4\n",
       "10        3\n",
       "16        3\n",
       "41        2\n",
       "272       1\n",
       "67        1\n",
       "62        1\n",
       "46        1\n",
       "11        1\n",
       "31        1\n",
       "25        1\n",
       "22        1\n",
       "13        1\n",
       "273       1\n",
       "Name: emergency_cnt, dtype: int64"
      ]
     },
     "execution_count": 90,
     "metadata": {},
     "output_type": "execute_result"
    }
   ],
   "source": [
    "# 신고 건수가 높은 outlier 찾기 \n",
    "df[\"emergency_cnt\"].value_counts(ascending=False)"
   ]
  },
  {
   "cell_type": "code",
   "execution_count": 96,
   "id": "85eb00c4",
   "metadata": {
    "ExecuteTime": {
     "end_time": "2021-12-16T07:32:20.362134Z",
     "start_time": "2021-12-16T07:32:20.326248Z"
    }
   },
   "outputs": [
    {
     "data": {
      "text/plain": [
       "count    1427.000000\n",
       "mean        1.100911\n",
       "std        10.804247\n",
       "min         0.000000\n",
       "25%         0.000000\n",
       "50%         0.000000\n",
       "75%         0.000000\n",
       "max       273.000000\n",
       "Name: emergency_cnt, dtype: float64"
      ]
     },
     "execution_count": 96,
     "metadata": {},
     "output_type": "execute_result"
    }
   ],
   "source": [
    "# 신고 건수의 분포 확인\n",
    "df[\"emergency_cnt\"].describe()"
   ]
  },
  {
   "cell_type": "code",
   "execution_count": 91,
   "id": "52f5fcc0",
   "metadata": {
    "ExecuteTime": {
     "end_time": "2021-12-16T07:21:11.568262Z",
     "start_time": "2021-12-16T07:21:11.551314Z"
    }
   },
   "outputs": [
    {
     "data": {
      "text/plain": [
       "array([31537985, 75221723], dtype=int64)"
      ]
     },
     "execution_count": 91,
     "metadata": {},
     "output_type": "execute_result"
    }
   ],
   "source": [
    "# 신고 수 270이 넘는 \"content_id\"는 2개([75221723, 31537985])이다.\n",
    "df[df[\"emergency_cnt\"] > 270][\"content_id\"].unique()"
   ]
  },
  {
   "cell_type": "code",
   "execution_count": 92,
   "id": "919d52b3",
   "metadata": {
    "ExecuteTime": {
     "end_time": "2021-12-16T07:21:16.709912Z",
     "start_time": "2021-12-16T07:21:16.699699Z"
    }
   },
   "outputs": [
    {
     "data": {
      "text/plain": [
       "content_id                       75221723\n",
       "user_id                             96166\n",
       "name             -16kg 감량후기 다이어트 선슬 차전자피!\n",
       "keyword            다이어트,차전자피,다이어트약,다이어트식품\n",
       "price                               19900\n",
       "flag_used                               2\n",
       "category_id_1                         410\n",
       "category_id_2                      410900\n",
       "category_id_3                      410900\n",
       "emergency_cnt                         273\n",
       "comment_cnt                          1209\n",
       "interest                          1646378\n",
       "pfavcnt                             31058\n",
       "Name: 1180, dtype: object"
      ]
     },
     "execution_count": 92,
     "metadata": {},
     "output_type": "execute_result"
    }
   ],
   "source": [
    "# 신고 수 273건은 미용품(다이어트식품)\n",
    "df.loc[df[\"content_id\"] == 75221723].iloc[0]"
   ]
  },
  {
   "cell_type": "code",
   "execution_count": 93,
   "id": "a51f01e2",
   "metadata": {
    "ExecuteTime": {
     "end_time": "2021-12-16T07:21:19.537176Z",
     "start_time": "2021-12-16T07:21:19.516789Z"
    }
   },
   "outputs": [
    {
     "data": {
      "text/plain": [
       "content_id                              31537985\n",
       "user_id                                  2617066\n",
       "name             미백/여드름 마스크 트러블 불만족 환불! 후기 1400개\n",
       "keyword                 폼클렌징,여드름,천연비누,여드름비누,모공축소\n",
       "price                                      11000\n",
       "flag_used                                      2\n",
       "category_id_1                                410\n",
       "category_id_2                             410100\n",
       "category_id_3                          410100400\n",
       "emergency_cnt                                272\n",
       "comment_cnt                                  649\n",
       "interest                                 3511826\n",
       "pfavcnt                                    36484\n",
       "Name: 1075, dtype: object"
      ]
     },
     "execution_count": 93,
     "metadata": {},
     "output_type": "execute_result"
    }
   ],
   "source": [
    "# 신고 수 272건은 미용품(여드름비누)\n",
    "df.loc[df[\"content_id\"] == 31537985].iloc[0]"
   ]
  },
  {
   "cell_type": "markdown",
   "id": "c2b99dbb",
   "metadata": {},
   "source": [
    "-> \n",
    "outlier로 판단되는 2개의 상위 content_id를 제거하여 시각화를 진행한다."
   ]
  }
 ],
 "metadata": {
  "kernelspec": {
   "display_name": "Python 3",
   "language": "python",
   "name": "python3"
  },
  "language_info": {
   "codemirror_mode": {
    "name": "ipython",
    "version": 3
   },
   "file_extension": ".py",
   "mimetype": "text/x-python",
   "name": "python",
   "nbconvert_exporter": "python",
   "pygments_lexer": "ipython3",
   "version": "3.8.8"
  },
  "toc": {
   "base_numbering": 1,
   "nav_menu": {},
   "number_sections": true,
   "sideBar": true,
   "skip_h1_title": false,
   "title_cell": "Table of Contents",
   "title_sidebar": "Contents",
   "toc_cell": false,
   "toc_position": {},
   "toc_section_display": true,
   "toc_window_display": false
  },
  "varInspector": {
   "cols": {
    "lenName": 16,
    "lenType": 16,
    "lenVar": 40
   },
   "kernels_config": {
    "python": {
     "delete_cmd_postfix": "",
     "delete_cmd_prefix": "del ",
     "library": "var_list.py",
     "varRefreshCmd": "print(var_dic_list())"
    },
    "r": {
     "delete_cmd_postfix": ") ",
     "delete_cmd_prefix": "rm(",
     "library": "var_list.r",
     "varRefreshCmd": "cat(var_dic_list()) "
    }
   },
   "types_to_exclude": [
    "module",
    "function",
    "builtin_function_or_method",
    "instance",
    "_Feature"
   ],
   "window_display": false
  }
 },
 "nbformat": 4,
 "nbformat_minor": 5
}
