{
  "cells": [
    {
      "cell_type": "markdown",
      "source": [
        "# 데이터 불러오기"
      ],
      "metadata": {
        "id": "kJDerPbzuu9Z"
      }
    },
    {
      "cell_type": "code",
      "source": [
        "from google.colab import drive\n",
        "drive.mount('/gdrive')"
      ],
      "metadata": {
        "id": "LhSbMb8_utKy",
        "colab": {
          "base_uri": "https://localhost:8080/"
        },
        "outputId": "caa4b2fd-01f7-457e-8ef2-5d47cdca3ef3"
      },
      "execution_count": 1,
      "outputs": [
        {
          "output_type": "stream",
          "name": "stdout",
          "text": [
            "Drive already mounted at /gdrive; to attempt to forcibly remount, call drive.mount(\"/gdrive\", force_remount=True).\n"
          ]
        }
      ]
    },
    {
      "cell_type": "code",
      "source": [
        "cd '../gdrive/MyDrive/SSAC/3조'"
      ],
      "metadata": {
        "id": "Swfjd4UIu5SL",
        "colab": {
          "base_uri": "https://localhost:8080/"
        },
        "outputId": "7e22a075-c2d4-4ac3-9ff9-826bf981a90f"
      },
      "execution_count": 2,
      "outputs": [
        {
          "output_type": "stream",
          "name": "stdout",
          "text": [
            "/gdrive/.shortcut-targets-by-id/15_BxZVEQYCdGCGiQ5nexpWPc1cgHVe4w/3조\n"
          ]
        }
      ]
    },
    {
      "cell_type": "markdown",
      "source": [
        "# DeepFM"
      ],
      "metadata": {
        "id": "oxkMy15e9ucR"
      }
    },
    {
      "cell_type": "code",
      "source": [
        "!pip install -U deepctr-torch"
      ],
      "metadata": {
        "id": "L9elN7Qr39Bp"
      },
      "execution_count": null,
      "outputs": []
    },
    {
      "cell_type": "code",
      "source": [
        "import pandas as pd\n",
        "import torch\n",
        "from sklearn.metrics import log_loss, roc_auc_score\n",
        "from sklearn.model_selection import train_test_split\n",
        "from sklearn.preprocessing import LabelEncoder, MinMaxScaler, StandardScaler\n",
        "\n",
        "from deepctr_torch.inputs import SparseFeat, DenseFeat, get_feature_names\n",
        "from deepctr_torch.models import *"
      ],
      "metadata": {
        "id": "zOrzPAyu39EF"
      },
      "execution_count": 5,
      "outputs": []
    },
    {
      "cell_type": "code",
      "source": [
        "# df = pd.read_csv('data/total_data.csv')\n",
        "# df.head(2)"
      ],
      "metadata": {
        "id": "Qt_IZeBQ7M8Y"
      },
      "execution_count": 6,
      "outputs": []
    },
    {
      "cell_type": "code",
      "source": [
        "vec_df = pd.read_csv('data/vec512.csv', low_memory=False)"
      ],
      "metadata": {
        "colab": {
          "base_uri": "https://localhost:8080/"
        },
        "id": "B2R0F-KNEGz_",
        "outputId": "4de3a6dc-c806-4dae-9020-b1efc86cebb7"
      },
      "execution_count": 7,
      "outputs": [
        {
          "output_type": "stream",
          "name": "stderr",
          "text": [
            "/usr/local/lib/python3.7/dist-packages/IPython/core/interactiveshell.py:2718: DtypeWarning: Columns (6,19,20) have mixed types.Specify dtype option on import or set low_memory=False.\n",
            "  interactivity=interactivity, compiler=compiler, result=result)\n"
          ]
        }
      ]
    },
    {
      "cell_type": "code",
      "source": [
        "from sklearn.metrics import roc_auc_score\n",
        "\n",
        "grouped_label = vec_df.groupby('label').size()\n",
        "average_ctr = float(grouped_label[1]/grouped_label.sum())\n",
        "average_ctr\n",
        "\n",
        "def get_rig(train_y, test_y, pred):\n",
        "    avg_ctr = average_ctr\n",
        "    prior = log_loss(train_y, [avg_ctr]*len(train_y))\n",
        "\n",
        "    classifier = log_loss(test_y, pred)\n",
        "\n",
        "    rig = (prior - classifier) / prior\n",
        "    return rig\n"
      ],
      "metadata": {
        "id": "cjoSBvkBBIgx"
      },
      "execution_count": 12,
      "outputs": []
    },
    {
      "cell_type": "code",
      "source": [
        "sparse_features = [\n",
        "    'viewer_gender',  \n",
        "    'content_used',\n",
        "    'content_cat_1',\n",
        "    'content_cat_2',\n",
        "    'content_cat_3',\n",
        "    \"content_status\"]\n",
        "\n",
        "dense_features = [\n",
        "    'bid_price', \n",
        "    'content_price',\n",
        "    'content_emergency_count',\n",
        "    'content_comment_count',     \n",
        "    'content_views',       \n",
        "    'content_likes',    \n",
        "    'adv_follower_count',\n",
        "    'adv_grade',       \n",
        "    'adv_item_count',         \n",
        "    'adv_views', # adv_reivew drop\n",
        "    'adv_review_count',\n",
        "    'adv_comment_count',\n",
        "    'adv_pay_count',\n",
        "    'adv_parcel_post_count', \n",
        "    'adv_transfer_count', \n",
        "    'adv_chat_count',\n",
        "    'viewer_age',\n",
        "    'viewer_following_count',\n",
        "    'viewer_pay_count',\n",
        "    #\"viewer_trans_pay_count\", # viewer_trans drop\n",
        "    'viewer_transfer_count',\n",
        "    'viewer_chat_count']\n",
        "\n",
        "vec_features = [str(i) for i in range(512)]"
      ],
      "metadata": {
        "id": "8nhX_6zx4PBR"
      },
      "execution_count": 13,
      "outputs": []
    },
    {
      "cell_type": "code",
      "source": [
        "vec_df[sparse_features] = vec_df[sparse_features].fillna('-1', )\n",
        "vec_df[dense_features] = vec_df[dense_features].fillna(0, )\n",
        "target = ['label']"
      ],
      "metadata": {
        "id": "HoPkbc265JU5"
      },
      "execution_count": 14,
      "outputs": []
    },
    {
      "cell_type": "code",
      "source": [
        "vec_df.head(2)"
      ],
      "metadata": {
        "colab": {
          "base_uri": "https://localhost:8080/",
          "height": 310
        },
        "id": "Y8HQCX_h5Roi",
        "outputId": "dfa61c33-e889-40c3-ef66-515ef2742021"
      },
      "execution_count": 15,
      "outputs": [
        {
          "output_type": "execute_result",
          "data": {
            "text/html": [
              "\n",
              "  <div id=\"df-3dc0f395-2946-4641-99d5-feb8bccaaf6b\">\n",
              "    <div class=\"colab-df-container\">\n",
              "      <div>\n",
              "<style scoped>\n",
              "    .dataframe tbody tr th:only-of-type {\n",
              "        vertical-align: middle;\n",
              "    }\n",
              "\n",
              "    .dataframe tbody tr th {\n",
              "        vertical-align: top;\n",
              "    }\n",
              "\n",
              "    .dataframe thead th {\n",
              "        text-align: right;\n",
              "    }\n",
              "</style>\n",
              "<table border=\"1\" class=\"dataframe\">\n",
              "  <thead>\n",
              "    <tr style=\"text-align: right;\">\n",
              "      <th></th>\n",
              "      <th>content_id</th>\n",
              "      <th>bid_price</th>\n",
              "      <th>imp_id</th>\n",
              "      <th>imp_time</th>\n",
              "      <th>label</th>\n",
              "      <th>user_id</th>\n",
              "      <th>view_time</th>\n",
              "      <th>adv_id</th>\n",
              "      <th>content_name</th>\n",
              "      <th>content_price</th>\n",
              "      <th>content_used</th>\n",
              "      <th>content_cat_1</th>\n",
              "      <th>content_cat_2</th>\n",
              "      <th>content_cat_3</th>\n",
              "      <th>content_emergency_count</th>\n",
              "      <th>content_comment_count</th>\n",
              "      <th>content_views</th>\n",
              "      <th>content_likes</th>\n",
              "      <th>content_b_pay</th>\n",
              "      <th>content_delivery_fee</th>\n",
              "      <th>content_place</th>\n",
              "      <th>content_status</th>\n",
              "      <th>adv_follower_count</th>\n",
              "      <th>adv_grade</th>\n",
              "      <th>adv_item_count</th>\n",
              "      <th>adv_views</th>\n",
              "      <th>adv_review_count</th>\n",
              "      <th>adv_comment_count</th>\n",
              "      <th>adv_pay_count</th>\n",
              "      <th>adv_parcel_post_count</th>\n",
              "      <th>adv_transfer_count</th>\n",
              "      <th>adv_chat_count</th>\n",
              "      <th>viewer_gender</th>\n",
              "      <th>viewer_age</th>\n",
              "      <th>viewer_following_count</th>\n",
              "      <th>viewer_pay_count</th>\n",
              "      <th>viewer_parcel_post_count</th>\n",
              "      <th>viewer_transfer_count</th>\n",
              "      <th>viewer_chat_count</th>\n",
              "      <th>content_img_url</th>\n",
              "      <th>...</th>\n",
              "      <th>472</th>\n",
              "      <th>473</th>\n",
              "      <th>474</th>\n",
              "      <th>475</th>\n",
              "      <th>476</th>\n",
              "      <th>477</th>\n",
              "      <th>478</th>\n",
              "      <th>479</th>\n",
              "      <th>480</th>\n",
              "      <th>481</th>\n",
              "      <th>482</th>\n",
              "      <th>483</th>\n",
              "      <th>484</th>\n",
              "      <th>485</th>\n",
              "      <th>486</th>\n",
              "      <th>487</th>\n",
              "      <th>488</th>\n",
              "      <th>489</th>\n",
              "      <th>490</th>\n",
              "      <th>491</th>\n",
              "      <th>492</th>\n",
              "      <th>493</th>\n",
              "      <th>494</th>\n",
              "      <th>495</th>\n",
              "      <th>496</th>\n",
              "      <th>497</th>\n",
              "      <th>498</th>\n",
              "      <th>499</th>\n",
              "      <th>500</th>\n",
              "      <th>501</th>\n",
              "      <th>502</th>\n",
              "      <th>503</th>\n",
              "      <th>504</th>\n",
              "      <th>505</th>\n",
              "      <th>506</th>\n",
              "      <th>507</th>\n",
              "      <th>508</th>\n",
              "      <th>509</th>\n",
              "      <th>510</th>\n",
              "      <th>511</th>\n",
              "    </tr>\n",
              "  </thead>\n",
              "  <tbody>\n",
              "    <tr>\n",
              "      <th>0</th>\n",
              "      <td>137078818</td>\n",
              "      <td>50</td>\n",
              "      <td>99d1612dded122458e99</td>\n",
              "      <td>16:48:41.780</td>\n",
              "      <td>1</td>\n",
              "      <td>1728109</td>\n",
              "      <td>16:56:46.013</td>\n",
              "      <td>12851816</td>\n",
              "      <td>#당일발송#아이폰SE2 64G/128G 대량판매 등급별초특가!</td>\n",
              "      <td>250000</td>\n",
              "      <td>1</td>\n",
              "      <td>전자제품</td>\n",
              "      <td>64</td>\n",
              "      <td>600700001</td>\n",
              "      <td>1</td>\n",
              "      <td>4</td>\n",
              "      <td>25583</td>\n",
              "      <td>817</td>\n",
              "      <td>0</td>\n",
              "      <td>NaN</td>\n",
              "      <td>NaN</td>\n",
              "      <td>삭제됨</td>\n",
              "      <td>2131</td>\n",
              "      <td>5285</td>\n",
              "      <td>247</td>\n",
              "      <td>4525</td>\n",
              "      <td>542</td>\n",
              "      <td>739</td>\n",
              "      <td>496</td>\n",
              "      <td>0</td>\n",
              "      <td>0</td>\n",
              "      <td>11</td>\n",
              "      <td>1</td>\n",
              "      <td>30</td>\n",
              "      <td>5</td>\n",
              "      <td>0</td>\n",
              "      <td>0</td>\n",
              "      <td>0</td>\n",
              "      <td>0</td>\n",
              "      <td>https://media.bunjang.co.kr/product/137078818_...</td>\n",
              "      <td>...</td>\n",
              "      <td>0.033936</td>\n",
              "      <td>3.04929</td>\n",
              "      <td>1.684554</td>\n",
              "      <td>0.484026</td>\n",
              "      <td>2.723213</td>\n",
              "      <td>1.283192</td>\n",
              "      <td>0.258292</td>\n",
              "      <td>0.886391</td>\n",
              "      <td>1.344672</td>\n",
              "      <td>0.676913</td>\n",
              "      <td>6.133104</td>\n",
              "      <td>0.226652</td>\n",
              "      <td>2.635666</td>\n",
              "      <td>0.298511</td>\n",
              "      <td>0.509246</td>\n",
              "      <td>0.038719</td>\n",
              "      <td>0.058445</td>\n",
              "      <td>0.396445</td>\n",
              "      <td>0.016248</td>\n",
              "      <td>0.539511</td>\n",
              "      <td>0.061262</td>\n",
              "      <td>0.749012</td>\n",
              "      <td>0.091903</td>\n",
              "      <td>0.048339</td>\n",
              "      <td>0.301149</td>\n",
              "      <td>0.414436</td>\n",
              "      <td>0.0</td>\n",
              "      <td>0.470932</td>\n",
              "      <td>0.144566</td>\n",
              "      <td>0.037908</td>\n",
              "      <td>0.450609</td>\n",
              "      <td>0.379989</td>\n",
              "      <td>0.09685</td>\n",
              "      <td>0.451598</td>\n",
              "      <td>0.06229</td>\n",
              "      <td>0.021293</td>\n",
              "      <td>0.626392</td>\n",
              "      <td>0.310855</td>\n",
              "      <td>0.15655</td>\n",
              "      <td>0.010067</td>\n",
              "    </tr>\n",
              "    <tr>\n",
              "      <th>1</th>\n",
              "      <td>137078818</td>\n",
              "      <td>50</td>\n",
              "      <td>971a612de1a50ebc01ce</td>\n",
              "      <td>17:00:45.805</td>\n",
              "      <td>0</td>\n",
              "      <td>1728109</td>\n",
              "      <td>NaN</td>\n",
              "      <td>12851816</td>\n",
              "      <td>#당일발송#아이폰SE2 64G/128G 대량판매 등급별초특가!</td>\n",
              "      <td>250000</td>\n",
              "      <td>1</td>\n",
              "      <td>전자제품</td>\n",
              "      <td>64</td>\n",
              "      <td>600700001</td>\n",
              "      <td>1</td>\n",
              "      <td>4</td>\n",
              "      <td>25583</td>\n",
              "      <td>817</td>\n",
              "      <td>0</td>\n",
              "      <td>NaN</td>\n",
              "      <td>NaN</td>\n",
              "      <td>삭제됨</td>\n",
              "      <td>2131</td>\n",
              "      <td>5285</td>\n",
              "      <td>247</td>\n",
              "      <td>4525</td>\n",
              "      <td>542</td>\n",
              "      <td>739</td>\n",
              "      <td>496</td>\n",
              "      <td>0</td>\n",
              "      <td>0</td>\n",
              "      <td>11</td>\n",
              "      <td>1</td>\n",
              "      <td>30</td>\n",
              "      <td>5</td>\n",
              "      <td>0</td>\n",
              "      <td>0</td>\n",
              "      <td>0</td>\n",
              "      <td>0</td>\n",
              "      <td>https://media.bunjang.co.kr/product/137078818_...</td>\n",
              "      <td>...</td>\n",
              "      <td>0.033936</td>\n",
              "      <td>3.04929</td>\n",
              "      <td>1.684554</td>\n",
              "      <td>0.484026</td>\n",
              "      <td>2.723213</td>\n",
              "      <td>1.283192</td>\n",
              "      <td>0.258292</td>\n",
              "      <td>0.886391</td>\n",
              "      <td>1.344672</td>\n",
              "      <td>0.676913</td>\n",
              "      <td>6.133104</td>\n",
              "      <td>0.226652</td>\n",
              "      <td>2.635666</td>\n",
              "      <td>0.298511</td>\n",
              "      <td>0.509246</td>\n",
              "      <td>0.038719</td>\n",
              "      <td>0.058445</td>\n",
              "      <td>0.396445</td>\n",
              "      <td>0.016248</td>\n",
              "      <td>0.539511</td>\n",
              "      <td>0.061262</td>\n",
              "      <td>0.749012</td>\n",
              "      <td>0.091903</td>\n",
              "      <td>0.048339</td>\n",
              "      <td>0.301149</td>\n",
              "      <td>0.414436</td>\n",
              "      <td>0.0</td>\n",
              "      <td>0.470932</td>\n",
              "      <td>0.144566</td>\n",
              "      <td>0.037908</td>\n",
              "      <td>0.450609</td>\n",
              "      <td>0.379989</td>\n",
              "      <td>0.09685</td>\n",
              "      <td>0.451598</td>\n",
              "      <td>0.06229</td>\n",
              "      <td>0.021293</td>\n",
              "      <td>0.626392</td>\n",
              "      <td>0.310855</td>\n",
              "      <td>0.15655</td>\n",
              "      <td>0.010067</td>\n",
              "    </tr>\n",
              "  </tbody>\n",
              "</table>\n",
              "<p>2 rows × 553 columns</p>\n",
              "</div>\n",
              "      <button class=\"colab-df-convert\" onclick=\"convertToInteractive('df-3dc0f395-2946-4641-99d5-feb8bccaaf6b')\"\n",
              "              title=\"Convert this dataframe to an interactive table.\"\n",
              "              style=\"display:none;\">\n",
              "        \n",
              "  <svg xmlns=\"http://www.w3.org/2000/svg\" height=\"24px\"viewBox=\"0 0 24 24\"\n",
              "       width=\"24px\">\n",
              "    <path d=\"M0 0h24v24H0V0z\" fill=\"none\"/>\n",
              "    <path d=\"M18.56 5.44l.94 2.06.94-2.06 2.06-.94-2.06-.94-.94-2.06-.94 2.06-2.06.94zm-11 1L8.5 8.5l.94-2.06 2.06-.94-2.06-.94L8.5 2.5l-.94 2.06-2.06.94zm10 10l.94 2.06.94-2.06 2.06-.94-2.06-.94-.94-2.06-.94 2.06-2.06.94z\"/><path d=\"M17.41 7.96l-1.37-1.37c-.4-.4-.92-.59-1.43-.59-.52 0-1.04.2-1.43.59L10.3 9.45l-7.72 7.72c-.78.78-.78 2.05 0 2.83L4 21.41c.39.39.9.59 1.41.59.51 0 1.02-.2 1.41-.59l7.78-7.78 2.81-2.81c.8-.78.8-2.07 0-2.86zM5.41 20L4 18.59l7.72-7.72 1.47 1.35L5.41 20z\"/>\n",
              "  </svg>\n",
              "      </button>\n",
              "      \n",
              "  <style>\n",
              "    .colab-df-container {\n",
              "      display:flex;\n",
              "      flex-wrap:wrap;\n",
              "      gap: 12px;\n",
              "    }\n",
              "\n",
              "    .colab-df-convert {\n",
              "      background-color: #E8F0FE;\n",
              "      border: none;\n",
              "      border-radius: 50%;\n",
              "      cursor: pointer;\n",
              "      display: none;\n",
              "      fill: #1967D2;\n",
              "      height: 32px;\n",
              "      padding: 0 0 0 0;\n",
              "      width: 32px;\n",
              "    }\n",
              "\n",
              "    .colab-df-convert:hover {\n",
              "      background-color: #E2EBFA;\n",
              "      box-shadow: 0px 1px 2px rgba(60, 64, 67, 0.3), 0px 1px 3px 1px rgba(60, 64, 67, 0.15);\n",
              "      fill: #174EA6;\n",
              "    }\n",
              "\n",
              "    [theme=dark] .colab-df-convert {\n",
              "      background-color: #3B4455;\n",
              "      fill: #D2E3FC;\n",
              "    }\n",
              "\n",
              "    [theme=dark] .colab-df-convert:hover {\n",
              "      background-color: #434B5C;\n",
              "      box-shadow: 0px 1px 3px 1px rgba(0, 0, 0, 0.15);\n",
              "      filter: drop-shadow(0px 1px 2px rgba(0, 0, 0, 0.3));\n",
              "      fill: #FFFFFF;\n",
              "    }\n",
              "  </style>\n",
              "\n",
              "      <script>\n",
              "        const buttonEl =\n",
              "          document.querySelector('#df-3dc0f395-2946-4641-99d5-feb8bccaaf6b button.colab-df-convert');\n",
              "        buttonEl.style.display =\n",
              "          google.colab.kernel.accessAllowed ? 'block' : 'none';\n",
              "\n",
              "        async function convertToInteractive(key) {\n",
              "          const element = document.querySelector('#df-3dc0f395-2946-4641-99d5-feb8bccaaf6b');\n",
              "          const dataTable =\n",
              "            await google.colab.kernel.invokeFunction('convertToInteractive',\n",
              "                                                     [key], {});\n",
              "          if (!dataTable) return;\n",
              "\n",
              "          const docLinkHtml = 'Like what you see? Visit the ' +\n",
              "            '<a target=\"_blank\" href=https://colab.research.google.com/notebooks/data_table.ipynb>data table notebook</a>'\n",
              "            + ' to learn more about interactive tables.';\n",
              "          element.innerHTML = '';\n",
              "          dataTable['output_type'] = 'display_data';\n",
              "          await google.colab.output.renderOutput(dataTable, element);\n",
              "          const docLink = document.createElement('div');\n",
              "          docLink.innerHTML = docLinkHtml;\n",
              "          element.appendChild(docLink);\n",
              "        }\n",
              "      </script>\n",
              "    </div>\n",
              "  </div>\n",
              "  "
            ],
            "text/plain": [
              "   content_id  bid_price                imp_id  ...       509      510       511\n",
              "0   137078818         50  99d1612dded122458e99  ...  0.310855  0.15655  0.010067\n",
              "1   137078818         50  971a612de1a50ebc01ce  ...  0.310855  0.15655  0.010067\n",
              "\n",
              "[2 rows x 553 columns]"
            ]
          },
          "metadata": {},
          "execution_count": 15
        }
      ]
    },
    {
      "cell_type": "code",
      "source": [
        "# sparse 데이터는 Label Encoding\n",
        "for feat in sparse_features:\n",
        "    lbe = LabelEncoder()\n",
        "    vec_df[feat] = lbe.fit_transform(vec_df[feat])\n",
        "    \n",
        "# dense 데이터는 Min-Max Scaling\n",
        "# scaler = MinMaxScaler(feature_range=(0, 1))\n",
        "scaler = StandardScaler()\n",
        "\n",
        "vec_df[dense_features] = scaler.fit_transform(vec_df[dense_features])\n",
        "vec_df[vec_features] = scaler.fit_transform(vec_df[vec_features])"
      ],
      "metadata": {
        "id": "18Pj9RPY5S1e"
      },
      "execution_count": 16,
      "outputs": []
    },
    {
      "cell_type": "code",
      "source": [
        "# 3.generate input data for model\n",
        "\n",
        "train, test = train_test_split(vec_df, test_size=0.2, random_state=47)#, stratify=df['label'])"
      ],
      "metadata": {
        "id": "J3XAbw_zISkU"
      },
      "execution_count": 18,
      "outputs": []
    },
    {
      "cell_type": "code",
      "source": [
        "# 2.count #unique features for each sparse field,and record dense feature field name\n",
        "\n",
        "# 각 feature마다 값의 종류가 몇개인지, feature 이름이 무엇인지 등 저장\n",
        "fixlen_feature_columns = [SparseFeat(feat, vec_df[feat].nunique())\n",
        "                            for feat in sparse_features] + [DenseFeat(feat, 1, )\n",
        "                                                            for feat in dense_features]\n",
        "vec_columns = [DenseFeat(feat, 1, ) for feat in vec_features]\n",
        "\n",
        "# dnn feature에 일단 모든 feature 정보 넣기\n",
        "dnn_feature_columns = fixlen_feature_columns # + vec_columns\n",
        "\n",
        "# lenear feature에도 일단 모든 feature 정보 넣기\n",
        "linear_feature_columns = fixlen_feature_columns # + vec_columns\n",
        "\n",
        "# feature 이름들만 따로 저장\n",
        "feature_names = get_feature_names(\n",
        "    linear_feature_columns + dnn_feature_columns)"
      ],
      "metadata": {
        "id": "nVpSssLu5rXm"
      },
      "execution_count": 23,
      "outputs": []
    },
    {
      "cell_type": "code",
      "source": [
        "# train/test 데이터의 각 feature에 대응하는 컬럼을 딕셔너리로 저장\n",
        "train_model_input = {name: train[name] for name in feature_names}\n",
        "test_model_input = {name: test[name] for name in feature_names}"
      ],
      "metadata": {
        "id": "CSV-s_yS6SQ2"
      },
      "execution_count": 24,
      "outputs": []
    },
    {
      "cell_type": "markdown",
      "source": [
        "- Standard Scaling, 이미지 벡터 제외"
      ],
      "metadata": {
        "id": "4-XADhBRTy4V"
      }
    },
    {
      "cell_type": "code",
      "source": [
        "# 4.Define Model,train,predict and evaluate\n",
        "# cpu gpu 설정\n",
        "# device = 'cpu'\n",
        "use_cuda = True\n",
        "if use_cuda and torch.cuda.is_available():\n",
        "    print('cuda ready...')\n",
        "    device = 'cuda:0'\n",
        "\n",
        "# 모델 정의\n",
        "model = DeepFM(linear_feature_columns=linear_feature_columns, dnn_feature_columns=dnn_feature_columns,\n",
        "                task='binary',\n",
        "                l2_reg_embedding=1e-5, device=device)\n",
        "\n",
        "# optimizer, loss 설정\n",
        "model.compile(\"adagrad\", \"binary_crossentropy\",\n",
        "                metrics=[\"binary_crossentropy\", \"auc\"], )\n",
        "# 모델 학습\n",
        "model.fit(x = train_model_input, y = train[target].values, batch_size=1024, epochs=20, verbose=2, validation_split=0.0)\n",
        "\n",
        "# 예측\n",
        "pred_ans = model.predict(test_model_input, 1024)\n",
        "print(\"\")\n",
        "print(\"test LogLoss\", round(log_loss(test[target].values, pred_ans), 4))\n",
        "print(\"test AUC\", round(roc_auc_score(test[target].values, pred_ans), 4))\n",
        "print(\"test RIG\", round(get_rig(train[target].values, test[target].values, pred_ans), 4))"
      ],
      "metadata": {
        "colab": {
          "base_uri": "https://localhost:8080/"
        },
        "id": "uYKvgZyh6fgG",
        "outputId": "952cc691-02f3-46f9-9987-00791e857bc5"
      },
      "execution_count": 25,
      "outputs": [
        {
          "output_type": "stream",
          "name": "stdout",
          "text": [
            "cuda ready...\n",
            "cuda:0\n",
            "Train on 588555 samples, validate on 0 samples, 575 steps per epoch\n",
            "Epoch 1/20\n",
            "8s - loss:  0.1388 - binary_crossentropy:  0.1388 - auc:  0.6745\n",
            "Epoch 2/20\n",
            "8s - loss:  0.1350 - binary_crossentropy:  0.1350 - auc:  0.6879\n",
            "Epoch 3/20\n",
            "8s - loss:  0.1348 - binary_crossentropy:  0.1348 - auc:  0.6896\n",
            "Epoch 4/20\n",
            "8s - loss:  0.1346 - binary_crossentropy:  0.1346 - auc:  0.6899\n",
            "Epoch 5/20\n",
            "8s - loss:  0.1346 - binary_crossentropy:  0.1346 - auc:  0.6918\n",
            "Epoch 6/20\n",
            "8s - loss:  0.1345 - binary_crossentropy:  0.1344 - auc:  0.6924\n",
            "Epoch 7/20\n",
            "8s - loss:  0.1344 - binary_crossentropy:  0.1344 - auc:  0.6931\n",
            "Epoch 8/20\n",
            "8s - loss:  0.1343 - binary_crossentropy:  0.1343 - auc:  0.6942\n",
            "Epoch 9/20\n",
            "8s - loss:  0.1342 - binary_crossentropy:  0.1342 - auc:  0.6941\n",
            "Epoch 10/20\n",
            "8s - loss:  0.1342 - binary_crossentropy:  0.1342 - auc:  0.6956\n",
            "Epoch 11/20\n",
            "8s - loss:  0.1341 - binary_crossentropy:  0.1341 - auc:  0.6955\n",
            "Epoch 12/20\n",
            "8s - loss:  0.1341 - binary_crossentropy:  0.1341 - auc:  0.6963\n",
            "Epoch 13/20\n",
            "8s - loss:  0.1340 - binary_crossentropy:  0.1340 - auc:  0.6962\n",
            "Epoch 14/20\n",
            "8s - loss:  0.1340 - binary_crossentropy:  0.1340 - auc:  0.6977\n",
            "Epoch 15/20\n",
            "8s - loss:  0.1340 - binary_crossentropy:  0.1340 - auc:  0.6977\n",
            "Epoch 16/20\n",
            "8s - loss:  0.1339 - binary_crossentropy:  0.1339 - auc:  0.6983\n",
            "Epoch 17/20\n",
            "8s - loss:  0.1339 - binary_crossentropy:  0.1339 - auc:  0.6984\n",
            "Epoch 18/20\n",
            "8s - loss:  0.1338 - binary_crossentropy:  0.1338 - auc:  0.6985\n",
            "Epoch 19/20\n",
            "8s - loss:  0.1338 - binary_crossentropy:  0.1338 - auc:  0.6991\n",
            "Epoch 20/20\n",
            "8s - loss:  0.1338 - binary_crossentropy:  0.1338 - auc:  0.6993\n",
            "\n",
            "test LogLoss 0.1331\n",
            "test AUC 0.6995\n",
            "test RIG 0.0616\n"
          ]
        }
      ]
    },
    {
      "cell_type": "markdown",
      "source": [
        "- Standard Scaling, 이미지 벡터 전부 사용"
      ],
      "metadata": {
        "id": "w7XSmH10Ts8u"
      }
    },
    {
      "cell_type": "code",
      "source": [
        "# 모델 학습\n",
        "model.fit(x = train_model_input, y = train[target].values, batch_size=1024, epochs=20, verbose=2, validation_split=0.0)\n",
        "\n",
        "# 예측\n",
        "pred_ans = model.predict(test_model_input, 1024)\n",
        "print(\"\")\n",
        "print(\"test LogLoss\", round(log_loss(test[target].values, pred_ans), 4))\n",
        "print(\"test AUC\", round(roc_auc_score(test[target].values, pred_ans), 4))\n",
        "print(\"test RIG\", round(get_rig(train[target].values, test[target].values, pred_ans), 4))"
      ],
      "metadata": {
        "colab": {
          "base_uri": "https://localhost:8080/"
        },
        "id": "CBigNaVpMwVj",
        "outputId": "ee6c46ac-fb07-4a99-aabb-0eaee8b04316"
      },
      "execution_count": 22,
      "outputs": [
        {
          "output_type": "stream",
          "name": "stdout",
          "text": [
            "cuda:0\n",
            "Train on 588555 samples, validate on 0 samples, 575 steps per epoch\n",
            "Epoch 1/20\n",
            "11s - loss:  0.1303 - binary_crossentropy:  0.1303 - auc:  0.7360\n",
            "Epoch 2/20\n",
            "11s - loss:  0.1302 - binary_crossentropy:  0.1302 - auc:  0.7356\n",
            "Epoch 3/20\n",
            "11s - loss:  0.1302 - binary_crossentropy:  0.1302 - auc:  0.7365\n",
            "Epoch 4/20\n",
            "11s - loss:  0.1302 - binary_crossentropy:  0.1302 - auc:  0.7366\n",
            "Epoch 5/20\n",
            "11s - loss:  0.1302 - binary_crossentropy:  0.1302 - auc:  0.7366\n",
            "Epoch 6/20\n",
            "11s - loss:  0.1301 - binary_crossentropy:  0.1301 - auc:  0.7376\n",
            "Epoch 7/20\n",
            "11s - loss:  0.1301 - binary_crossentropy:  0.1301 - auc:  0.7374\n",
            "Epoch 8/20\n",
            "11s - loss:  0.1300 - binary_crossentropy:  0.1300 - auc:  0.7381\n",
            "Epoch 9/20\n",
            "11s - loss:  0.1300 - binary_crossentropy:  0.1300 - auc:  0.7387\n",
            "Epoch 10/20\n",
            "11s - loss:  0.1300 - binary_crossentropy:  0.1300 - auc:  0.7386\n",
            "Epoch 11/20\n",
            "11s - loss:  0.1299 - binary_crossentropy:  0.1299 - auc:  0.7391\n",
            "Epoch 12/20\n",
            "11s - loss:  0.1299 - binary_crossentropy:  0.1299 - auc:  0.7392\n",
            "Epoch 13/20\n",
            "11s - loss:  0.1299 - binary_crossentropy:  0.1299 - auc:  0.7392\n",
            "Epoch 14/20\n",
            "11s - loss:  0.1298 - binary_crossentropy:  0.1298 - auc:  0.7402\n",
            "Epoch 15/20\n",
            "11s - loss:  0.1298 - binary_crossentropy:  0.1298 - auc:  0.7399\n",
            "Epoch 16/20\n",
            "11s - loss:  0.1298 - binary_crossentropy:  0.1298 - auc:  0.7404\n",
            "Epoch 17/20\n",
            "12s - loss:  0.1297 - binary_crossentropy:  0.1297 - auc:  0.7407\n",
            "Epoch 18/20\n",
            "11s - loss:  0.1297 - binary_crossentropy:  0.1297 - auc:  0.7409\n",
            "Epoch 19/20\n",
            "11s - loss:  0.1297 - binary_crossentropy:  0.1297 - auc:  0.7408\n",
            "Epoch 20/20\n",
            "11s - loss:  0.1296 - binary_crossentropy:  0.1296 - auc:  0.7415\n",
            "\n",
            "test LogLoss 0.1304\n",
            "test AUC 0.7279\n",
            "test RIG 0.0805\n"
          ]
        }
      ]
    },
    {
      "cell_type": "code",
      "source": [
        ""
      ],
      "metadata": {
        "id": "BaebSaZKM-9_"
      },
      "execution_count": null,
      "outputs": []
    }
  ],
  "metadata": {
    "interpreter": {
      "hash": "ac2eaa0ea0ebeafcc7822e65e46aa9d4f966f30b695406963e145ea4a91cd4fc"
    },
    "kernelspec": {
      "display_name": "Python 3",
      "language": "python",
      "name": "python3"
    },
    "language_info": {
      "codemirror_mode": {
        "name": "ipython",
        "version": 3
      },
      "file_extension": ".py",
      "mimetype": "text/x-python",
      "name": "python",
      "nbconvert_exporter": "python",
      "pygments_lexer": "ipython3",
      "version": "3.7.4"
    },
    "toc": {
      "base_numbering": 1,
      "nav_menu": {},
      "number_sections": true,
      "sideBar": true,
      "skip_h1_title": false,
      "title_cell": "Table of Contents",
      "title_sidebar": "Contents",
      "toc_cell": false,
      "toc_position": {},
      "toc_section_display": true,
      "toc_window_display": false
    },
    "varInspector": {
      "cols": {
        "lenName": 16,
        "lenType": 16,
        "lenVar": 40
      },
      "kernels_config": {
        "python": {
          "delete_cmd_postfix": "",
          "delete_cmd_prefix": "del ",
          "library": "var_list.py",
          "varRefreshCmd": "print(var_dic_list())"
        },
        "r": {
          "delete_cmd_postfix": ") ",
          "delete_cmd_prefix": "rm(",
          "library": "var_list.r",
          "varRefreshCmd": "cat(var_dic_list()) "
        }
      },
      "types_to_exclude": [
        "module",
        "function",
        "builtin_function_or_method",
        "instance",
        "_Feature"
      ],
      "window_display": false
    },
    "colab": {
      "name": "DeepFM_동영.ipynb",
      "provenance": [],
      "collapsed_sections": [],
      "machine_shape": "hm"
    },
    "accelerator": "GPU"
  },
  "nbformat": 4,
  "nbformat_minor": 0
}