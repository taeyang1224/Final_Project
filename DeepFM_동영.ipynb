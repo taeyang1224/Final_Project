{
  "cells": [
    {
      "cell_type": "markdown",
      "metadata": {
        "id": "view-in-github",
        "colab_type": "text"
      },
      "source": [
        "<a href=\"https://colab.research.google.com/github/dongyoung0/Final_Project/blob/develop/DeepFM_%EB%8F%99%EC%98%81.ipynb\" target=\"_parent\"><img src=\"https://colab.research.google.com/assets/colab-badge.svg\" alt=\"Open In Colab\"/></a>"
      ]
    },
    {
      "cell_type": "markdown",
      "source": [
        "# 데이터 불러오기"
      ],
      "metadata": {
        "id": "kJDerPbzuu9Z"
      }
    },
    {
      "cell_type": "code",
      "source": [
        "from google.colab import drive\n",
        "drive.mount('/gdrive')"
      ],
      "metadata": {
        "id": "LhSbMb8_utKy",
        "colab": {
          "base_uri": "https://localhost:8080/"
        },
        "outputId": "1c8b9554-c66f-48af-bf4c-9945ad1de802"
      },
      "execution_count": 1,
      "outputs": [
        {
          "output_type": "stream",
          "name": "stdout",
          "text": [
            "Drive already mounted at /gdrive; to attempt to forcibly remount, call drive.mount(\"/gdrive\", force_remount=True).\n"
          ]
        }
      ]
    },
    {
      "cell_type": "code",
      "source": [
        "cd '../gdrive/MyDrive/SSAC/3조'"
      ],
      "metadata": {
        "id": "Swfjd4UIu5SL",
        "colab": {
          "base_uri": "https://localhost:8080/"
        },
        "outputId": "7588f296-9a9b-49c8-a32e-a02d9c5dbf84"
      },
      "execution_count": 2,
      "outputs": [
        {
          "output_type": "stream",
          "name": "stdout",
          "text": [
            "/gdrive/.shortcut-targets-by-id/15_BxZVEQYCdGCGiQ5nexpWPc1cgHVe4w/3조\n"
          ]
        }
      ]
    },
    {
      "cell_type": "markdown",
      "source": [
        "# DeepFM"
      ],
      "metadata": {
        "id": "oxkMy15e9ucR"
      }
    },
    {
      "cell_type": "code",
      "source": [
        "!pip install -U deepctr-torch"
      ],
      "metadata": {
        "id": "L9elN7Qr39Bp",
        "colab": {
          "base_uri": "https://localhost:8080/"
        },
        "outputId": "ecf727c6-67ca-471f-e985-fed54481d042"
      },
      "execution_count": 3,
      "outputs": [
        {
          "output_type": "stream",
          "name": "stdout",
          "text": [
            "Requirement already satisfied: deepctr-torch in /usr/local/lib/python3.7/dist-packages (0.2.7)\n",
            "Requirement already satisfied: tqdm in /usr/local/lib/python3.7/dist-packages (from deepctr-torch) (4.62.3)\n",
            "Requirement already satisfied: tensorflow in /usr/local/lib/python3.7/dist-packages (from deepctr-torch) (2.7.0)\n",
            "Requirement already satisfied: sklearn in /usr/local/lib/python3.7/dist-packages (from deepctr-torch) (0.0)\n",
            "Requirement already satisfied: torch>=1.1.0 in /usr/local/lib/python3.7/dist-packages (from deepctr-torch) (1.10.0+cu111)\n",
            "Requirement already satisfied: typing-extensions in /usr/local/lib/python3.7/dist-packages (from torch>=1.1.0->deepctr-torch) (3.10.0.2)\n",
            "Requirement already satisfied: scikit-learn in /usr/local/lib/python3.7/dist-packages (from sklearn->deepctr-torch) (1.0.1)\n",
            "Requirement already satisfied: joblib>=0.11 in /usr/local/lib/python3.7/dist-packages (from scikit-learn->sklearn->deepctr-torch) (1.1.0)\n",
            "Requirement already satisfied: numpy>=1.14.6 in /usr/local/lib/python3.7/dist-packages (from scikit-learn->sklearn->deepctr-torch) (1.19.5)\n",
            "Requirement already satisfied: threadpoolctl>=2.0.0 in /usr/local/lib/python3.7/dist-packages (from scikit-learn->sklearn->deepctr-torch) (3.0.0)\n",
            "Requirement already satisfied: scipy>=1.1.0 in /usr/local/lib/python3.7/dist-packages (from scikit-learn->sklearn->deepctr-torch) (1.4.1)\n",
            "Requirement already satisfied: absl-py>=0.4.0 in /usr/local/lib/python3.7/dist-packages (from tensorflow->deepctr-torch) (0.12.0)\n",
            "Requirement already satisfied: grpcio<2.0,>=1.24.3 in /usr/local/lib/python3.7/dist-packages (from tensorflow->deepctr-torch) (1.42.0)\n",
            "Requirement already satisfied: wheel<1.0,>=0.32.0 in /usr/local/lib/python3.7/dist-packages (from tensorflow->deepctr-torch) (0.37.0)\n",
            "Requirement already satisfied: protobuf>=3.9.2 in /usr/local/lib/python3.7/dist-packages (from tensorflow->deepctr-torch) (3.17.3)\n",
            "Requirement already satisfied: gast<0.5.0,>=0.2.1 in /usr/local/lib/python3.7/dist-packages (from tensorflow->deepctr-torch) (0.4.0)\n",
            "Requirement already satisfied: astunparse>=1.6.0 in /usr/local/lib/python3.7/dist-packages (from tensorflow->deepctr-torch) (1.6.3)\n",
            "Requirement already satisfied: termcolor>=1.1.0 in /usr/local/lib/python3.7/dist-packages (from tensorflow->deepctr-torch) (1.1.0)\n",
            "Requirement already satisfied: opt-einsum>=2.3.2 in /usr/local/lib/python3.7/dist-packages (from tensorflow->deepctr-torch) (3.3.0)\n",
            "Requirement already satisfied: tensorflow-estimator<2.8,~=2.7.0rc0 in /usr/local/lib/python3.7/dist-packages (from tensorflow->deepctr-torch) (2.7.0)\n",
            "Requirement already satisfied: keras<2.8,>=2.7.0rc0 in /usr/local/lib/python3.7/dist-packages (from tensorflow->deepctr-torch) (2.7.0)\n",
            "Requirement already satisfied: libclang>=9.0.1 in /usr/local/lib/python3.7/dist-packages (from tensorflow->deepctr-torch) (12.0.0)\n",
            "Requirement already satisfied: h5py>=2.9.0 in /usr/local/lib/python3.7/dist-packages (from tensorflow->deepctr-torch) (3.1.0)\n",
            "Requirement already satisfied: six>=1.12.0 in /usr/local/lib/python3.7/dist-packages (from tensorflow->deepctr-torch) (1.15.0)\n",
            "Requirement already satisfied: google-pasta>=0.1.1 in /usr/local/lib/python3.7/dist-packages (from tensorflow->deepctr-torch) (0.2.0)\n",
            "Requirement already satisfied: tensorboard~=2.6 in /usr/local/lib/python3.7/dist-packages (from tensorflow->deepctr-torch) (2.7.0)\n",
            "Requirement already satisfied: wrapt>=1.11.0 in /usr/local/lib/python3.7/dist-packages (from tensorflow->deepctr-torch) (1.13.3)\n",
            "Requirement already satisfied: keras-preprocessing>=1.1.1 in /usr/local/lib/python3.7/dist-packages (from tensorflow->deepctr-torch) (1.1.2)\n",
            "Requirement already satisfied: flatbuffers<3.0,>=1.12 in /usr/local/lib/python3.7/dist-packages (from tensorflow->deepctr-torch) (2.0)\n",
            "Requirement already satisfied: tensorflow-io-gcs-filesystem>=0.21.0 in /usr/local/lib/python3.7/dist-packages (from tensorflow->deepctr-torch) (0.22.0)\n",
            "Requirement already satisfied: cached-property in /usr/local/lib/python3.7/dist-packages (from h5py>=2.9.0->tensorflow->deepctr-torch) (1.5.2)\n",
            "Requirement already satisfied: requests<3,>=2.21.0 in /usr/local/lib/python3.7/dist-packages (from tensorboard~=2.6->tensorflow->deepctr-torch) (2.23.0)\n",
            "Requirement already satisfied: tensorboard-plugin-wit>=1.6.0 in /usr/local/lib/python3.7/dist-packages (from tensorboard~=2.6->tensorflow->deepctr-torch) (1.8.0)\n",
            "Requirement already satisfied: google-auth<3,>=1.6.3 in /usr/local/lib/python3.7/dist-packages (from tensorboard~=2.6->tensorflow->deepctr-torch) (1.35.0)\n",
            "Requirement already satisfied: tensorboard-data-server<0.7.0,>=0.6.0 in /usr/local/lib/python3.7/dist-packages (from tensorboard~=2.6->tensorflow->deepctr-torch) (0.6.1)\n",
            "Requirement already satisfied: google-auth-oauthlib<0.5,>=0.4.1 in /usr/local/lib/python3.7/dist-packages (from tensorboard~=2.6->tensorflow->deepctr-torch) (0.4.6)\n",
            "Requirement already satisfied: setuptools>=41.0.0 in /usr/local/lib/python3.7/dist-packages (from tensorboard~=2.6->tensorflow->deepctr-torch) (57.4.0)\n",
            "Requirement already satisfied: markdown>=2.6.8 in /usr/local/lib/python3.7/dist-packages (from tensorboard~=2.6->tensorflow->deepctr-torch) (3.3.6)\n",
            "Requirement already satisfied: werkzeug>=0.11.15 in /usr/local/lib/python3.7/dist-packages (from tensorboard~=2.6->tensorflow->deepctr-torch) (1.0.1)\n",
            "Requirement already satisfied: cachetools<5.0,>=2.0.0 in /usr/local/lib/python3.7/dist-packages (from google-auth<3,>=1.6.3->tensorboard~=2.6->tensorflow->deepctr-torch) (4.2.4)\n",
            "Requirement already satisfied: rsa<5,>=3.1.4 in /usr/local/lib/python3.7/dist-packages (from google-auth<3,>=1.6.3->tensorboard~=2.6->tensorflow->deepctr-torch) (4.8)\n",
            "Requirement already satisfied: pyasn1-modules>=0.2.1 in /usr/local/lib/python3.7/dist-packages (from google-auth<3,>=1.6.3->tensorboard~=2.6->tensorflow->deepctr-torch) (0.2.8)\n",
            "Requirement already satisfied: requests-oauthlib>=0.7.0 in /usr/local/lib/python3.7/dist-packages (from google-auth-oauthlib<0.5,>=0.4.1->tensorboard~=2.6->tensorflow->deepctr-torch) (1.3.0)\n",
            "Requirement already satisfied: importlib-metadata>=4.4 in /usr/local/lib/python3.7/dist-packages (from markdown>=2.6.8->tensorboard~=2.6->tensorflow->deepctr-torch) (4.8.2)\n",
            "Requirement already satisfied: zipp>=0.5 in /usr/local/lib/python3.7/dist-packages (from importlib-metadata>=4.4->markdown>=2.6.8->tensorboard~=2.6->tensorflow->deepctr-torch) (3.6.0)\n",
            "Requirement already satisfied: pyasn1<0.5.0,>=0.4.6 in /usr/local/lib/python3.7/dist-packages (from pyasn1-modules>=0.2.1->google-auth<3,>=1.6.3->tensorboard~=2.6->tensorflow->deepctr-torch) (0.4.8)\n",
            "Requirement already satisfied: idna<3,>=2.5 in /usr/local/lib/python3.7/dist-packages (from requests<3,>=2.21.0->tensorboard~=2.6->tensorflow->deepctr-torch) (2.10)\n",
            "Requirement already satisfied: certifi>=2017.4.17 in /usr/local/lib/python3.7/dist-packages (from requests<3,>=2.21.0->tensorboard~=2.6->tensorflow->deepctr-torch) (2021.10.8)\n",
            "Requirement already satisfied: urllib3!=1.25.0,!=1.25.1,<1.26,>=1.21.1 in /usr/local/lib/python3.7/dist-packages (from requests<3,>=2.21.0->tensorboard~=2.6->tensorflow->deepctr-torch) (1.24.3)\n",
            "Requirement already satisfied: chardet<4,>=3.0.2 in /usr/local/lib/python3.7/dist-packages (from requests<3,>=2.21.0->tensorboard~=2.6->tensorflow->deepctr-torch) (3.0.4)\n",
            "Requirement already satisfied: oauthlib>=3.0.0 in /usr/local/lib/python3.7/dist-packages (from requests-oauthlib>=0.7.0->google-auth-oauthlib<0.5,>=0.4.1->tensorboard~=2.6->tensorflow->deepctr-torch) (3.1.1)\n"
          ]
        }
      ]
    },
    {
      "cell_type": "code",
      "source": [
        "import pandas as pd\n",
        "import torch\n",
        "from sklearn.model_selection import train_test_split\n",
        "from sklearn.preprocessing import LabelEncoder, MinMaxScaler, StandardScaler\n",
        "\n",
        "from deepctr_torch.inputs import SparseFeat, DenseFeat, get_feature_names\n",
        "from deepctr_torch.models import *"
      ],
      "metadata": {
        "id": "zOrzPAyu39EF"
      },
      "execution_count": 6,
      "outputs": []
    },
    {
      "cell_type": "markdown",
      "source": [
        "# 파일 불러오기"
      ],
      "metadata": {
        "id": "fSxYQckUQ6HA"
      }
    },
    {
      "cell_type": "markdown",
      "source": [
        "- 이미지 벡터 없는 파일"
      ],
      "metadata": {
        "id": "mew9fg2rQ4dL"
      }
    },
    {
      "cell_type": "code",
      "source": [
        "df = pd.read_csv('data/total_data.csv')\n",
        "df.head(2)"
      ],
      "metadata": {
        "id": "Qt_IZeBQ7M8Y",
        "colab": {
          "base_uri": "https://localhost:8080/",
          "height": 280
        },
        "outputId": "84fdab9a-8dd9-471c-8892-d66a4c2cc103"
      },
      "execution_count": 91,
      "outputs": [
        {
          "output_type": "execute_result",
          "data": {
            "text/html": [
              "\n",
              "  <div id=\"df-ca0ceb25-1be2-4b6e-bfb4-73c5684c2761\">\n",
              "    <div class=\"colab-df-container\">\n",
              "      <div>\n",
              "<style scoped>\n",
              "    .dataframe tbody tr th:only-of-type {\n",
              "        vertical-align: middle;\n",
              "    }\n",
              "\n",
              "    .dataframe tbody tr th {\n",
              "        vertical-align: top;\n",
              "    }\n",
              "\n",
              "    .dataframe thead th {\n",
              "        text-align: right;\n",
              "    }\n",
              "</style>\n",
              "<table border=\"1\" class=\"dataframe\">\n",
              "  <thead>\n",
              "    <tr style=\"text-align: right;\">\n",
              "      <th></th>\n",
              "      <th>content_id</th>\n",
              "      <th>imp_id</th>\n",
              "      <th>view_time</th>\n",
              "      <th>bid_price</th>\n",
              "      <th>user_id</th>\n",
              "      <th>label</th>\n",
              "      <th>imp_time</th>\n",
              "      <th>adv_id</th>\n",
              "      <th>content_name</th>\n",
              "      <th>content_price</th>\n",
              "      <th>content_used</th>\n",
              "      <th>content_cat_1</th>\n",
              "      <th>content_cat_2</th>\n",
              "      <th>content_cat_3</th>\n",
              "      <th>content_emergency_count</th>\n",
              "      <th>content_comment_count</th>\n",
              "      <th>content_views</th>\n",
              "      <th>content_likes</th>\n",
              "      <th>content_b_pay</th>\n",
              "      <th>content_delivery_fee</th>\n",
              "      <th>content_status</th>\n",
              "      <th>content_img_url</th>\n",
              "      <th>adv_follower_count</th>\n",
              "      <th>adv_grade</th>\n",
              "      <th>adv_item_count</th>\n",
              "      <th>adv_views</th>\n",
              "      <th>adv_review_count</th>\n",
              "      <th>adv_comment_count</th>\n",
              "      <th>adv_pay_count</th>\n",
              "      <th>adv_parcel_post_count</th>\n",
              "      <th>adv_transfer_count</th>\n",
              "      <th>adv_chat_count</th>\n",
              "      <th>viewer_gender</th>\n",
              "      <th>viewer_age</th>\n",
              "      <th>viewer_following_count</th>\n",
              "      <th>viewer_pay_count</th>\n",
              "      <th>viewer_parcel_post_count</th>\n",
              "      <th>viewer_transfer_count</th>\n",
              "      <th>viewer_chat_count</th>\n",
              "      <th>viewer_age_ch</th>\n",
              "      <th>content_place</th>\n",
              "      <th>b_pay_rate</th>\n",
              "      <th>sec</th>\n",
              "      <th>title_len</th>\n",
              "    </tr>\n",
              "  </thead>\n",
              "  <tbody>\n",
              "    <tr>\n",
              "      <th>0</th>\n",
              "      <td>137078818</td>\n",
              "      <td>99d1612dded122458e99</td>\n",
              "      <td>16:56:46</td>\n",
              "      <td>50</td>\n",
              "      <td>1728109</td>\n",
              "      <td>1</td>\n",
              "      <td>16:48:41</td>\n",
              "      <td>12851816</td>\n",
              "      <td>#당일발송#아이폰SE2 64G/128G 대량판매 등급별초특가!</td>\n",
              "      <td>250000</td>\n",
              "      <td>1</td>\n",
              "      <td>전자제품</td>\n",
              "      <td>600700</td>\n",
              "      <td>600700001</td>\n",
              "      <td>1</td>\n",
              "      <td>4</td>\n",
              "      <td>25583</td>\n",
              "      <td>817</td>\n",
              "      <td>0</td>\n",
              "      <td>배송비포함</td>\n",
              "      <td>삭제됨</td>\n",
              "      <td>https://media.bunjang.co.kr/product/137078818_...</td>\n",
              "      <td>2131</td>\n",
              "      <td>5285</td>\n",
              "      <td>247</td>\n",
              "      <td>4525</td>\n",
              "      <td>542</td>\n",
              "      <td>739</td>\n",
              "      <td>496</td>\n",
              "      <td>0</td>\n",
              "      <td>0</td>\n",
              "      <td>11</td>\n",
              "      <td>1</td>\n",
              "      <td>30</td>\n",
              "      <td>5</td>\n",
              "      <td>0</td>\n",
              "      <td>0</td>\n",
              "      <td>0</td>\n",
              "      <td>0</td>\n",
              "      <td>30</td>\n",
              "      <td>서울특별시</td>\n",
              "      <td>0.394224</td>\n",
              "      <td>484.0</td>\n",
              "      <td>34</td>\n",
              "    </tr>\n",
              "    <tr>\n",
              "      <th>1</th>\n",
              "      <td>137078818</td>\n",
              "      <td>99d1612d825321055790</td>\n",
              "      <td>00:00:00</td>\n",
              "      <td>50</td>\n",
              "      <td>10733469</td>\n",
              "      <td>1</td>\n",
              "      <td>17:00:45</td>\n",
              "      <td>12851816</td>\n",
              "      <td>#당일발송#아이폰SE2 64G/128G 대량판매 등급별초특가!</td>\n",
              "      <td>250000</td>\n",
              "      <td>1</td>\n",
              "      <td>전자제품</td>\n",
              "      <td>600700</td>\n",
              "      <td>600700001</td>\n",
              "      <td>1</td>\n",
              "      <td>4</td>\n",
              "      <td>25583</td>\n",
              "      <td>817</td>\n",
              "      <td>0</td>\n",
              "      <td>배송비포함</td>\n",
              "      <td>삭제됨</td>\n",
              "      <td>https://media.bunjang.co.kr/product/137078818_...</td>\n",
              "      <td>2131</td>\n",
              "      <td>5285</td>\n",
              "      <td>247</td>\n",
              "      <td>4525</td>\n",
              "      <td>542</td>\n",
              "      <td>739</td>\n",
              "      <td>496</td>\n",
              "      <td>0</td>\n",
              "      <td>0</td>\n",
              "      <td>11</td>\n",
              "      <td>1</td>\n",
              "      <td>18</td>\n",
              "      <td>0</td>\n",
              "      <td>0</td>\n",
              "      <td>0</td>\n",
              "      <td>0</td>\n",
              "      <td>0</td>\n",
              "      <td>18</td>\n",
              "      <td>서울특별시</td>\n",
              "      <td>0.394224</td>\n",
              "      <td>7.0</td>\n",
              "      <td>34</td>\n",
              "    </tr>\n",
              "  </tbody>\n",
              "</table>\n",
              "</div>\n",
              "      <button class=\"colab-df-convert\" onclick=\"convertToInteractive('df-ca0ceb25-1be2-4b6e-bfb4-73c5684c2761')\"\n",
              "              title=\"Convert this dataframe to an interactive table.\"\n",
              "              style=\"display:none;\">\n",
              "        \n",
              "  <svg xmlns=\"http://www.w3.org/2000/svg\" height=\"24px\"viewBox=\"0 0 24 24\"\n",
              "       width=\"24px\">\n",
              "    <path d=\"M0 0h24v24H0V0z\" fill=\"none\"/>\n",
              "    <path d=\"M18.56 5.44l.94 2.06.94-2.06 2.06-.94-2.06-.94-.94-2.06-.94 2.06-2.06.94zm-11 1L8.5 8.5l.94-2.06 2.06-.94-2.06-.94L8.5 2.5l-.94 2.06-2.06.94zm10 10l.94 2.06.94-2.06 2.06-.94-2.06-.94-.94-2.06-.94 2.06-2.06.94z\"/><path d=\"M17.41 7.96l-1.37-1.37c-.4-.4-.92-.59-1.43-.59-.52 0-1.04.2-1.43.59L10.3 9.45l-7.72 7.72c-.78.78-.78 2.05 0 2.83L4 21.41c.39.39.9.59 1.41.59.51 0 1.02-.2 1.41-.59l7.78-7.78 2.81-2.81c.8-.78.8-2.07 0-2.86zM5.41 20L4 18.59l7.72-7.72 1.47 1.35L5.41 20z\"/>\n",
              "  </svg>\n",
              "      </button>\n",
              "      \n",
              "  <style>\n",
              "    .colab-df-container {\n",
              "      display:flex;\n",
              "      flex-wrap:wrap;\n",
              "      gap: 12px;\n",
              "    }\n",
              "\n",
              "    .colab-df-convert {\n",
              "      background-color: #E8F0FE;\n",
              "      border: none;\n",
              "      border-radius: 50%;\n",
              "      cursor: pointer;\n",
              "      display: none;\n",
              "      fill: #1967D2;\n",
              "      height: 32px;\n",
              "      padding: 0 0 0 0;\n",
              "      width: 32px;\n",
              "    }\n",
              "\n",
              "    .colab-df-convert:hover {\n",
              "      background-color: #E2EBFA;\n",
              "      box-shadow: 0px 1px 2px rgba(60, 64, 67, 0.3), 0px 1px 3px 1px rgba(60, 64, 67, 0.15);\n",
              "      fill: #174EA6;\n",
              "    }\n",
              "\n",
              "    [theme=dark] .colab-df-convert {\n",
              "      background-color: #3B4455;\n",
              "      fill: #D2E3FC;\n",
              "    }\n",
              "\n",
              "    [theme=dark] .colab-df-convert:hover {\n",
              "      background-color: #434B5C;\n",
              "      box-shadow: 0px 1px 3px 1px rgba(0, 0, 0, 0.15);\n",
              "      filter: drop-shadow(0px 1px 2px rgba(0, 0, 0, 0.3));\n",
              "      fill: #FFFFFF;\n",
              "    }\n",
              "  </style>\n",
              "\n",
              "      <script>\n",
              "        const buttonEl =\n",
              "          document.querySelector('#df-ca0ceb25-1be2-4b6e-bfb4-73c5684c2761 button.colab-df-convert');\n",
              "        buttonEl.style.display =\n",
              "          google.colab.kernel.accessAllowed ? 'block' : 'none';\n",
              "\n",
              "        async function convertToInteractive(key) {\n",
              "          const element = document.querySelector('#df-ca0ceb25-1be2-4b6e-bfb4-73c5684c2761');\n",
              "          const dataTable =\n",
              "            await google.colab.kernel.invokeFunction('convertToInteractive',\n",
              "                                                     [key], {});\n",
              "          if (!dataTable) return;\n",
              "\n",
              "          const docLinkHtml = 'Like what you see? Visit the ' +\n",
              "            '<a target=\"_blank\" href=https://colab.research.google.com/notebooks/data_table.ipynb>data table notebook</a>'\n",
              "            + ' to learn more about interactive tables.';\n",
              "          element.innerHTML = '';\n",
              "          dataTable['output_type'] = 'display_data';\n",
              "          await google.colab.output.renderOutput(dataTable, element);\n",
              "          const docLink = document.createElement('div');\n",
              "          docLink.innerHTML = docLinkHtml;\n",
              "          element.appendChild(docLink);\n",
              "        }\n",
              "      </script>\n",
              "    </div>\n",
              "  </div>\n",
              "  "
            ],
            "text/plain": [
              "   content_id                imp_id view_time  ...  b_pay_rate    sec  title_len\n",
              "0   137078818  99d1612dded122458e99  16:56:46  ...    0.394224  484.0         34\n",
              "1   137078818  99d1612d825321055790  00:00:00  ...    0.394224    7.0         34\n",
              "\n",
              "[2 rows x 44 columns]"
            ]
          },
          "metadata": {},
          "execution_count": 91
        }
      ]
    },
    {
      "cell_type": "markdown",
      "source": [
        "- 이미지 벡터 포함한 파일"
      ],
      "metadata": {
        "id": "BocsvPhRQ2T6"
      }
    },
    {
      "cell_type": "code",
      "source": [
        "# df = pd.read_csv('data/total_data_img.csv', low_memory=False)"
      ],
      "metadata": {
        "id": "B2R0F-KNEGz_"
      },
      "execution_count": 7,
      "outputs": []
    },
    {
      "cell_type": "markdown",
      "source": [
        "# 준비"
      ],
      "metadata": {
        "id": "nmR6FdMvQ7iF"
      }
    },
    {
      "cell_type": "markdown",
      "source": [
        "- 평가함수 정의"
      ],
      "metadata": {
        "id": "-st1kXKgQ-fM"
      }
    },
    {
      "cell_type": "code",
      "source": [
        "from sklearn.metrics import log_loss, roc_auc_score\n",
        "\n",
        "grouped_label = df.groupby('label').size()\n",
        "average_ctr = float(grouped_label[1]/grouped_label.sum())\n",
        "average_ctr\n",
        "\n",
        "def get_rig(train_y, test_y, pred):\n",
        "    avg_ctr = average_ctr\n",
        "    prior = log_loss(train_y, [avg_ctr]*len(train_y))\n",
        "\n",
        "    classifier = log_loss(test_y, pred)\n",
        "\n",
        "    rig = (prior - classifier) / prior\n",
        "    return rig\n"
      ],
      "metadata": {
        "id": "cjoSBvkBBIgx"
      },
      "execution_count": 72,
      "outputs": []
    },
    {
      "cell_type": "markdown",
      "source": [
        "# 전처리"
      ],
      "metadata": {
        "id": "0Z0E9mOWR_ca"
      }
    },
    {
      "cell_type": "markdown",
      "source": [
        "### 학습에 사용할 feature 분류"
      ],
      "metadata": {
        "id": "9ocfJQ2cSBRu"
      }
    },
    {
      "cell_type": "code",
      "source": [
        "categorical = [\n",
        "    'viewer_gender',\n",
        "    'content_used',\n",
        "    'content_cat_1',\n",
        "    'content_cat_2',\n",
        "    'content_cat_3',\n",
        "    \"content_status\",\n",
        "    'content_delivery_fee',\n",
        "    'content_b_pay', \n",
        "    'content_place'\n",
        "    ]\n",
        "continuous = [\n",
        "    'bid_price', \n",
        "    'content_price',\n",
        "    # 'content_emergency_count',\n",
        "    'content_comment_count',     \n",
        "    'content_views',       \n",
        "    'content_likes',\n",
        "    'adv_follower_count',\n",
        "    # 'adv_grade',       \n",
        "    'adv_item_count',         \n",
        "    'adv_views',\n",
        "    'adv_review_count',\n",
        "    'adv_comment_count',\n",
        "    'adv_pay_count',\n",
        "    'adv_parcel_post_count', \n",
        "    'adv_transfer_count', \n",
        "    # 'adv_chat_count',\n",
        "    'viewer_age',\n",
        "    'viewer_following_count',\n",
        "    'viewer_pay_count',\n",
        "    \"viewer_parcel_post_count\",\n",
        "    'viewer_transfer_count',\n",
        "    'viewer_chat_count', \n",
        "    # 'b_pay_rate',\n",
        "    # 'viewer_age_ch',\n",
        "    # 'sec', \n",
        "    'title_len'\n",
        "    ]\n",
        "\n",
        "# 이미지 벡터 사용하는 경우\n",
        "vec_features = [str(i) for i in range(512)]"
      ],
      "metadata": {
        "id": "8nhX_6zx4PBR"
      },
      "execution_count": 92,
      "outputs": []
    },
    {
      "cell_type": "markdown",
      "source": [
        "### 결측치"
      ],
      "metadata": {
        "id": "9obv4wwbSFXE"
      }
    },
    {
      "cell_type": "code",
      "source": [
        "# 결측치 채우기\n",
        "df[categorical] = df[categorical].fillna('-1', )\n",
        "df[continuous] = df[continuous].fillna(0, )\n",
        "target = ['label']"
      ],
      "metadata": {
        "id": "HoPkbc265JU5"
      },
      "execution_count": 93,
      "outputs": []
    },
    {
      "cell_type": "markdown",
      "source": [
        "### Label Encoding, Scaling"
      ],
      "metadata": {
        "id": "taG8T7OISGlB"
      }
    },
    {
      "cell_type": "code",
      "source": [
        "# # categorical 데이터는 Label Encoding\n",
        "for feat in categorical:\n",
        "    lbe = LabelEncoder()\n",
        "    df[feat] = lbe.fit_transform(df[feat])\n",
        "\n",
        "# categorical 데이터는 One-hot Encoding\n",
        "# df = pd.get_dummies(df, columns=categorical, drop_first=True)\n",
        "\n",
        "# continuous 데이터는 Min-Max Scaling\n",
        "# scaler = MinMaxScaler(feature_range=(0, 1))\n",
        "\n",
        "# continuous 데이터는 Standard Scaling\n",
        "scaler = StandardScaler()\n",
        "df[continuous] = scaler.fit_transform(df[continuous])\n"
      ],
      "metadata": {
        "id": "18Pj9RPY5S1e"
      },
      "execution_count": 94,
      "outputs": []
    },
    {
      "cell_type": "code",
      "source": [
        "categorical = df.columns[37:].tolist()"
      ],
      "metadata": {
        "id": "EafeLNlMRnBR"
      },
      "execution_count": 86,
      "outputs": []
    },
    {
      "cell_type": "code",
      "source": [
        "df.columns[37:]"
      ],
      "metadata": {
        "colab": {
          "base_uri": "https://localhost:8080/"
        },
        "id": "2ZjljVtyt5gA",
        "outputId": "5def4eeb-dcff-4583-c6d8-83ed750cf565"
      },
      "execution_count": 85,
      "outputs": [
        {
          "output_type": "execute_result",
          "data": {
            "text/plain": [
              "Index(['viewer_gender_1', 'viewer_gender_2', 'content_used_1',\n",
              "       'content_cat_2_320', 'content_cat_2_410', 'content_cat_2_600',\n",
              "       'content_cat_2_990', 'content_cat_2_999', 'content_cat_2_220030',\n",
              "       'content_cat_2_220080',\n",
              "       ...\n",
              "       'content_place_경상북도', 'content_place_대구광역시', 'content_place_대전광역시',\n",
              "       'content_place_부산광역시 ', 'content_place_서울특별시', 'content_place_인천광역시',\n",
              "       'content_place_잠실역 (서', 'content_place_전국', 'content_place_전라북도 전',\n",
              "       'content_place_충청북도'],\n",
              "      dtype='object', length=112)"
            ]
          },
          "metadata": {},
          "execution_count": 85
        }
      ]
    },
    {
      "cell_type": "code",
      "source": [
        "scaler = StandardScaler()\n",
        "df[vec_features] = scaler.fit_transform(df[vec_features])\n",
        "\n"
      ],
      "metadata": {
        "id": "stGWZtZExoj0"
      },
      "execution_count": null,
      "outputs": []
    },
    {
      "cell_type": "code",
      "source": [
        "continuous = continuous + vec_features"
      ],
      "metadata": {
        "id": "RPAINBCxb-zr"
      },
      "execution_count": 16,
      "outputs": []
    },
    {
      "cell_type": "code",
      "source": [
        "len(df.columns)"
      ],
      "metadata": {
        "colab": {
          "base_uri": "https://localhost:8080/"
        },
        "id": "pkXZ2VGra8oF",
        "outputId": "c984eb3d-a03a-4a42-a7a3-704e7c48a2bd"
      },
      "execution_count": 29,
      "outputs": [
        {
          "output_type": "execute_result",
          "data": {
            "text/plain": [
              "44"
            ]
          },
          "metadata": {},
          "execution_count": 29
        }
      ]
    },
    {
      "cell_type": "markdown",
      "source": [
        "### train test split"
      ],
      "metadata": {
        "id": "3E2DPFnAR9T3"
      }
    },
    {
      "cell_type": "code",
      "source": [
        "# 3.generate input data for model\n",
        "\n",
        "train, test = train_test_split(df, test_size=0.2, random_state=47)#, stratify=df['label'])"
      ],
      "metadata": {
        "id": "J3XAbw_zISkU"
      },
      "execution_count": 95,
      "outputs": []
    },
    {
      "cell_type": "markdown",
      "source": [
        "### 각 feature 정보를 형식에 맞춰 저장"
      ],
      "metadata": {
        "id": "YgYwjBwQSJuu"
      }
    },
    {
      "cell_type": "code",
      "source": [
        "# 2.count #unique features for each sparse field,and record dense feature field name\n",
        "\n",
        "# 각 feature마다 값의 종류가 몇개인지, feature 이름이 무엇인지 등 저장\n",
        "fixlen_feature_columns = [SparseFeat(feat, df[feat].nunique())\n",
        "                            for feat in categorical] + [DenseFeat(feat, 1, )\n",
        "                                                            for feat in continuous]\n",
        "\n",
        "# dnn feature에 일단 모든 feature 정보 넣기\n",
        "dnn_feature_columns = fixlen_feature_columns\n",
        "\n",
        "# lenear feature에도 일단 모든 feature 정보 넣기\n",
        "linear_feature_columns = fixlen_feature_columns \n",
        "\n",
        "# feature 이름들만 따로 저장\n",
        "feature_names = get_feature_names(\n",
        "    linear_feature_columns + dnn_feature_columns)"
      ],
      "metadata": {
        "id": "nVpSssLu5rXm"
      },
      "execution_count": 96,
      "outputs": []
    },
    {
      "cell_type": "code",
      "source": [
        "# train/test 데이터의 각 feature에 대응하는 컬럼을 딕셔너리로 저장\n",
        "train_model_input = {name: train[name] for name in feature_names}\n",
        "test_model_input = {name: test[name] for name in feature_names}"
      ],
      "metadata": {
        "id": "CSV-s_yS6SQ2"
      },
      "execution_count": 97,
      "outputs": []
    },
    {
      "cell_type": "markdown",
      "source": [
        "## 파라미터 목록"
      ],
      "metadata": {
        "id": "lXscIbvrS_Xj"
      }
    },
    {
      "cell_type": "markdown",
      "source": [
        "- DeepFM(linear_feature_columns, dnn_feature_columns, use_fm=True, dnn_hidden_units=(256, 128), l2_reg_linear=1e-05, l2_reg_embedding=1e-05, l2_reg_dnn=0, init_std=0.0001, seed=1024, dnn_dropout=0, dnn_activation='relu', dnn_use_bn=False, task='binary', device='cpu', gpus=None)\n",
        "### Parameters:\t\n",
        "- linear_feature_columns – An iterable containing all the features used by linear part of the model.\n",
        "- dnn_feature_columns – An iterable containing all the features used by deep part of the model.\n",
        "- use_fm – bool,use FM part or not\n",
        "- dnn_hidden_units – list,list of positive integer or empty list, the layer - - number and units in each layer of DNN\n",
        "- l2_reg_linear – float. L2 regularizer strength applied to linear part\n",
        "- l2_reg_embedding – float. L2 regularizer strength applied to embedding vector\n",
        "- l2_reg_dnn – float. L2 regularizer strength applied to DNN\n",
        "- init_std – float,to use as the initialize std of embedding vector\n",
        "- seed – integer ,to use as random seed.\n",
        "- dnn_dropout – float in [0,1), the probability we will drop out a given DNN coordinate.\n",
        "- dnn_activation – Activation function to use in DNN\n",
        "- dnn_use_bn – bool. Whether use BatchNormalization before activation or not in DNN\n",
        "- task – str, \"binary\" for binary logloss or \"regression\" for regression loss\n",
        "- device – str, \"cpu\" or \"cuda:0\"\n",
        "- gpus – list of int or torch.device for multiple gpus. If None, run on device. gpus[0] should be the same gpu with device."
      ],
      "metadata": {
        "id": "Ysa5Lg4mTCgA"
      }
    },
    {
      "cell_type": "code",
      "source": [
        "# linear_feature_columns – An iterable containing all the features used by linear part of the model.\n",
        "# dnn_feature_columns – An iterable containing all the features used by deep part of the model.\n",
        "use_fm – True / False\n",
        "# dnn_hidden_units – list,list of positive integer or empty list, the layer - - number and units in each layer of DNN\n",
        "# l2_reg_linear – float. L2 regularizer strength applied to linear part\n",
        "# l2_reg_embedding – float. L2 regularizer strength applied to embedding vector\n",
        "# l2_reg_dnn – float. L2 regularizer strength applied to DNN\n",
        "# init_std – float,to use as the initialize std of embedding vector\n",
        "seed – integer ,to use as random seed.\n",
        "dnn_dropout – 0~1\n",
        "dnn_activation – 'relu', 'tanh'\n",
        "dnn_use_bn – True / False\n",
        "task – \"binary\"\n",
        "device – \"cpu\" or \"cuda:0\"\n",
        "gpus – list of int or torch.device for multiple gpus. If None, run on device. gpus[0] should be the same gpu with device."
      ],
      "metadata": {
        "id": "-MKyC-9eS_Mo"
      },
      "execution_count": 37,
      "outputs": []
    },
    {
      "cell_type": "markdown",
      "source": [
        "# 학습"
      ],
      "metadata": {
        "id": "99CA5fOlSdPk"
      }
    },
    {
      "cell_type": "code",
      "source": [
        "!nvidia-smi"
      ],
      "metadata": {
        "colab": {
          "base_uri": "https://localhost:8080/"
        },
        "id": "tXgeigs_sKeJ",
        "outputId": "adadb94e-330f-4359-8284-07cc567509ed"
      },
      "execution_count": 20,
      "outputs": [
        {
          "output_type": "stream",
          "name": "stdout",
          "text": [
            "Mon Dec 27 02:22:40 2021       \n",
            "+-----------------------------------------------------------------------------+\n",
            "| NVIDIA-SMI 495.44       Driver Version: 460.32.03    CUDA Version: 11.2     |\n",
            "|-------------------------------+----------------------+----------------------+\n",
            "| GPU  Name        Persistence-M| Bus-Id        Disp.A | Volatile Uncorr. ECC |\n",
            "| Fan  Temp  Perf  Pwr:Usage/Cap|         Memory-Usage | GPU-Util  Compute M. |\n",
            "|                               |                      |               MIG M. |\n",
            "|===============================+======================+======================|\n",
            "|   0  Tesla P100-PCIE...  Off  | 00000000:00:04.0 Off |                    0 |\n",
            "| N/A   33C    P0    32W / 250W |   1169MiB / 16280MiB |      0%      Default |\n",
            "|                               |                      |                  N/A |\n",
            "+-------------------------------+----------------------+----------------------+\n",
            "                                                                               \n",
            "+-----------------------------------------------------------------------------+\n",
            "| Processes:                                                                  |\n",
            "|  GPU   GI   CI        PID   Type   Process name                  GPU Memory |\n",
            "|        ID   ID                                                   Usage      |\n",
            "|=============================================================================|\n",
            "|  No running processes found                                                 |\n",
            "+-----------------------------------------------------------------------------+\n"
          ]
        }
      ]
    },
    {
      "cell_type": "markdown",
      "source": [
        "# 크롤링 불가능한 3개 feature 제외"
      ],
      "metadata": {
        "id": "diGVaS0W4jxz"
      }
    },
    {
      "cell_type": "markdown",
      "source": [
        "## One hot"
      ],
      "metadata": {
        "id": "uWWgUYG1UCpe"
      }
    },
    {
      "cell_type": "markdown",
      "source": [
        "- one-hot encoding, `adv_grade`, `adv_chat`, `content_emergency` 제외\n",
        "- category 3"
      ],
      "metadata": {
        "id": "8kQVpTjV37Zs"
      }
    },
    {
      "cell_type": "code",
      "source": [
        "# cpu gpu 설정\n",
        "# device = 'cpu'\n",
        "use_cuda = True\n",
        "if use_cuda and torch.cuda.is_available():\n",
        "    print('cuda ready...')\n",
        "    device = 'cuda:0'\n",
        "\n",
        "# 모델 정의\n",
        "# model = DeepFM(linear_feature_columns=linear_feature_columns, dnn_feature_columns=dnn_feature_columns,\n",
        "#                 task='binary',\n",
        "#                 l2_reg_embedding=1e-5, device=device)\n",
        "\n",
        "model = DeepFM(linear_feature_columns, dnn_feature_columns, dnn_hidden_units=(512, 256), dnn_dropout=0.0,\n",
        "               dnn_activation='relu', dnn_use_bn=True, task='binary', device=device, gpus=[0])\n",
        "\n",
        "\n",
        "# optimizer, loss 설정\n",
        "model.compile(\"adam\", \"binary_crossentropy\",\n",
        "                metrics=[\"binary_crossentropy\", \"auc\"], )\n",
        "\n",
        "\n",
        "# 모델 학습\n",
        "model.fit(x = train_model_input, y = train[target].values, batch_size=512, epochs=20, verbose=2, validation_split=0.2)\n",
        "\n",
        "# 평가\n",
        "pred_ans = model.predict(test_model_input, 512)\n",
        "print(\"\")\n",
        "print(\"test LogLoss\", round(log_loss(test[target].values, pred_ans), 4))\n",
        "print(\"test AUC\", round(roc_auc_score(test[target].values, pred_ans), 4))\n",
        "print(\"test RIG\", round(get_rig(train[target].values, test[target].values, pred_ans), 4))"
      ],
      "metadata": {
        "colab": {
          "base_uri": "https://localhost:8080/"
        },
        "id": "ADv8NSpowkXp",
        "outputId": "c8fca119-7a70-4220-bdc1-66b167ff6706"
      },
      "execution_count": 59,
      "outputs": [
        {
          "output_type": "stream",
          "name": "stdout",
          "text": [
            "cuda ready...\n",
            "parallel running on these gpus: [0]\n",
            "Train on 470844 samples, validate on 117711 samples, 920 steps per epoch\n",
            "Epoch 1/20\n",
            "106s - loss:  0.1381 - binary_crossentropy:  0.1381 - auc:  0.6862 - val_binary_crossentropy:  0.1323 - val_auc:  0.6997\n",
            "Epoch 2/20\n",
            "105s - loss:  0.1346 - binary_crossentropy:  0.1346 - auc:  0.7030 - val_binary_crossentropy:  0.1301 - val_auc:  0.7162\n",
            "Epoch 3/20\n",
            "105s - loss:  0.1329 - binary_crossentropy:  0.1329 - auc:  0.7212 - val_binary_crossentropy:  0.1312 - val_auc:  0.7167\n",
            "Epoch 4/20\n",
            "105s - loss:  0.1321 - binary_crossentropy:  0.1321 - auc:  0.7269 - val_binary_crossentropy:  0.1303 - val_auc:  0.7220\n",
            "Epoch 5/20\n",
            "105s - loss:  0.1316 - binary_crossentropy:  0.1315 - auc:  0.7331 - val_binary_crossentropy:  0.1293 - val_auc:  0.7252\n",
            "Epoch 6/20\n",
            "105s - loss:  0.1310 - binary_crossentropy:  0.1309 - auc:  0.7398 - val_binary_crossentropy:  0.1298 - val_auc:  0.7248\n",
            "Epoch 7/20\n",
            "106s - loss:  0.1299 - binary_crossentropy:  0.1299 - auc:  0.7431 - val_binary_crossentropy:  0.1288 - val_auc:  0.7272\n",
            "Epoch 8/20\n",
            "106s - loss:  0.1295 - binary_crossentropy:  0.1295 - auc:  0.7473 - val_binary_crossentropy:  0.1293 - val_auc:  0.7309\n",
            "Epoch 9/20\n",
            "106s - loss:  0.1287 - binary_crossentropy:  0.1287 - auc:  0.7520 - val_binary_crossentropy:  0.1296 - val_auc:  0.7276\n",
            "Epoch 10/20\n",
            "106s - loss:  0.1281 - binary_crossentropy:  0.1281 - auc:  0.7563 - val_binary_crossentropy:  0.1286 - val_auc:  0.7318\n",
            "Epoch 11/20\n",
            "105s - loss:  0.1276 - binary_crossentropy:  0.1276 - auc:  0.7613 - val_binary_crossentropy:  0.1295 - val_auc:  0.7323\n",
            "Epoch 12/20\n",
            "105s - loss:  0.1269 - binary_crossentropy:  0.1269 - auc:  0.7653 - val_binary_crossentropy:  0.1288 - val_auc:  0.7344\n",
            "Epoch 13/20\n",
            "105s - loss:  0.1264 - binary_crossentropy:  0.1264 - auc:  0.7689 - val_binary_crossentropy:  0.1291 - val_auc:  0.7359\n",
            "Epoch 14/20\n",
            "105s - loss:  0.1258 - binary_crossentropy:  0.1258 - auc:  0.7724 - val_binary_crossentropy:  0.1294 - val_auc:  0.7345\n",
            "Epoch 15/20\n",
            "105s - loss:  0.1253 - binary_crossentropy:  0.1253 - auc:  0.7757 - val_binary_crossentropy:  0.1304 - val_auc:  0.7342\n",
            "Epoch 16/20\n",
            "105s - loss:  0.1247 - binary_crossentropy:  0.1247 - auc:  0.7796 - val_binary_crossentropy:  0.1308 - val_auc:  0.7346\n",
            "Epoch 17/20\n",
            "105s - loss:  0.1243 - binary_crossentropy:  0.1243 - auc:  0.7817 - val_binary_crossentropy:  0.1306 - val_auc:  0.7379\n",
            "Epoch 18/20\n",
            "105s - loss:  0.1234 - binary_crossentropy:  0.1234 - auc:  0.7861 - val_binary_crossentropy:  0.1296 - val_auc:  0.7341\n",
            "Epoch 19/20\n",
            "106s - loss:  0.1234 - binary_crossentropy:  0.1234 - auc:  0.7881 - val_binary_crossentropy:  0.1330 - val_auc:  0.7339\n",
            "Epoch 20/20\n",
            "107s - loss:  0.1228 - binary_crossentropy:  0.1228 - auc:  0.7908 - val_binary_crossentropy:  0.1306 - val_auc:  0.7370\n",
            "\n",
            "test LogLoss 0.1331\n",
            "test AUC 0.7367\n",
            "test RIG 0.0595\n"
          ]
        }
      ]
    },
    {
      "cell_type": "markdown",
      "source": [
        "- one-hot encoding, `adv_grade`, `adv_chat`, `content_emergency` 제외\n",
        "- category 2"
      ],
      "metadata": {
        "id": "c-A-SYWl76V2"
      }
    },
    {
      "cell_type": "code",
      "source": [
        "# cpu gpu 설정\n",
        "# device = 'cpu'\n",
        "use_cuda = True\n",
        "if use_cuda and torch.cuda.is_available():\n",
        "    print('cuda ready...')\n",
        "    device = 'cuda:0'\n",
        "\n",
        "# 모델 정의\n",
        "# model = DeepFM(linear_feature_columns=linear_feature_columns, dnn_feature_columns=dnn_feature_columns,\n",
        "#                 task='binary',\n",
        "#                 l2_reg_embedding=1e-5, device=device)\n",
        "\n",
        "model = DeepFM(linear_feature_columns, dnn_feature_columns, dnn_hidden_units=(512, 256), dnn_dropout=0.0,\n",
        "               dnn_activation='relu', dnn_use_bn=True, task='binary', device=device, gpus=[0])\n",
        "\n",
        "\n",
        "# optimizer, loss 설정\n",
        "model.compile(\"adam\", \"binary_crossentropy\",\n",
        "                metrics=[\"binary_crossentropy\", \"auc\"], )\n",
        "\n",
        "\n",
        "# 모델 학습\n",
        "model.fit(x = train_model_input, y = train[target].values, batch_size=512, epochs=20, verbose=2, validation_split=0.2)\n",
        "\n",
        "# 평가\n",
        "pred_ans = model.predict(test_model_input, 512)\n",
        "print(\"\")\n",
        "print(\"test LogLoss\", round(log_loss(test[target].values, pred_ans), 4))\n",
        "print(\"test AUC\", round(roc_auc_score(test[target].values, pred_ans), 4))\n",
        "print(\"test RIG\", round(get_rig(train[target].values, test[target].values, pred_ans), 4))"
      ],
      "metadata": {
        "colab": {
          "base_uri": "https://localhost:8080/"
        },
        "id": "3NZT4kr47233",
        "outputId": "e4807432-7d71-49c2-87e4-bda94f3d48e4"
      },
      "execution_count": 90,
      "outputs": [
        {
          "output_type": "stream",
          "name": "stdout",
          "text": [
            "cuda ready...\n",
            "parallel running on these gpus: [0]\n",
            "Train on 470844 samples, validate on 117711 samples, 920 steps per epoch\n",
            "Epoch 1/20\n",
            "61s - loss:  0.1381 - binary_crossentropy:  0.1381 - auc:  0.6856 - val_binary_crossentropy:  0.1319 - val_auc:  0.6974\n",
            "Epoch 2/20\n",
            "60s - loss:  0.1345 - binary_crossentropy:  0.1345 - auc:  0.7033 - val_binary_crossentropy:  0.1305 - val_auc:  0.7101\n",
            "Epoch 3/20\n",
            "59s - loss:  0.1329 - binary_crossentropy:  0.1329 - auc:  0.7183 - val_binary_crossentropy:  0.1303 - val_auc:  0.7137\n",
            "Epoch 4/20\n",
            "60s - loss:  0.1322 - binary_crossentropy:  0.1323 - auc:  0.7259 - val_binary_crossentropy:  0.1297 - val_auc:  0.7197\n",
            "Epoch 5/20\n",
            "59s - loss:  0.1314 - binary_crossentropy:  0.1314 - auc:  0.7317 - val_binary_crossentropy:  0.1294 - val_auc:  0.7218\n",
            "Epoch 6/20\n",
            "59s - loss:  0.1308 - binary_crossentropy:  0.1308 - auc:  0.7350 - val_binary_crossentropy:  0.1294 - val_auc:  0.7197\n",
            "Epoch 7/20\n",
            "60s - loss:  0.1302 - binary_crossentropy:  0.1302 - auc:  0.7402 - val_binary_crossentropy:  0.1286 - val_auc:  0.7295\n",
            "Epoch 8/20\n",
            "59s - loss:  0.1296 - binary_crossentropy:  0.1296 - auc:  0.7452 - val_binary_crossentropy:  0.1305 - val_auc:  0.7269\n",
            "Epoch 9/20\n",
            "59s - loss:  0.1291 - binary_crossentropy:  0.1291 - auc:  0.7481 - val_binary_crossentropy:  0.1286 - val_auc:  0.7329\n",
            "Epoch 10/20\n",
            "59s - loss:  0.1286 - binary_crossentropy:  0.1286 - auc:  0.7540 - val_binary_crossentropy:  0.1288 - val_auc:  0.7302\n",
            "Epoch 11/20\n",
            "59s - loss:  0.1278 - binary_crossentropy:  0.1279 - auc:  0.7570 - val_binary_crossentropy:  0.1290 - val_auc:  0.7302\n",
            "Epoch 12/20\n",
            "59s - loss:  0.1274 - binary_crossentropy:  0.1275 - auc:  0.7611 - val_binary_crossentropy:  0.1291 - val_auc:  0.7306\n",
            "Epoch 13/20\n",
            "59s - loss:  0.1268 - binary_crossentropy:  0.1268 - auc:  0.7655 - val_binary_crossentropy:  0.1286 - val_auc:  0.7348\n",
            "Epoch 14/20\n",
            "60s - loss:  0.1264 - binary_crossentropy:  0.1264 - auc:  0.7675 - val_binary_crossentropy:  0.1291 - val_auc:  0.7330\n",
            "Epoch 15/20\n",
            "59s - loss:  0.1259 - binary_crossentropy:  0.1259 - auc:  0.7709 - val_binary_crossentropy:  0.1287 - val_auc:  0.7347\n",
            "Epoch 16/20\n",
            "59s - loss:  0.1252 - binary_crossentropy:  0.1252 - auc:  0.7756 - val_binary_crossentropy:  0.1288 - val_auc:  0.7380\n",
            "Epoch 17/20\n",
            "60s - loss:  0.1248 - binary_crossentropy:  0.1248 - auc:  0.7782 - val_binary_crossentropy:  0.1292 - val_auc:  0.7346\n",
            "Epoch 18/20\n",
            "59s - loss:  0.1243 - binary_crossentropy:  0.1243 - auc:  0.7822 - val_binary_crossentropy:  0.1296 - val_auc:  0.7364\n",
            "Epoch 19/20\n",
            "59s - loss:  0.1237 - binary_crossentropy:  0.1237 - auc:  0.7843 - val_binary_crossentropy:  0.1293 - val_auc:  0.7379\n",
            "Epoch 20/20\n",
            "60s - loss:  0.1233 - binary_crossentropy:  0.1234 - auc:  0.7870 - val_binary_crossentropy:  0.1289 - val_auc:  0.7392\n",
            "\n",
            "test LogLoss 0.1325\n",
            "test AUC 0.7372\n",
            "test RIG 0.0639\n"
          ]
        }
      ]
    },
    {
      "cell_type": "markdown",
      "source": [
        "- one-hot encoding, `adv_grade`, `adv_chat`, `content_emergency` 제외\n",
        "- category 1"
      ],
      "metadata": {
        "id": "ioZnC1Puu2Uu"
      }
    },
    {
      "cell_type": "code",
      "source": [
        "# cpu gpu 설정\n",
        "# device = 'cpu'\n",
        "use_cuda = True\n",
        "if use_cuda and torch.cuda.is_available():\n",
        "    print('cuda ready...')\n",
        "    device = 'cuda:0'\n",
        "\n",
        "# 모델 정의\n",
        "# model = DeepFM(linear_feature_columns=linear_feature_columns, dnn_feature_columns=dnn_feature_columns,\n",
        "#                 task='binary',\n",
        "#                 l2_reg_embedding=1e-5, device=device)\n",
        "\n",
        "model = DeepFM(linear_feature_columns, dnn_feature_columns, dnn_hidden_units=(512, 256), dnn_dropout=0.0,\n",
        "               dnn_activation='relu', dnn_use_bn=True, task='binary', device=device, gpus=[0])\n",
        "\n",
        "\n",
        "# optimizer, loss 설정\n",
        "model.compile(\"adam\", \"binary_crossentropy\",\n",
        "                metrics=[\"binary_crossentropy\", \"auc\"], )\n",
        "\n",
        "\n",
        "# 모델 학습\n",
        "model.fit(x = train_model_input, y = train[target].values, batch_size=512, epochs=20, verbose=2, validation_split=0.2)\n",
        "\n",
        "# 평가\n",
        "pred_ans = model.predict(test_model_input, 512)\n",
        "print(\"\")\n",
        "print(\"test LogLoss\", round(log_loss(test[target].values, pred_ans), 4))\n",
        "print(\"test AUC\", round(roc_auc_score(test[target].values, pred_ans), 4))\n",
        "print(\"test RIG\", round(get_rig(train[target].values, test[target].values, pred_ans), 4))"
      ],
      "metadata": {
        "colab": {
          "base_uri": "https://localhost:8080/"
        },
        "id": "jL1AD8TnuDt8",
        "outputId": "2e21b695-bf39-48d6-af19-043214489fcd"
      },
      "execution_count": 48,
      "outputs": [
        {
          "output_type": "stream",
          "name": "stdout",
          "text": [
            "cuda ready...\n",
            "parallel running on these gpus: [0]\n",
            "Train on 470844 samples, validate on 117711 samples, 920 steps per epoch\n",
            "Epoch 1/20\n",
            "27s - loss:  0.1390 - binary_crossentropy:  0.1390 - auc:  0.6781 - val_binary_crossentropy:  0.1322 - val_auc:  0.6926\n",
            "Epoch 2/20\n",
            "26s - loss:  0.1350 - binary_crossentropy:  0.1350 - auc:  0.6968 - val_binary_crossentropy:  0.1317 - val_auc:  0.7002\n",
            "Epoch 3/20\n",
            "26s - loss:  0.1337 - binary_crossentropy:  0.1337 - auc:  0.7101 - val_binary_crossentropy:  0.1306 - val_auc:  0.7123\n",
            "Epoch 4/20\n",
            "26s - loss:  0.1328 - binary_crossentropy:  0.1327 - auc:  0.7178 - val_binary_crossentropy:  0.1301 - val_auc:  0.7154\n",
            "Epoch 5/20\n",
            "26s - loss:  0.1322 - binary_crossentropy:  0.1322 - auc:  0.7234 - val_binary_crossentropy:  0.1298 - val_auc:  0.7174\n",
            "Epoch 6/20\n",
            "26s - loss:  0.1316 - binary_crossentropy:  0.1316 - auc:  0.7283 - val_binary_crossentropy:  0.1292 - val_auc:  0.7236\n",
            "Epoch 7/20\n",
            "26s - loss:  0.1310 - binary_crossentropy:  0.1310 - auc:  0.7325 - val_binary_crossentropy:  0.1295 - val_auc:  0.7226\n",
            "Epoch 8/20\n",
            "28s - loss:  0.1305 - binary_crossentropy:  0.1305 - auc:  0.7372 - val_binary_crossentropy:  0.1290 - val_auc:  0.7251\n",
            "Epoch 9/20\n",
            "26s - loss:  0.1300 - binary_crossentropy:  0.1300 - auc:  0.7410 - val_binary_crossentropy:  0.1293 - val_auc:  0.7270\n",
            "Epoch 10/20\n",
            "26s - loss:  0.1294 - binary_crossentropy:  0.1294 - auc:  0.7454 - val_binary_crossentropy:  0.1290 - val_auc:  0.7305\n",
            "Epoch 11/20\n",
            "26s - loss:  0.1288 - binary_crossentropy:  0.1288 - auc:  0.7497 - val_binary_crossentropy:  0.1284 - val_auc:  0.7309\n",
            "Epoch 12/20\n",
            "26s - loss:  0.1282 - binary_crossentropy:  0.1281 - auc:  0.7536 - val_binary_crossentropy:  0.1283 - val_auc:  0.7329\n",
            "Epoch 13/20\n",
            "26s - loss:  0.1277 - binary_crossentropy:  0.1277 - auc:  0.7571 - val_binary_crossentropy:  0.1286 - val_auc:  0.7302\n",
            "Epoch 14/20\n",
            "26s - loss:  0.1270 - binary_crossentropy:  0.1270 - auc:  0.7617 - val_binary_crossentropy:  0.1290 - val_auc:  0.7295\n",
            "Epoch 15/20\n",
            "26s - loss:  0.1266 - binary_crossentropy:  0.1266 - auc:  0.7652 - val_binary_crossentropy:  0.1287 - val_auc:  0.7312\n",
            "Epoch 16/20\n",
            "26s - loss:  0.1278 - binary_crossentropy:  0.1266 - auc:  0.7694 - val_binary_crossentropy:  0.1286 - val_auc:  0.7356\n",
            "Epoch 17/20\n",
            "26s - loss:  0.1255 - binary_crossentropy:  0.1255 - auc:  0.7728 - val_binary_crossentropy:  0.1288 - val_auc:  0.7347\n",
            "Epoch 18/20\n",
            "26s - loss:  0.1252 - binary_crossentropy:  0.1252 - auc:  0.7756 - val_binary_crossentropy:  0.1296 - val_auc:  0.7302\n",
            "Epoch 19/20\n",
            "26s - loss:  0.1244 - binary_crossentropy:  0.1244 - auc:  0.7780 - val_binary_crossentropy:  0.1299 - val_auc:  0.7299\n",
            "Epoch 20/20\n",
            "26s - loss:  0.1239 - binary_crossentropy:  0.1239 - auc:  0.7813 - val_binary_crossentropy:  0.1291 - val_auc:  0.7359\n",
            "\n",
            "test LogLoss 0.1313\n",
            "test AUC 0.7359\n",
            "test RIG 0.0727\n"
          ]
        }
      ]
    },
    {
      "cell_type": "markdown",
      "source": [
        "## Label"
      ],
      "metadata": {
        "id": "WJYMR5S-4fRW"
      }
    },
    {
      "cell_type": "markdown",
      "source": [
        "- Label encoding, `adv_grade`, `adv_chat`, `content_emergency` 제외\n",
        "- Category 1"
      ],
      "metadata": {
        "id": "ai4wtr9s5DuZ"
      }
    },
    {
      "cell_type": "code",
      "source": [
        "# cpu gpu 설정\n",
        "# device = 'cpu'\n",
        "use_cuda = True\n",
        "if use_cuda and torch.cuda.is_available():\n",
        "    print('cuda ready...')\n",
        "    device = 'cuda:0'\n",
        "\n",
        "# 모델 정의\n",
        "# model = DeepFM(linear_feature_columns=linear_feature_columns, dnn_feature_columns=dnn_feature_columns,\n",
        "#                 task='binary',\n",
        "#                 l2_reg_embedding=1e-5, device=device)\n",
        "\n",
        "model = DeepFM(linear_feature_columns, dnn_feature_columns, dnn_hidden_units=(512, 256), dnn_dropout=0.0,\n",
        "               dnn_activation='relu', dnn_use_bn=True, task='binary', device=device, gpus=[0])\n",
        "\n",
        "\n",
        "# optimizer, loss 설정\n",
        "model.compile(\"adam\", \"binary_crossentropy\",\n",
        "                metrics=[\"binary_crossentropy\", \"auc\"], )\n",
        "\n",
        "\n",
        "# 모델 학습\n",
        "model.fit(x = train_model_input, y = train[target].values, batch_size=512, epochs=20, verbose=2, validation_split=0.2)\n",
        "\n",
        "# 평가\n",
        "pred_ans = model.predict(test_model_input, 512)\n",
        "print(\"\")\n",
        "print(\"test LogLoss\", round(log_loss(test[target].values, pred_ans), 4))\n",
        "print(\"test AUC\", round(roc_auc_score(test[target].values, pred_ans), 4))\n",
        "print(\"test RIG\", round(get_rig(train[target].values, test[target].values, pred_ans), 4))"
      ],
      "metadata": {
        "colab": {
          "base_uri": "https://localhost:8080/"
        },
        "id": "1cZVB8pm5Bcg",
        "outputId": "3f58b4fd-d9dc-4079-ee11-2d111005b831"
      },
      "execution_count": 70,
      "outputs": [
        {
          "output_type": "stream",
          "name": "stdout",
          "text": [
            "cuda ready...\n",
            "parallel running on these gpus: [0]\n",
            "Train on 470844 samples, validate on 117711 samples, 920 steps per epoch\n",
            "Epoch 1/20\n",
            "12s - loss:  0.1393 - binary_crossentropy:  0.1393 - auc:  0.6771 - val_binary_crossentropy:  0.1324 - val_auc:  0.6884\n",
            "Epoch 2/20\n",
            "11s - loss:  0.1350 - binary_crossentropy:  0.1350 - auc:  0.6976 - val_binary_crossentropy:  0.1327 - val_auc:  0.6952\n",
            "Epoch 3/20\n",
            "11s - loss:  0.1340 - binary_crossentropy:  0.1340 - auc:  0.7067 - val_binary_crossentropy:  0.1320 - val_auc:  0.6986\n",
            "Epoch 4/20\n",
            "11s - loss:  0.1334 - binary_crossentropy:  0.1334 - auc:  0.7128 - val_binary_crossentropy:  0.1312 - val_auc:  0.7064\n",
            "Epoch 5/20\n",
            "11s - loss:  0.1329 - binary_crossentropy:  0.1329 - auc:  0.7182 - val_binary_crossentropy:  0.1309 - val_auc:  0.7093\n",
            "Epoch 6/20\n",
            "12s - loss:  0.1323 - binary_crossentropy:  0.1323 - auc:  0.7222 - val_binary_crossentropy:  0.1302 - val_auc:  0.7164\n",
            "Epoch 7/20\n",
            "11s - loss:  0.1317 - binary_crossentropy:  0.1317 - auc:  0.7272 - val_binary_crossentropy:  0.1302 - val_auc:  0.7166\n",
            "Epoch 8/20\n",
            "11s - loss:  0.1311 - binary_crossentropy:  0.1311 - auc:  0.7312 - val_binary_crossentropy:  0.1305 - val_auc:  0.7220\n",
            "Epoch 9/20\n",
            "12s - loss:  0.1304 - binary_crossentropy:  0.1305 - auc:  0.7378 - val_binary_crossentropy:  0.1301 - val_auc:  0.7217\n",
            "Epoch 10/20\n",
            "11s - loss:  0.1300 - binary_crossentropy:  0.1300 - auc:  0.7410 - val_binary_crossentropy:  0.1293 - val_auc:  0.7225\n",
            "Epoch 11/20\n",
            "11s - loss:  0.1295 - binary_crossentropy:  0.1295 - auc:  0.7446 - val_binary_crossentropy:  0.1293 - val_auc:  0.7236\n",
            "Epoch 12/20\n",
            "11s - loss:  0.1289 - binary_crossentropy:  0.1289 - auc:  0.7494 - val_binary_crossentropy:  0.1301 - val_auc:  0.7224\n",
            "Epoch 13/20\n",
            "11s - loss:  0.1285 - binary_crossentropy:  0.1285 - auc:  0.7534 - val_binary_crossentropy:  0.1285 - val_auc:  0.7290\n",
            "Epoch 14/20\n",
            "11s - loss:  0.1280 - binary_crossentropy:  0.1280 - auc:  0.7562 - val_binary_crossentropy:  0.1288 - val_auc:  0.7300\n",
            "Epoch 15/20\n",
            "11s - loss:  0.1274 - binary_crossentropy:  0.1274 - auc:  0.7605 - val_binary_crossentropy:  0.1280 - val_auc:  0.7344\n",
            "Epoch 16/20\n",
            "11s - loss:  0.1273 - binary_crossentropy:  0.1272 - auc:  0.7638 - val_binary_crossentropy:  0.1289 - val_auc:  0.7316\n",
            "Epoch 17/20\n",
            "11s - loss:  0.1266 - binary_crossentropy:  0.1266 - auc:  0.7657 - val_binary_crossentropy:  0.1284 - val_auc:  0.7328\n",
            "Epoch 18/20\n",
            "11s - loss:  0.1262 - binary_crossentropy:  0.1261 - auc:  0.7699 - val_binary_crossentropy:  0.1290 - val_auc:  0.7293\n",
            "Epoch 19/20\n",
            "11s - loss:  0.1255 - binary_crossentropy:  0.1255 - auc:  0.7745 - val_binary_crossentropy:  0.1286 - val_auc:  0.7334\n",
            "Epoch 20/20\n",
            "12s - loss:  0.1252 - binary_crossentropy:  0.1252 - auc:  0.7759 - val_binary_crossentropy:  0.1287 - val_auc:  0.7343\n",
            "\n",
            "test LogLoss 0.1309\n",
            "test AUC 0.7353\n",
            "test RIG 0.0755\n"
          ]
        }
      ]
    },
    {
      "cell_type": "markdown",
      "source": [
        "- Label encoding, `adv_grade`, `adv_chat`, `content_emergency` 제외\n",
        "- Category 2"
      ],
      "metadata": {
        "id": "Y8n9YVYO56Xv"
      }
    },
    {
      "cell_type": "code",
      "source": [
        "# cpu gpu 설정\n",
        "# device = 'cpu'\n",
        "use_cuda = True\n",
        "if use_cuda and torch.cuda.is_available():\n",
        "    print('cuda ready...')\n",
        "    device = 'cuda:0'\n",
        "\n",
        "# 모델 정의\n",
        "# model = DeepFM(linear_feature_columns=linear_feature_columns, dnn_feature_columns=dnn_feature_columns,\n",
        "#                 task='binary',\n",
        "#                 l2_reg_embedding=1e-5, device=device)\n",
        "\n",
        "model = DeepFM(linear_feature_columns, dnn_feature_columns, dnn_hidden_units=(512, 256), dnn_dropout=0.0,\n",
        "               dnn_activation='relu', dnn_use_bn=True, task='binary', device=device, gpus=[0])\n",
        "\n",
        "\n",
        "# optimizer, loss 설정\n",
        "model.compile(\"adam\", \"binary_crossentropy\",\n",
        "                metrics=[\"binary_crossentropy\", \"auc\"], )\n",
        "\n",
        "\n",
        "# 모델 학습\n",
        "model.fit(x = train_model_input, y = train[target].values, batch_size=512, epochs=20, verbose=2, validation_split=0.2)\n",
        "\n",
        "# 평가\n",
        "pred_ans = model.predict(test_model_input, 512)\n",
        "print(\"\")\n",
        "print(\"test LogLoss\", round(log_loss(test[target].values, pred_ans), 4))\n",
        "print(\"test AUC\", round(roc_auc_score(test[target].values, pred_ans), 4))\n",
        "print(\"test RIG\", round(get_rig(train[target].values, test[target].values, pred_ans), 4))"
      ],
      "metadata": {
        "colab": {
          "base_uri": "https://localhost:8080/"
        },
        "id": "hx8MI_LL56qA",
        "outputId": "79b0d9a8-b3cd-4f63-b039-ce6bcdde94d6"
      },
      "execution_count": 80,
      "outputs": [
        {
          "output_type": "stream",
          "name": "stdout",
          "text": [
            "cuda ready...\n",
            "parallel running on these gpus: [0]\n",
            "Train on 470844 samples, validate on 117711 samples, 920 steps per epoch\n",
            "Epoch 1/20\n",
            "12s - loss:  0.1400 - binary_crossentropy:  0.1401 - auc:  0.6746 - val_binary_crossentropy:  0.1323 - val_auc:  0.6942\n",
            "Epoch 2/20\n",
            "11s - loss:  0.1345 - binary_crossentropy:  0.1345 - auc:  0.7026 - val_binary_crossentropy:  0.1311 - val_auc:  0.7099\n",
            "Epoch 3/20\n",
            "11s - loss:  0.1336 - binary_crossentropy:  0.1336 - auc:  0.7128 - val_binary_crossentropy:  0.1325 - val_auc:  0.7056\n",
            "Epoch 4/20\n",
            "11s - loss:  0.1329 - binary_crossentropy:  0.1329 - auc:  0.7167 - val_binary_crossentropy:  0.1321 - val_auc:  0.6985\n",
            "Epoch 5/20\n",
            "11s - loss:  0.1324 - binary_crossentropy:  0.1323 - auc:  0.7236 - val_binary_crossentropy:  0.1296 - val_auc:  0.7220\n",
            "Epoch 6/20\n",
            "11s - loss:  0.1317 - binary_crossentropy:  0.1317 - auc:  0.7286 - val_binary_crossentropy:  0.1304 - val_auc:  0.7142\n",
            "Epoch 7/20\n",
            "11s - loss:  0.1311 - binary_crossentropy:  0.1311 - auc:  0.7320 - val_binary_crossentropy:  0.1291 - val_auc:  0.7238\n",
            "Epoch 8/20\n",
            "11s - loss:  0.1306 - binary_crossentropy:  0.1306 - auc:  0.7356 - val_binary_crossentropy:  0.1296 - val_auc:  0.7194\n",
            "Epoch 9/20\n",
            "11s - loss:  0.1301 - binary_crossentropy:  0.1301 - auc:  0.7403 - val_binary_crossentropy:  0.1290 - val_auc:  0.7258\n",
            "Epoch 10/20\n",
            "11s - loss:  0.1296 - binary_crossentropy:  0.1296 - auc:  0.7445 - val_binary_crossentropy:  0.1288 - val_auc:  0.7278\n",
            "Epoch 11/20\n",
            "11s - loss:  0.1290 - binary_crossentropy:  0.1290 - auc:  0.7490 - val_binary_crossentropy:  0.1291 - val_auc:  0.7284\n",
            "Epoch 12/20\n",
            "11s - loss:  0.1284 - binary_crossentropy:  0.1284 - auc:  0.7549 - val_binary_crossentropy:  0.1283 - val_auc:  0.7342\n",
            "Epoch 13/20\n",
            "11s - loss:  0.1280 - binary_crossentropy:  0.1280 - auc:  0.7565 - val_binary_crossentropy:  0.1284 - val_auc:  0.7339\n",
            "Epoch 14/20\n",
            "11s - loss:  0.1276 - binary_crossentropy:  0.1276 - auc:  0.7600 - val_binary_crossentropy:  0.1284 - val_auc:  0.7342\n",
            "Epoch 15/20\n",
            "11s - loss:  0.1271 - binary_crossentropy:  0.1271 - auc:  0.7628 - val_binary_crossentropy:  0.1281 - val_auc:  0.7350\n",
            "Epoch 16/20\n",
            "11s - loss:  0.1264 - binary_crossentropy:  0.1264 - auc:  0.7672 - val_binary_crossentropy:  0.1281 - val_auc:  0.7371\n",
            "Epoch 17/20\n",
            "11s - loss:  0.1260 - binary_crossentropy:  0.1260 - auc:  0.7696 - val_binary_crossentropy:  0.1295 - val_auc:  0.7349\n",
            "Epoch 18/20\n",
            "11s - loss:  0.1256 - binary_crossentropy:  0.1256 - auc:  0.7725 - val_binary_crossentropy:  0.1292 - val_auc:  0.7315\n",
            "Epoch 19/20\n",
            "11s - loss:  0.1253 - binary_crossentropy:  0.1253 - auc:  0.7761 - val_binary_crossentropy:  0.1281 - val_auc:  0.7364\n",
            "Epoch 20/20\n",
            "11s - loss:  0.1246 - binary_crossentropy:  0.1246 - auc:  0.7807 - val_binary_crossentropy:  0.1286 - val_auc:  0.7358\n",
            "\n",
            "test LogLoss 0.1311\n",
            "test AUC 0.7354\n",
            "test RIG 0.0737\n"
          ]
        }
      ]
    },
    {
      "cell_type": "markdown",
      "source": [
        "- Label encoding, `adv_grade`, `adv_chat`, `content_emergency` 제외\n",
        "- Category 3"
      ],
      "metadata": {
        "id": "6gWsDiwiuEbZ"
      }
    },
    {
      "cell_type": "code",
      "source": [
        "# cpu gpu 설정\n",
        "# device = 'cpu'\n",
        "use_cuda = True\n",
        "if use_cuda and torch.cuda.is_available():\n",
        "    print('cuda ready...')\n",
        "    device = 'cuda:0'\n",
        "\n",
        "# 모델 정의\n",
        "# model = DeepFM(linear_feature_columns=linear_feature_columns, dnn_feature_columns=dnn_feature_columns,\n",
        "#                 task='binary',\n",
        "#                 l2_reg_embedding=1e-5, device=device)\n",
        "\n",
        "model = DeepFM(linear_feature_columns, dnn_feature_columns, dnn_hidden_units=(512, 256), dnn_dropout=0.0,\n",
        "               dnn_activation='relu', dnn_use_bn=True, task='binary', device=device, gpus=[0])\n",
        "\n",
        "\n",
        "# optimizer, loss 설정\n",
        "model.compile(\"adam\", \"binary_crossentropy\",\n",
        "                metrics=[\"binary_crossentropy\", \"auc\"], )\n",
        "\n",
        "\n",
        "# 모델 학습\n",
        "model.fit(x = train_model_input, y = train[target].values, batch_size=512, epochs=20, verbose=2, validation_split=0.2)\n",
        "\n",
        "# 평가\n",
        "pred_ans = model.predict(test_model_input, 512)\n",
        "print(\"\")\n",
        "print(\"test LogLoss\", round(log_loss(test[target].values, pred_ans), 4))\n",
        "print(\"test AUC\", round(roc_auc_score(test[target].values, pred_ans), 4))\n",
        "print(\"test RIG\", round(get_rig(train[target].values, test[target].values, pred_ans), 4))"
      ],
      "metadata": {
        "colab": {
          "base_uri": "https://localhost:8080/"
        },
        "id": "sFs5yHD7sotM",
        "outputId": "34b6a049-db5a-4b0b-b05d-3c5c0f46d607"
      },
      "execution_count": 33,
      "outputs": [
        {
          "output_type": "stream",
          "name": "stdout",
          "text": [
            "cuda ready...\n",
            "parallel running on these gpus: [0]\n",
            "Train on 470844 samples, validate on 117711 samples, 920 steps per epoch\n",
            "Epoch 1/20\n",
            "11s - loss:  0.1413 - binary_crossentropy:  0.1413 - auc:  0.6797 - val_binary_crossentropy:  0.1335 - val_auc:  0.6897\n",
            "Epoch 2/20\n",
            "11s - loss:  0.1344 - binary_crossentropy:  0.1344 - auc:  0.7042 - val_binary_crossentropy:  0.1322 - val_auc:  0.6992\n",
            "Epoch 3/20\n",
            "11s - loss:  0.1334 - binary_crossentropy:  0.1334 - auc:  0.7137 - val_binary_crossentropy:  0.1312 - val_auc:  0.7120\n",
            "Epoch 4/20\n",
            "11s - loss:  0.1326 - binary_crossentropy:  0.1326 - auc:  0.7224 - val_binary_crossentropy:  0.1314 - val_auc:  0.7177\n",
            "Epoch 5/20\n",
            "11s - loss:  0.1319 - binary_crossentropy:  0.1319 - auc:  0.7279 - val_binary_crossentropy:  0.1297 - val_auc:  0.7204\n",
            "Epoch 6/20\n",
            "11s - loss:  0.1313 - binary_crossentropy:  0.1313 - auc:  0.7310 - val_binary_crossentropy:  0.1299 - val_auc:  0.7208\n",
            "Epoch 7/20\n",
            "11s - loss:  0.1307 - binary_crossentropy:  0.1307 - auc:  0.7365 - val_binary_crossentropy:  0.1292 - val_auc:  0.7286\n",
            "Epoch 8/20\n",
            "12s - loss:  0.1302 - binary_crossentropy:  0.1302 - auc:  0.7407 - val_binary_crossentropy:  0.1293 - val_auc:  0.7252\n",
            "Epoch 9/20\n",
            "11s - loss:  0.1296 - binary_crossentropy:  0.1296 - auc:  0.7460 - val_binary_crossentropy:  0.1291 - val_auc:  0.7294\n",
            "Epoch 10/20\n",
            "11s - loss:  0.1291 - binary_crossentropy:  0.1291 - auc:  0.7482 - val_binary_crossentropy:  0.1283 - val_auc:  0.7343\n",
            "Epoch 11/20\n",
            "11s - loss:  0.1286 - binary_crossentropy:  0.1286 - auc:  0.7528 - val_binary_crossentropy:  0.1283 - val_auc:  0.7323\n",
            "Epoch 12/20\n",
            "11s - loss:  0.1282 - binary_crossentropy:  0.1282 - auc:  0.7557 - val_binary_crossentropy:  0.1281 - val_auc:  0.7379\n",
            "Epoch 13/20\n",
            "11s - loss:  0.1276 - binary_crossentropy:  0.1276 - auc:  0.7594 - val_binary_crossentropy:  0.1277 - val_auc:  0.7403\n",
            "Epoch 14/20\n",
            "11s - loss:  0.1271 - binary_crossentropy:  0.1271 - auc:  0.7622 - val_binary_crossentropy:  0.1281 - val_auc:  0.7378\n",
            "Epoch 15/20\n",
            "11s - loss:  0.1267 - binary_crossentropy:  0.1267 - auc:  0.7658 - val_binary_crossentropy:  0.1283 - val_auc:  0.7410\n",
            "Epoch 16/20\n",
            "11s - loss:  0.1262 - binary_crossentropy:  0.1262 - auc:  0.7685 - val_binary_crossentropy:  0.1282 - val_auc:  0.7397\n",
            "Epoch 17/20\n",
            "11s - loss:  0.1258 - binary_crossentropy:  0.1258 - auc:  0.7709 - val_binary_crossentropy:  0.1282 - val_auc:  0.7397\n",
            "Epoch 18/20\n",
            "11s - loss:  0.1253 - binary_crossentropy:  0.1253 - auc:  0.7748 - val_binary_crossentropy:  0.1286 - val_auc:  0.7380\n",
            "Epoch 19/20\n",
            "11s - loss:  0.1249 - binary_crossentropy:  0.1249 - auc:  0.7769 - val_binary_crossentropy:  0.1289 - val_auc:  0.7389\n",
            "Epoch 20/20\n",
            "11s - loss:  0.1244 - binary_crossentropy:  0.1244 - auc:  0.7804 - val_binary_crossentropy:  0.1284 - val_auc:  0.7402\n",
            "\n",
            "test LogLoss 0.1312\n",
            "test AUC 0.7396\n",
            "test RIG 0.073\n"
          ]
        }
      ]
    },
    {
      "cell_type": "markdown",
      "source": [
        "- Label encoding, `adv_grade`, `adv_chat`, `content_emergency` 제외\n",
        "- Category 1,2,3"
      ],
      "metadata": {
        "id": "7uzd2-MEBDif"
      }
    },
    {
      "cell_type": "code",
      "source": [
        "# cpu gpu 설정\n",
        "# device = 'cpu'\n",
        "use_cuda = True\n",
        "if use_cuda and torch.cuda.is_available():\n",
        "    print('cuda ready...')\n",
        "    device = 'cuda:0'\n",
        "\n",
        "# 모델 정의\n",
        "# model = DeepFM(linear_feature_columns=linear_feature_columns, dnn_feature_columns=dnn_feature_columns,\n",
        "#                 task='binary',\n",
        "#                 l2_reg_embedding=1e-5, device=device)\n",
        "\n",
        "model = DeepFM(linear_feature_columns, dnn_feature_columns, dnn_hidden_units=(512, 256), dnn_dropout=0.0,\n",
        "               dnn_activation='relu', dnn_use_bn=True, task='binary', device=device, gpus=[0])\n",
        "\n",
        "\n",
        "# optimizer, loss 설정\n",
        "model.compile(\"adam\", \"binary_crossentropy\",\n",
        "                metrics=[\"binary_crossentropy\", \"auc\"], )\n",
        "\n",
        "\n",
        "# 모델 학습\n",
        "model.fit(x = train_model_input, y = train[target].values, batch_size=512, epochs=20, verbose=2, validation_split=0.2)\n",
        "\n",
        "# 평가\n",
        "pred_ans = model.predict(test_model_input, 512)\n",
        "print(\"\")\n",
        "print(\"test LogLoss\", round(log_loss(test[target].values, pred_ans), 4))\n",
        "print(\"test AUC\", round(roc_auc_score(test[target].values, pred_ans), 4))\n",
        "print(\"test RIG\", round(get_rig(train[target].values, test[target].values, pred_ans), 4))"
      ],
      "metadata": {
        "colab": {
          "base_uri": "https://localhost:8080/"
        },
        "id": "Qn3_LhieBBuO",
        "outputId": "dea2f0df-9a9e-47ae-8d70-43617c62a5e7"
      },
      "execution_count": 98,
      "outputs": [
        {
          "output_type": "stream",
          "name": "stdout",
          "text": [
            "cuda ready...\n",
            "parallel running on these gpus: [0]\n",
            "Train on 470844 samples, validate on 117711 samples, 920 steps per epoch\n",
            "Epoch 1/20\n",
            "13s - loss:  0.1411 - binary_crossentropy:  0.1411 - auc:  0.6809 - val_binary_crossentropy:  0.1316 - val_auc:  0.7040\n",
            "Epoch 2/20\n",
            "12s - loss:  0.1342 - binary_crossentropy:  0.1341 - auc:  0.7086 - val_binary_crossentropy:  0.1313 - val_auc:  0.7040\n",
            "Epoch 3/20\n",
            "12s - loss:  0.1330 - binary_crossentropy:  0.1330 - auc:  0.7185 - val_binary_crossentropy:  0.1311 - val_auc:  0.7118\n",
            "Epoch 4/20\n",
            "12s - loss:  0.1322 - binary_crossentropy:  0.1322 - auc:  0.7245 - val_binary_crossentropy:  0.1305 - val_auc:  0.7153\n",
            "Epoch 5/20\n",
            "12s - loss:  0.1316 - binary_crossentropy:  0.1317 - auc:  0.7296 - val_binary_crossentropy:  0.1315 - val_auc:  0.7021\n",
            "Epoch 6/20\n",
            "12s - loss:  0.1309 - binary_crossentropy:  0.1309 - auc:  0.7350 - val_binary_crossentropy:  0.1310 - val_auc:  0.7198\n",
            "Epoch 7/20\n",
            "12s - loss:  0.1304 - binary_crossentropy:  0.1304 - auc:  0.7387 - val_binary_crossentropy:  0.1294 - val_auc:  0.7239\n",
            "Epoch 8/20\n",
            "14s - loss:  0.1298 - binary_crossentropy:  0.1298 - auc:  0.7426 - val_binary_crossentropy:  0.1292 - val_auc:  0.7262\n",
            "Epoch 9/20\n",
            "13s - loss:  0.1293 - binary_crossentropy:  0.1293 - auc:  0.7472 - val_binary_crossentropy:  0.1284 - val_auc:  0.7335\n",
            "Epoch 10/20\n",
            "12s - loss:  0.1287 - binary_crossentropy:  0.1287 - auc:  0.7501 - val_binary_crossentropy:  0.1290 - val_auc:  0.7317\n",
            "Epoch 11/20\n",
            "12s - loss:  0.1282 - binary_crossentropy:  0.1282 - auc:  0.7547 - val_binary_crossentropy:  0.1286 - val_auc:  0.7304\n",
            "Epoch 12/20\n",
            "12s - loss:  0.1278 - binary_crossentropy:  0.1278 - auc:  0.7577 - val_binary_crossentropy:  0.1280 - val_auc:  0.7348\n",
            "Epoch 13/20\n",
            "12s - loss:  0.1272 - binary_crossentropy:  0.1272 - auc:  0.7623 - val_binary_crossentropy:  0.1288 - val_auc:  0.7308\n",
            "Epoch 14/20\n",
            "12s - loss:  0.1266 - binary_crossentropy:  0.1266 - auc:  0.7659 - val_binary_crossentropy:  0.1281 - val_auc:  0.7358\n",
            "Epoch 15/20\n",
            "12s - loss:  0.1261 - binary_crossentropy:  0.1261 - auc:  0.7700 - val_binary_crossentropy:  0.1279 - val_auc:  0.7388\n",
            "Epoch 16/20\n",
            "12s - loss:  0.1255 - binary_crossentropy:  0.1255 - auc:  0.7728 - val_binary_crossentropy:  0.1284 - val_auc:  0.7343\n",
            "Epoch 17/20\n",
            "12s - loss:  0.1250 - binary_crossentropy:  0.1250 - auc:  0.7775 - val_binary_crossentropy:  0.1282 - val_auc:  0.7407\n",
            "Epoch 18/20\n",
            "12s - loss:  0.1244 - binary_crossentropy:  0.1244 - auc:  0.7803 - val_binary_crossentropy:  0.1287 - val_auc:  0.7421\n",
            "Epoch 19/20\n",
            "12s - loss:  0.1239 - binary_crossentropy:  0.1239 - auc:  0.7830 - val_binary_crossentropy:  0.1287 - val_auc:  0.7381\n",
            "Epoch 20/20\n",
            "12s - loss:  0.1233 - binary_crossentropy:  0.1233 - auc:  0.7869 - val_binary_crossentropy:  0.1287 - val_auc:  0.7345\n",
            "\n",
            "test LogLoss 0.1311\n",
            "test AUC 0.7339\n",
            "test RIG 0.074\n"
          ]
        }
      ]
    },
    {
      "cell_type": "markdown",
      "source": [
        "- 이미지 + onehot 전부"
      ],
      "metadata": {
        "id": "_MDJcJDaspWD"
      }
    },
    {
      "cell_type": "code",
      "source": [
        "# cpu gpu 설정\n",
        "# device = 'cpu'\n",
        "use_cuda = True\n",
        "if use_cuda and torch.cuda.is_available():\n",
        "    print('cuda ready...')\n",
        "    device = 'cuda:0'\n",
        "\n",
        "# 모델 정의\n",
        "# model = DeepFM(linear_feature_columns=linear_feature_columns, dnn_feature_columns=dnn_feature_columns,\n",
        "#                 task='binary',\n",
        "#                 l2_reg_embedding=1e-5, device=device)\n",
        "\n",
        "model = DeepFM(linear_feature_columns, dnn_feature_columns, dnn_hidden_units=(512, 256), dnn_dropout=0.0,\n",
        "               dnn_activation='relu', dnn_use_bn=True, task='binary', device=device, gpus=[0])\n",
        "\n",
        "\n",
        "# optimizer, loss 설정\n",
        "model.compile(\"adam\", \"binary_crossentropy\",\n",
        "                metrics=[\"binary_crossentropy\", \"auc\"], )\n",
        "\n",
        "\n",
        "# 모델 학습\n",
        "model.fit(x = train_model_input, y = train[target].values, batch_size=512, epochs=20, verbose=2, validation_split=0.2)\n",
        "\n",
        "# 평가\n",
        "pred_ans = model.predict(test_model_input, 512)\n",
        "print(\"\")\n",
        "print(\"test LogLoss\", round(log_loss(test[target].values, pred_ans), 4))\n",
        "print(\"test AUC\", round(roc_auc_score(test[target].values, pred_ans), 4))\n",
        "print(\"test RIG\", round(get_rig(train[target].values, test[target].values, pred_ans), 4))"
      ],
      "metadata": {
        "colab": {
          "base_uri": "https://localhost:8080/"
        },
        "id": "ZsqGj-LST_tq",
        "outputId": "e98c209e-0d98-494d-df76-8f7abc519be2"
      },
      "execution_count": 21,
      "outputs": [
        {
          "output_type": "stream",
          "name": "stdout",
          "text": [
            "cuda ready...\n",
            "parallel running on these gpus: [0]\n",
            "Train on 470844 samples, validate on 117711 samples, 920 steps per epoch\n",
            "Epoch 1/20\n",
            "179s - loss:  0.1366 - binary_crossentropy:  0.1366 - auc:  0.6902 - val_binary_crossentropy:  0.1336 - val_auc:  0.7115\n",
            "Epoch 2/20\n",
            "177s - loss:  0.1336 - binary_crossentropy:  0.1336 - auc:  0.7072 - val_binary_crossentropy:  0.1337 - val_auc:  0.7135\n",
            "Epoch 3/20\n",
            "175s - loss:  0.1325 - binary_crossentropy:  0.1325 - auc:  0.7162 - val_binary_crossentropy:  0.1372 - val_auc:  0.7103\n",
            "Epoch 4/20\n",
            "176s - loss:  0.1322 - binary_crossentropy:  0.1322 - auc:  0.7212 - val_binary_crossentropy:  0.1335 - val_auc:  0.7225\n",
            "Epoch 5/20\n",
            "175s - loss:  0.1320 - binary_crossentropy:  0.1320 - auc:  0.7230 - val_binary_crossentropy:  0.1349 - val_auc:  0.7209\n",
            "Epoch 6/20\n",
            "177s - loss:  0.1317 - binary_crossentropy:  0.1317 - auc:  0.7279 - val_binary_crossentropy:  0.1339 - val_auc:  0.7126\n",
            "Epoch 7/20\n",
            "175s - loss:  0.1310 - binary_crossentropy:  0.1310 - auc:  0.7331 - val_binary_crossentropy:  0.1355 - val_auc:  0.7232\n",
            "Epoch 8/20\n",
            "175s - loss:  0.1305 - binary_crossentropy:  0.1306 - auc:  0.7382 - val_binary_crossentropy:  0.1374 - val_auc:  0.7270\n",
            "Epoch 9/20\n",
            "175s - loss:  0.1299 - binary_crossentropy:  0.1299 - auc:  0.7415 - val_binary_crossentropy:  0.1316 - val_auc:  0.7298\n",
            "Epoch 10/20\n",
            "175s - loss:  0.1295 - binary_crossentropy:  0.1295 - auc:  0.7459 - val_binary_crossentropy:  0.1330 - val_auc:  0.7253\n",
            "Epoch 11/20\n",
            "175s - loss:  0.1292 - binary_crossentropy:  0.1292 - auc:  0.7475 - val_binary_crossentropy:  0.1311 - val_auc:  0.7350\n",
            "Epoch 12/20\n",
            "175s - loss:  0.1285 - binary_crossentropy:  0.1285 - auc:  0.7530 - val_binary_crossentropy:  0.1345 - val_auc:  0.7362\n",
            "Epoch 13/20\n",
            "175s - loss:  0.1284 - binary_crossentropy:  0.1284 - auc:  0.7549 - val_binary_crossentropy:  0.1334 - val_auc:  0.7295\n",
            "Epoch 14/20\n",
            "175s - loss:  0.1283 - binary_crossentropy:  0.1283 - auc:  0.7564 - val_binary_crossentropy:  0.1333 - val_auc:  0.7352\n",
            "Epoch 15/20\n",
            "176s - loss:  0.1276 - binary_crossentropy:  0.1276 - auc:  0.7604 - val_binary_crossentropy:  0.1312 - val_auc:  0.7428\n",
            "Epoch 16/20\n",
            "176s - loss:  0.1273 - binary_crossentropy:  0.1273 - auc:  0.7605 - val_binary_crossentropy:  0.1328 - val_auc:  0.7290\n",
            "Epoch 17/20\n",
            "175s - loss:  0.1272 - binary_crossentropy:  0.1271 - auc:  0.7612 - val_binary_crossentropy:  0.1359 - val_auc:  0.7225\n",
            "Epoch 18/20\n",
            "176s - loss:  0.1275 - binary_crossentropy:  0.1275 - auc:  0.7634 - val_binary_crossentropy:  0.1308 - val_auc:  0.7430\n",
            "Epoch 19/20\n",
            "175s - loss:  0.1274 - binary_crossentropy:  0.1273 - auc:  0.7645 - val_binary_crossentropy:  0.1317 - val_auc:  0.7370\n",
            "Epoch 20/20\n",
            "175s - loss:  0.1266 - binary_crossentropy:  0.1266 - auc:  0.7655 - val_binary_crossentropy:  0.1341 - val_auc:  0.7444\n",
            "\n",
            "test LogLoss 0.1357\n",
            "test AUC 0.7303\n",
            "test RIG 0.0404\n"
          ]
        }
      ]
    },
    {
      "cell_type": "markdown",
      "source": [
        "## 다 포함"
      ],
      "metadata": {
        "id": "OE4ThyXsUAf3"
      }
    },
    {
      "cell_type": "code",
      "source": [
        "# cpu gpu 설정\n",
        "# device = 'cpu'\n",
        "use_cuda = True\n",
        "if use_cuda and torch.cuda.is_available():\n",
        "    print('cuda ready...')\n",
        "    device = 'cuda:0'\n",
        "\n",
        "# 모델 정의\n",
        "# model = DeepFM(linear_feature_columns=linear_feature_columns, dnn_feature_columns=dnn_feature_columns,\n",
        "#                 task='binary',\n",
        "#                 l2_reg_embedding=1e-5, device=device)\n",
        "\n",
        "model = DeepFM(linear_feature_columns, dnn_feature_columns, dnn_hidden_units=(512, 256, 128), dnn_dropout=0.1,\n",
        "               dnn_activation='relu', dnn_use_bn=True, task='binary', device=device, gpus=[0])\n",
        "\n",
        "\n",
        "# optimizer, loss 설정\n",
        "model.compile(\"adam\", \"binary_crossentropy\",\n",
        "                metrics=[\"binary_crossentropy\", \"auc\"], )\n",
        "\n",
        "\n",
        "# 모델 학습\n",
        "model.fit(x = train_model_input, y = train[target].values, batch_size=512, epochs=20, verbose=2, validation_split=0.2)\n",
        "\n",
        "# 평가\n",
        "pred_ans = model.predict(test_model_input, 512)\n",
        "print(\"\")\n",
        "print(\"test LogLoss\", round(log_loss(test[target].values, pred_ans), 4))\n",
        "print(\"test AUC\", round(roc_auc_score(test[target].values, pred_ans), 4))\n",
        "print(\"test RIG\", round(get_rig(train[target].values, test[target].values, pred_ans), 4))"
      ],
      "metadata": {
        "colab": {
          "base_uri": "https://localhost:8080/"
        },
        "id": "4qeWjm10tTSz",
        "outputId": "6a12bd2c-90e9-416d-c510-8c25c53637a4"
      },
      "execution_count": 21,
      "outputs": [
        {
          "output_type": "stream",
          "name": "stdout",
          "text": [
            "cuda ready...\n",
            "parallel running on these gpus: [0]\n",
            "Train on 470844 samples, validate on 117711 samples, 920 steps per epoch\n",
            "Epoch 1/20\n",
            "27s - loss:  0.1407 - binary_crossentropy:  0.1407 - auc:  0.6689 - val_binary_crossentropy:  0.1321 - val_auc:  0.6931\n",
            "Epoch 2/20\n",
            "27s - loss:  0.1349 - binary_crossentropy:  0.1349 - auc:  0.6986 - val_binary_crossentropy:  0.1310 - val_auc:  0.7062\n",
            "Epoch 3/20\n",
            "27s - loss:  0.1334 - binary_crossentropy:  0.1334 - auc:  0.7131 - val_binary_crossentropy:  0.1309 - val_auc:  0.7114\n",
            "Epoch 4/20\n",
            "26s - loss:  0.1328 - binary_crossentropy:  0.1328 - auc:  0.7192 - val_binary_crossentropy:  0.1301 - val_auc:  0.7155\n",
            "Epoch 5/20\n",
            "27s - loss:  0.1319 - binary_crossentropy:  0.1319 - auc:  0.7265 - val_binary_crossentropy:  0.1302 - val_auc:  0.7165\n",
            "Epoch 6/20\n",
            "26s - loss:  0.1312 - binary_crossentropy:  0.1313 - auc:  0.7307 - val_binary_crossentropy:  0.1295 - val_auc:  0.7226\n",
            "Epoch 7/20\n",
            "26s - loss:  0.1308 - binary_crossentropy:  0.1308 - auc:  0.7347 - val_binary_crossentropy:  0.1289 - val_auc:  0.7247\n",
            "Epoch 8/20\n",
            "26s - loss:  0.1301 - binary_crossentropy:  0.1301 - auc:  0.7402 - val_binary_crossentropy:  0.1291 - val_auc:  0.7255\n",
            "Epoch 9/20\n",
            "26s - loss:  0.1295 - binary_crossentropy:  0.1295 - auc:  0.7443 - val_binary_crossentropy:  0.1299 - val_auc:  0.7242\n",
            "Epoch 10/20\n",
            "26s - loss:  0.1289 - binary_crossentropy:  0.1289 - auc:  0.7475 - val_binary_crossentropy:  0.1285 - val_auc:  0.7299\n",
            "Epoch 11/20\n",
            "26s - loss:  0.1283 - binary_crossentropy:  0.1283 - auc:  0.7529 - val_binary_crossentropy:  0.1291 - val_auc:  0.7263\n",
            "Epoch 12/20\n",
            "26s - loss:  0.1279 - binary_crossentropy:  0.1278 - auc:  0.7567 - val_binary_crossentropy:  0.1289 - val_auc:  0.7293\n",
            "Epoch 13/20\n",
            "26s - loss:  0.1271 - binary_crossentropy:  0.1271 - auc:  0.7609 - val_binary_crossentropy:  0.1289 - val_auc:  0.7322\n",
            "Epoch 14/20\n",
            "26s - loss:  0.1266 - binary_crossentropy:  0.1266 - auc:  0.7659 - val_binary_crossentropy:  0.1282 - val_auc:  0.7336\n",
            "Epoch 15/20\n",
            "26s - loss:  0.1261 - binary_crossentropy:  0.1261 - auc:  0.7677 - val_binary_crossentropy:  0.1288 - val_auc:  0.7303\n",
            "Epoch 16/20\n",
            "26s - loss:  0.1255 - binary_crossentropy:  0.1255 - auc:  0.7722 - val_binary_crossentropy:  0.1296 - val_auc:  0.7293\n",
            "Epoch 17/20\n",
            "26s - loss:  0.1249 - binary_crossentropy:  0.1249 - auc:  0.7757 - val_binary_crossentropy:  0.1286 - val_auc:  0.7319\n",
            "Epoch 18/20\n",
            "26s - loss:  0.1244 - binary_crossentropy:  0.1244 - auc:  0.7803 - val_binary_crossentropy:  0.1293 - val_auc:  0.7331\n",
            "Epoch 19/20\n",
            "26s - loss:  0.1237 - binary_crossentropy:  0.1237 - auc:  0.7846 - val_binary_crossentropy:  0.1305 - val_auc:  0.7342\n",
            "Epoch 20/20\n",
            "26s - loss:  0.1232 - binary_crossentropy:  0.1232 - auc:  0.7884 - val_binary_crossentropy:  0.1287 - val_auc:  0.7336\n",
            "\n",
            "test LogLoss 0.1312\n",
            "test AUC 0.7357\n",
            "test RIG 0.0731\n"
          ]
        }
      ]
    },
    {
      "cell_type": "markdown",
      "source": [
        "test LogLoss 0.1318\n",
        "test AUC 0.7343\n",
        "test RIG 0.0689"
      ],
      "metadata": {
        "id": "X2EmOW6rVQno"
      }
    },
    {
      "cell_type": "code",
      "source": [
        "# cpu gpu 설정\n",
        "# device = 'cpu'\n",
        "use_cuda = True\n",
        "if use_cuda and torch.cuda.is_available():\n",
        "    print('cuda ready...')\n",
        "    device = 'cuda:0'\n",
        "\n",
        "# 모델 정의\n",
        "# model = DeepFM(linear_feature_columns=linear_feature_columns, dnn_feature_columns=dnn_feature_columns,\n",
        "#                 task='binary',\n",
        "#                 l2_reg_embedding=1e-5, device=device)\n",
        "\n",
        "model = DeepFM(linear_feature_columns, dnn_feature_columns, dnn_hidden_units=(256, 256), dnn_dropout=0.0,\n",
        "               dnn_activation='relu', dnn_use_bn=True, task='binary', device=device, gpus=[0])\n",
        "\n",
        "\n",
        "# optimizer, loss 설정\n",
        "model.compile(\"adam\", \"binary_crossentropy\",\n",
        "                metrics=[\"binary_crossentropy\", \"auc\"], )\n",
        "\n",
        "\n",
        "# 모델 학습\n",
        "model.fit(x = train_model_input, y = train[target].values, batch_size=512, epochs=50, verbose=2, validation_split=0.0)\n",
        "\n",
        "# 평가\n",
        "pred_ans = model.predict(test_model_input, 512)\n",
        "print(\"\")\n",
        "print(\"test LogLoss\", round(log_loss(test[target].values, pred_ans), 4))\n",
        "print(\"test AUC\", round(roc_auc_score(test[target].values, pred_ans), 4))\n",
        "print(\"test RIG\", round(get_rig(train[target].values, test[target].values, pred_ans), 4))"
      ],
      "metadata": {
        "colab": {
          "base_uri": "https://localhost:8080/"
        },
        "id": "nYBbpDg1tVsy",
        "outputId": "1b228b02-6ee0-40de-e070-ca554e213e28"
      },
      "execution_count": 17,
      "outputs": [
        {
          "output_type": "stream",
          "name": "stdout",
          "text": [
            "cuda ready...\n",
            "parallel running on these gpus: [0]\n",
            "Train on 588555 samples, validate on 0 samples, 1150 steps per epoch\n",
            "Epoch 1/50\n",
            "20s - loss:  0.1366 - binary_crossentropy:  0.1366 - auc:  0.6928\n",
            "Epoch 2/50\n",
            "20s - loss:  0.1335 - binary_crossentropy:  0.1335 - auc:  0.7089\n",
            "Epoch 3/50\n",
            "20s - loss:  0.1330 - binary_crossentropy:  0.1330 - auc:  0.7153\n",
            "Epoch 4/50\n",
            "20s - loss:  0.1328 - binary_crossentropy:  0.1328 - auc:  0.7183\n",
            "Epoch 5/50\n",
            "20s - loss:  0.1325 - binary_crossentropy:  0.1325 - auc:  0.7197\n",
            "Epoch 6/50\n",
            "20s - loss:  0.1322 - binary_crossentropy:  0.1322 - auc:  0.7224\n",
            "Epoch 7/50\n",
            "20s - loss:  0.1321 - binary_crossentropy:  0.1321 - auc:  0.7254\n",
            "Epoch 8/50\n",
            "20s - loss:  0.1317 - binary_crossentropy:  0.1317 - auc:  0.7282\n",
            "Epoch 9/50\n",
            "20s - loss:  0.1316 - binary_crossentropy:  0.1315 - auc:  0.7284\n",
            "Epoch 10/50\n",
            "20s - loss:  0.1314 - binary_crossentropy:  0.1314 - auc:  0.7311\n",
            "Epoch 11/50\n",
            "20s - loss:  0.1312 - binary_crossentropy:  0.1312 - auc:  0.7334\n",
            "Epoch 12/50\n",
            "20s - loss:  0.1310 - binary_crossentropy:  0.1310 - auc:  0.7343\n",
            "Epoch 13/50\n",
            "20s - loss:  0.1309 - binary_crossentropy:  0.1309 - auc:  0.7375\n",
            "Epoch 14/50\n",
            "20s - loss:  0.1306 - binary_crossentropy:  0.1305 - auc:  0.7387\n",
            "Epoch 15/50\n",
            "20s - loss:  0.1306 - binary_crossentropy:  0.1306 - auc:  0.7402\n",
            "Epoch 16/50\n",
            "20s - loss:  0.1302 - binary_crossentropy:  0.1302 - auc:  0.7424\n",
            "Epoch 17/50\n",
            "20s - loss:  0.1300 - binary_crossentropy:  0.1300 - auc:  0.7442\n",
            "Epoch 18/50\n",
            "20s - loss:  0.1297 - binary_crossentropy:  0.1297 - auc:  0.7447\n",
            "Epoch 19/50\n",
            "20s - loss:  0.1296 - binary_crossentropy:  0.1296 - auc:  0.7468\n",
            "Epoch 20/50\n",
            "20s - loss:  0.1294 - binary_crossentropy:  0.1294 - auc:  0.7495\n",
            "Epoch 21/50\n",
            "20s - loss:  0.1293 - binary_crossentropy:  0.1293 - auc:  0.7511\n",
            "Epoch 22/50\n",
            "20s - loss:  0.1291 - binary_crossentropy:  0.1291 - auc:  0.7530\n",
            "Epoch 23/50\n",
            "20s - loss:  0.1288 - binary_crossentropy:  0.1288 - auc:  0.7544\n",
            "Epoch 24/50\n",
            "20s - loss:  0.1286 - binary_crossentropy:  0.1287 - auc:  0.7564\n",
            "Epoch 25/50\n",
            "20s - loss:  0.1284 - binary_crossentropy:  0.1284 - auc:  0.7575\n",
            "Epoch 26/50\n",
            "20s - loss:  0.1282 - binary_crossentropy:  0.1282 - auc:  0.7590\n",
            "Epoch 27/50\n",
            "20s - loss:  0.1280 - binary_crossentropy:  0.1280 - auc:  0.7607\n",
            "Epoch 28/50\n",
            "20s - loss:  0.1279 - binary_crossentropy:  0.1279 - auc:  0.7616\n",
            "Epoch 29/50\n",
            "20s - loss:  0.1275 - binary_crossentropy:  0.1275 - auc:  0.7634\n",
            "Epoch 30/50\n",
            "20s - loss:  0.1275 - binary_crossentropy:  0.1275 - auc:  0.7653\n",
            "Epoch 31/50\n",
            "20s - loss:  0.1272 - binary_crossentropy:  0.1272 - auc:  0.7667\n",
            "Epoch 32/50\n",
            "20s - loss:  0.1270 - binary_crossentropy:  0.1270 - auc:  0.7673\n",
            "Epoch 33/50\n",
            "20s - loss:  0.1268 - binary_crossentropy:  0.1268 - auc:  0.7702\n",
            "Epoch 34/50\n",
            "20s - loss:  0.1267 - binary_crossentropy:  0.1267 - auc:  0.7699\n",
            "Epoch 35/50\n",
            "20s - loss:  0.1265 - binary_crossentropy:  0.1265 - auc:  0.7722\n",
            "Epoch 36/50\n",
            "20s - loss:  0.1264 - binary_crossentropy:  0.1264 - auc:  0.7733\n",
            "Epoch 37/50\n",
            "20s - loss:  0.1262 - binary_crossentropy:  0.1261 - auc:  0.7741\n",
            "Epoch 38/50\n",
            "20s - loss:  0.1260 - binary_crossentropy:  0.1260 - auc:  0.7753\n",
            "Epoch 39/50\n",
            "20s - loss:  0.1258 - binary_crossentropy:  0.1258 - auc:  0.7775\n",
            "Epoch 40/50\n",
            "20s - loss:  0.1256 - binary_crossentropy:  0.1256 - auc:  0.7780\n",
            "Epoch 41/50\n",
            "20s - loss:  0.1254 - binary_crossentropy:  0.1254 - auc:  0.7794\n",
            "Epoch 42/50\n",
            "20s - loss:  0.1254 - binary_crossentropy:  0.1254 - auc:  0.7807\n",
            "Epoch 43/50\n",
            "20s - loss:  0.1251 - binary_crossentropy:  0.1251 - auc:  0.7821\n",
            "Epoch 44/50\n",
            "20s - loss:  0.1251 - binary_crossentropy:  0.1251 - auc:  0.7820\n",
            "Epoch 45/50\n",
            "20s - loss:  0.1247 - binary_crossentropy:  0.1247 - auc:  0.7835\n",
            "Epoch 46/50\n",
            "20s - loss:  0.1247 - binary_crossentropy:  0.1247 - auc:  0.7846\n",
            "Epoch 47/50\n",
            "20s - loss:  0.1247 - binary_crossentropy:  0.1247 - auc:  0.7845\n",
            "Epoch 48/50\n",
            "20s - loss:  0.1245 - binary_crossentropy:  0.1246 - auc:  0.7863\n",
            "Epoch 49/50\n",
            "20s - loss:  0.1243 - binary_crossentropy:  0.1242 - auc:  0.7863\n",
            "Epoch 50/50\n",
            "20s - loss:  0.1242 - binary_crossentropy:  0.1242 - auc:  0.7885\n",
            "\n",
            "test LogLoss 0.136\n",
            "test AUC 0.7206\n",
            "test RIG 0.0408\n"
          ]
        }
      ]
    },
    {
      "cell_type": "code",
      "source": [
        "# cpu gpu 설정\n",
        "# device = 'cpu'\n",
        "use_cuda = True\n",
        "if use_cuda and torch.cuda.is_available():\n",
        "    print('cuda ready...')\n",
        "    device = 'cuda:0'\n",
        "\n",
        "# 모델 정의\n",
        "# model = DeepFM(linear_feature_columns=linear_feature_columns, dnn_feature_columns=dnn_feature_columns,\n",
        "#                 task='binary',\n",
        "#                 l2_reg_embedding=1e-5, device=device)\n",
        "\n",
        "model = DeepFM(linear_feature_columns, dnn_feature_columns, dnn_hidden_units=(512, 256), dnn_dropout=0.0,\n",
        "               dnn_activation='relu', dnn_use_bn=True, task='binary', device=device, gpus=[0])\n",
        "\n",
        "\n",
        "# optimizer, loss 설정\n",
        "model.compile(\"adam\", \"binary_crossentropy\",\n",
        "                metrics=[\"binary_crossentropy\", \"auc\"], )\n",
        "\n",
        "\n",
        "# 모델 학습\n",
        "model.fit(x = train_model_input, y = train[target].values, batch_size=512, epochs=20, verbose=2, validation_split=0.2)\n",
        "\n",
        "# 평가\n",
        "pred_ans = model.predict(test_model_input, 512)\n",
        "print(\"\")\n",
        "print(\"test LogLoss\", round(log_loss(test[target].values, pred_ans), 4))\n",
        "print(\"test AUC\", round(roc_auc_score(test[target].values, pred_ans), 4))\n",
        "print(\"test RIG\", round(get_rig(train[target].values, test[target].values, pred_ans), 4))"
      ],
      "metadata": {
        "colab": {
          "base_uri": "https://localhost:8080/"
        },
        "id": "EOddQLJLSbFG",
        "outputId": "f018b57d-cffb-442d-f8f9-93c74c47096e"
      },
      "execution_count": 17,
      "outputs": [
        {
          "output_type": "stream",
          "name": "stdout",
          "text": [
            "cuda ready...\n",
            "parallel running on these gpus: [0]\n",
            "Train on 470844 samples, validate on 117711 samples, 920 steps per epoch\n",
            "Epoch 1/20\n",
            "21s - loss:  0.1443 - binary_crossentropy:  0.1443 - auc:  0.6785 - val_binary_crossentropy:  0.1313 - val_auc:  0.6998\n",
            "Epoch 2/20\n",
            "21s - loss:  0.1348 - binary_crossentropy:  0.1347 - auc:  0.7011 - val_binary_crossentropy:  0.1301 - val_auc:  0.7132\n",
            "Epoch 3/20\n",
            "21s - loss:  0.1340 - binary_crossentropy:  0.1340 - auc:  0.7096 - val_binary_crossentropy:  0.1313 - val_auc:  0.7112\n",
            "Epoch 4/20\n",
            "21s - loss:  0.1336 - binary_crossentropy:  0.1336 - auc:  0.7122 - val_binary_crossentropy:  0.1313 - val_auc:  0.7041\n",
            "Epoch 5/20\n",
            "21s - loss:  0.1334 - binary_crossentropy:  0.1334 - auc:  0.7127 - val_binary_crossentropy:  0.1306 - val_auc:  0.7077\n",
            "Epoch 6/20\n",
            "21s - loss:  0.1331 - binary_crossentropy:  0.1331 - auc:  0.7173 - val_binary_crossentropy:  0.1320 - val_auc:  0.7037\n",
            "Epoch 7/20\n",
            "21s - loss:  0.1330 - binary_crossentropy:  0.1330 - auc:  0.7185 - val_binary_crossentropy:  0.1307 - val_auc:  0.7105\n",
            "Epoch 8/20\n",
            "20s - loss:  0.1329 - binary_crossentropy:  0.1329 - auc:  0.7191 - val_binary_crossentropy:  0.1312 - val_auc:  0.7041\n",
            "Epoch 9/20\n",
            "20s - loss:  0.1326 - binary_crossentropy:  0.1326 - auc:  0.7226 - val_binary_crossentropy:  0.1307 - val_auc:  0.7147\n",
            "Epoch 10/20\n",
            "20s - loss:  0.1324 - binary_crossentropy:  0.1324 - auc:  0.7242 - val_binary_crossentropy:  0.1305 - val_auc:  0.7133\n",
            "Epoch 11/20\n",
            "20s - loss:  0.1321 - binary_crossentropy:  0.1321 - auc:  0.7251 - val_binary_crossentropy:  0.1304 - val_auc:  0.7124\n",
            "Epoch 12/20\n",
            "20s - loss:  0.1319 - binary_crossentropy:  0.1319 - auc:  0.7270 - val_binary_crossentropy:  0.1306 - val_auc:  0.7157\n",
            "Epoch 13/20\n",
            "20s - loss:  0.1318 - binary_crossentropy:  0.1318 - auc:  0.7295 - val_binary_crossentropy:  0.1308 - val_auc:  0.7117\n",
            "Epoch 14/20\n",
            "20s - loss:  0.1316 - binary_crossentropy:  0.1316 - auc:  0.7296 - val_binary_crossentropy:  0.1306 - val_auc:  0.7139\n",
            "Epoch 15/20\n",
            "21s - loss:  0.1315 - binary_crossentropy:  0.1315 - auc:  0.7307 - val_binary_crossentropy:  0.1303 - val_auc:  0.7161\n",
            "Epoch 16/20\n",
            "20s - loss:  0.1312 - binary_crossentropy:  0.1312 - auc:  0.7343 - val_binary_crossentropy:  0.1310 - val_auc:  0.7124\n",
            "Epoch 17/20\n",
            "20s - loss:  0.1311 - binary_crossentropy:  0.1310 - auc:  0.7343 - val_binary_crossentropy:  0.1307 - val_auc:  0.7169\n",
            "Epoch 18/20\n",
            "20s - loss:  0.1309 - binary_crossentropy:  0.1309 - auc:  0.7370 - val_binary_crossentropy:  0.1312 - val_auc:  0.7161\n",
            "Epoch 19/20\n",
            "20s - loss:  0.1308 - binary_crossentropy:  0.1307 - auc:  0.7386 - val_binary_crossentropy:  0.1304 - val_auc:  0.7171\n",
            "Epoch 20/20\n",
            "20s - loss:  0.1305 - binary_crossentropy:  0.1305 - auc:  0.7400 - val_binary_crossentropy:  0.1309 - val_auc:  0.7148\n",
            "\n",
            "test LogLoss 0.1324\n",
            "test AUC 0.716\n",
            "test RIG 0.0662\n"
          ]
        }
      ]
    },
    {
      "cell_type": "code",
      "source": [
        "# cpu gpu 설정\n",
        "# device = 'cpu'\n",
        "use_cuda = True\n",
        "if use_cuda and torch.cuda.is_available():\n",
        "    print('cuda ready...')\n",
        "    device = 'cuda:0'\n",
        "\n",
        "# 모델 정의\n",
        "# model = DeepFM(linear_feature_columns=linear_feature_columns, dnn_feature_columns=dnn_feature_columns,\n",
        "#                 task='binary',\n",
        "#                 l2_reg_embedding=1e-5, device=device)\n",
        "\n",
        "model = DeepFM(linear_feature_columns, dnn_feature_columns, dnn_hidden_units=(512, 256, 128), dnn_dropout=0.0,\n",
        "               dnn_activation='relu', dnn_use_bn=True, task='binary', device=device, gpus=[0])\n",
        "\n",
        "\n",
        "# optimizer, loss 설정\n",
        "model.compile(\"adam\", \"binary_crossentropy\",\n",
        "                metrics=[\"binary_crossentropy\", \"auc\"], )\n",
        "\n",
        "\n",
        "# 모델 학습\n",
        "model.fit(x = train_model_input, y = train[target].values, batch_size=512, epochs=20, verbose=2, validation_split=0.2)\n",
        "\n",
        "# 평가\n",
        "pred_ans = model.predict(test_model_input, 512)\n",
        "print(\"\")\n",
        "print(\"test LogLoss\", round(log_loss(test[target].values, pred_ans), 4))\n",
        "print(\"test AUC\", round(roc_auc_score(test[target].values, pred_ans), 4))\n",
        "print(\"test RIG\", round(get_rig(train[target].values, test[target].values, pred_ans), 4))"
      ],
      "metadata": {
        "colab": {
          "base_uri": "https://localhost:8080/"
        },
        "id": "Nrx8IayxjN5s",
        "outputId": "0bccecbf-c8a6-46d4-dd70-5e7954158d85"
      },
      "execution_count": 42,
      "outputs": [
        {
          "output_type": "stream",
          "name": "stdout",
          "text": [
            "cuda ready...\n",
            "parallel running on these gpus: [0]\n",
            "Train on 470844 samples, validate on 117711 samples, 920 steps per epoch\n",
            "Epoch 1/20\n",
            "21s - loss:  0.1417 - binary_crossentropy:  0.1417 - auc:  0.6719 - val_binary_crossentropy:  0.1321 - val_auc:  0.6953\n",
            "Epoch 2/20\n",
            "19s - loss:  0.1345 - binary_crossentropy:  0.1345 - auc:  0.7009 - val_binary_crossentropy:  0.1312 - val_auc:  0.7059\n",
            "Epoch 3/20\n",
            "19s - loss:  0.1332 - binary_crossentropy:  0.1332 - auc:  0.7135 - val_binary_crossentropy:  0.1314 - val_auc:  0.7166\n",
            "Epoch 4/20\n",
            "19s - loss:  0.1325 - binary_crossentropy:  0.1325 - auc:  0.7191 - val_binary_crossentropy:  0.1307 - val_auc:  0.7129\n",
            "Epoch 5/20\n",
            "19s - loss:  0.1318 - binary_crossentropy:  0.1318 - auc:  0.7265 - val_binary_crossentropy:  0.1297 - val_auc:  0.7219\n",
            "Epoch 6/20\n",
            "19s - loss:  0.1314 - binary_crossentropy:  0.1313 - auc:  0.7295 - val_binary_crossentropy:  0.1292 - val_auc:  0.7253\n",
            "Epoch 7/20\n",
            "19s - loss:  0.1306 - binary_crossentropy:  0.1306 - auc:  0.7367 - val_binary_crossentropy:  0.1289 - val_auc:  0.7267\n",
            "Epoch 8/20\n",
            "19s - loss:  0.1300 - binary_crossentropy:  0.1301 - auc:  0.7398 - val_binary_crossentropy:  0.1286 - val_auc:  0.7295\n",
            "Epoch 9/20\n",
            "19s - loss:  0.1295 - binary_crossentropy:  0.1295 - auc:  0.7444 - val_binary_crossentropy:  0.1289 - val_auc:  0.7302\n",
            "Epoch 10/20\n",
            "19s - loss:  0.1290 - binary_crossentropy:  0.1290 - auc:  0.7490 - val_binary_crossentropy:  0.1293 - val_auc:  0.7287\n",
            "Epoch 11/20\n",
            "18s - loss:  0.1284 - binary_crossentropy:  0.1284 - auc:  0.7537 - val_binary_crossentropy:  0.1282 - val_auc:  0.7336\n",
            "Epoch 12/20\n",
            "19s - loss:  0.1280 - binary_crossentropy:  0.1280 - auc:  0.7557 - val_binary_crossentropy:  0.1282 - val_auc:  0.7348\n",
            "Epoch 13/20\n",
            "19s - loss:  0.1273 - binary_crossentropy:  0.1273 - auc:  0.7603 - val_binary_crossentropy:  0.1292 - val_auc:  0.7330\n",
            "Epoch 14/20\n",
            "19s - loss:  0.1269 - binary_crossentropy:  0.1269 - auc:  0.7640 - val_binary_crossentropy:  0.1280 - val_auc:  0.7358\n",
            "Epoch 15/20\n",
            "19s - loss:  0.1264 - binary_crossentropy:  0.1264 - auc:  0.7673 - val_binary_crossentropy:  0.1291 - val_auc:  0.7358\n",
            "Epoch 16/20\n",
            "19s - loss:  0.1259 - binary_crossentropy:  0.1259 - auc:  0.7709 - val_binary_crossentropy:  0.1286 - val_auc:  0.7369\n",
            "Epoch 17/20\n",
            "19s - loss:  0.1255 - binary_crossentropy:  0.1255 - auc:  0.7723 - val_binary_crossentropy:  0.1285 - val_auc:  0.7379\n",
            "Epoch 18/20\n",
            "18s - loss:  0.1251 - binary_crossentropy:  0.1251 - auc:  0.7757 - val_binary_crossentropy:  0.1282 - val_auc:  0.7363\n",
            "Epoch 19/20\n",
            "19s - loss:  0.1246 - binary_crossentropy:  0.1246 - auc:  0.7791 - val_binary_crossentropy:  0.1293 - val_auc:  0.7369\n",
            "Epoch 20/20\n",
            "19s - loss:  0.1240 - binary_crossentropy:  0.1241 - auc:  0.7824 - val_binary_crossentropy:  0.1290 - val_auc:  0.7383\n",
            "\n",
            "test LogLoss 0.1321\n",
            "test AUC 0.7348\n",
            "test RIG 0.0667\n"
          ]
        }
      ]
    },
    {
      "cell_type": "code",
      "source": [
        ""
      ],
      "metadata": {
        "id": "woaAWQlqSbK9"
      },
      "execution_count": null,
      "outputs": []
    },
    {
      "cell_type": "markdown",
      "source": [
        "# 학습 - 1223"
      ],
      "metadata": {
        "id": "mALmAT0eSbUy"
      }
    },
    {
      "cell_type": "markdown",
      "source": [
        "- Standard Scaling, 이미지 벡터 제외"
      ],
      "metadata": {
        "id": "4-XADhBRTy4V"
      }
    },
    {
      "cell_type": "code",
      "source": [
        "# 4.Define Model,train,predict and evaluate\n",
        "# cpu gpu 설정\n",
        "# device = 'cpu'\n",
        "use_cuda = True\n",
        "if use_cuda and torch.cuda.is_available():\n",
        "    print('cuda ready...')\n",
        "    device = 'cuda:0'\n",
        "\n",
        "# 모델 정의\n",
        "model = DeepFM(linear_feature_columns=linear_feature_columns, dnn_feature_columns=dnn_feature_columns,\n",
        "                task='binary',\n",
        "                l2_reg_embedding=1e-5, device=device)\n",
        "\n",
        "# optimizer, loss 설정\n",
        "model.compile(\"adagrad\", \"binary_crossentropy\",\n",
        "                metrics=[\"binary_crossentropy\", \"auc\"], )\n",
        "# 모델 학습\n",
        "model.fit(x = train_model_input, y = train[target].values, batch_size=1024, epochs=20, verbose=2, validation_split=0.0)\n",
        "\n",
        "# 예측\n",
        "pred_ans = model.predict(test_model_input, 1024)\n",
        "print(\"\")\n",
        "print(\"test LogLoss\", round(log_loss(test[target].values, pred_ans), 4))\n",
        "print(\"test AUC\", round(roc_auc_score(test[target].values, pred_ans), 4))\n",
        "print(\"test RIG\", round(get_rig(train[target].values, test[target].values, pred_ans), 4))"
      ],
      "metadata": {
        "colab": {
          "base_uri": "https://localhost:8080/"
        },
        "id": "uYKvgZyh6fgG",
        "outputId": "952cc691-02f3-46f9-9987-00791e857bc5"
      },
      "execution_count": null,
      "outputs": [
        {
          "output_type": "stream",
          "name": "stdout",
          "text": [
            "cuda ready...\n",
            "cuda:0\n",
            "Train on 588555 samples, validate on 0 samples, 575 steps per epoch\n",
            "Epoch 1/20\n",
            "8s - loss:  0.1388 - binary_crossentropy:  0.1388 - auc:  0.6745\n",
            "Epoch 2/20\n",
            "8s - loss:  0.1350 - binary_crossentropy:  0.1350 - auc:  0.6879\n",
            "Epoch 3/20\n",
            "8s - loss:  0.1348 - binary_crossentropy:  0.1348 - auc:  0.6896\n",
            "Epoch 4/20\n",
            "8s - loss:  0.1346 - binary_crossentropy:  0.1346 - auc:  0.6899\n",
            "Epoch 5/20\n",
            "8s - loss:  0.1346 - binary_crossentropy:  0.1346 - auc:  0.6918\n",
            "Epoch 6/20\n",
            "8s - loss:  0.1345 - binary_crossentropy:  0.1344 - auc:  0.6924\n",
            "Epoch 7/20\n",
            "8s - loss:  0.1344 - binary_crossentropy:  0.1344 - auc:  0.6931\n",
            "Epoch 8/20\n",
            "8s - loss:  0.1343 - binary_crossentropy:  0.1343 - auc:  0.6942\n",
            "Epoch 9/20\n",
            "8s - loss:  0.1342 - binary_crossentropy:  0.1342 - auc:  0.6941\n",
            "Epoch 10/20\n",
            "8s - loss:  0.1342 - binary_crossentropy:  0.1342 - auc:  0.6956\n",
            "Epoch 11/20\n",
            "8s - loss:  0.1341 - binary_crossentropy:  0.1341 - auc:  0.6955\n",
            "Epoch 12/20\n",
            "8s - loss:  0.1341 - binary_crossentropy:  0.1341 - auc:  0.6963\n",
            "Epoch 13/20\n",
            "8s - loss:  0.1340 - binary_crossentropy:  0.1340 - auc:  0.6962\n",
            "Epoch 14/20\n",
            "8s - loss:  0.1340 - binary_crossentropy:  0.1340 - auc:  0.6977\n",
            "Epoch 15/20\n",
            "8s - loss:  0.1340 - binary_crossentropy:  0.1340 - auc:  0.6977\n",
            "Epoch 16/20\n",
            "8s - loss:  0.1339 - binary_crossentropy:  0.1339 - auc:  0.6983\n",
            "Epoch 17/20\n",
            "8s - loss:  0.1339 - binary_crossentropy:  0.1339 - auc:  0.6984\n",
            "Epoch 18/20\n",
            "8s - loss:  0.1338 - binary_crossentropy:  0.1338 - auc:  0.6985\n",
            "Epoch 19/20\n",
            "8s - loss:  0.1338 - binary_crossentropy:  0.1338 - auc:  0.6991\n",
            "Epoch 20/20\n",
            "8s - loss:  0.1338 - binary_crossentropy:  0.1338 - auc:  0.6993\n",
            "\n",
            "test LogLoss 0.1331\n",
            "test AUC 0.6995\n",
            "test RIG 0.0616\n"
          ]
        }
      ]
    },
    {
      "cell_type": "markdown",
      "source": [
        "- Standard Scaling, 이미지 벡터 전부 사용"
      ],
      "metadata": {
        "id": "w7XSmH10Ts8u"
      }
    },
    {
      "cell_type": "code",
      "source": [
        "# 모델 학습\n",
        "model.fit(x = train_model_input, y = train[target].values, batch_size=1024, epochs=20, verbose=2, validation_split=0.0)\n",
        "\n",
        "# 예측\n",
        "pred_ans = model.predict(test_model_input, 1024)\n",
        "print(\"\")\n",
        "print(\"test LogLoss\", round(log_loss(test[target].values, pred_ans), 4))\n",
        "print(\"test AUC\", round(roc_auc_score(test[target].values, pred_ans), 4))\n",
        "print(\"test RIG\", round(get_rig(train[target].values, test[target].values, pred_ans), 4))"
      ],
      "metadata": {
        "colab": {
          "base_uri": "https://localhost:8080/"
        },
        "id": "CBigNaVpMwVj",
        "outputId": "ee6c46ac-fb07-4a99-aabb-0eaee8b04316"
      },
      "execution_count": null,
      "outputs": [
        {
          "output_type": "stream",
          "name": "stdout",
          "text": [
            "cuda:0\n",
            "Train on 588555 samples, validate on 0 samples, 575 steps per epoch\n",
            "Epoch 1/20\n",
            "11s - loss:  0.1303 - binary_crossentropy:  0.1303 - auc:  0.7360\n",
            "Epoch 2/20\n",
            "11s - loss:  0.1302 - binary_crossentropy:  0.1302 - auc:  0.7356\n",
            "Epoch 3/20\n",
            "11s - loss:  0.1302 - binary_crossentropy:  0.1302 - auc:  0.7365\n",
            "Epoch 4/20\n",
            "11s - loss:  0.1302 - binary_crossentropy:  0.1302 - auc:  0.7366\n",
            "Epoch 5/20\n",
            "11s - loss:  0.1302 - binary_crossentropy:  0.1302 - auc:  0.7366\n",
            "Epoch 6/20\n",
            "11s - loss:  0.1301 - binary_crossentropy:  0.1301 - auc:  0.7376\n",
            "Epoch 7/20\n",
            "11s - loss:  0.1301 - binary_crossentropy:  0.1301 - auc:  0.7374\n",
            "Epoch 8/20\n",
            "11s - loss:  0.1300 - binary_crossentropy:  0.1300 - auc:  0.7381\n",
            "Epoch 9/20\n",
            "11s - loss:  0.1300 - binary_crossentropy:  0.1300 - auc:  0.7387\n",
            "Epoch 10/20\n",
            "11s - loss:  0.1300 - binary_crossentropy:  0.1300 - auc:  0.7386\n",
            "Epoch 11/20\n",
            "11s - loss:  0.1299 - binary_crossentropy:  0.1299 - auc:  0.7391\n",
            "Epoch 12/20\n",
            "11s - loss:  0.1299 - binary_crossentropy:  0.1299 - auc:  0.7392\n",
            "Epoch 13/20\n",
            "11s - loss:  0.1299 - binary_crossentropy:  0.1299 - auc:  0.7392\n",
            "Epoch 14/20\n",
            "11s - loss:  0.1298 - binary_crossentropy:  0.1298 - auc:  0.7402\n",
            "Epoch 15/20\n",
            "11s - loss:  0.1298 - binary_crossentropy:  0.1298 - auc:  0.7399\n",
            "Epoch 16/20\n",
            "11s - loss:  0.1298 - binary_crossentropy:  0.1298 - auc:  0.7404\n",
            "Epoch 17/20\n",
            "12s - loss:  0.1297 - binary_crossentropy:  0.1297 - auc:  0.7407\n",
            "Epoch 18/20\n",
            "11s - loss:  0.1297 - binary_crossentropy:  0.1297 - auc:  0.7409\n",
            "Epoch 19/20\n",
            "11s - loss:  0.1297 - binary_crossentropy:  0.1297 - auc:  0.7408\n",
            "Epoch 20/20\n",
            "11s - loss:  0.1296 - binary_crossentropy:  0.1296 - auc:  0.7415\n",
            "\n",
            "test LogLoss 0.1304\n",
            "test AUC 0.7279\n",
            "test RIG 0.0805\n"
          ]
        }
      ]
    },
    {
      "cell_type": "code",
      "source": [
        ""
      ],
      "metadata": {
        "id": "BaebSaZKM-9_"
      },
      "execution_count": null,
      "outputs": []
    }
  ],
  "metadata": {
    "interpreter": {
      "hash": "ac2eaa0ea0ebeafcc7822e65e46aa9d4f966f30b695406963e145ea4a91cd4fc"
    },
    "kernelspec": {
      "display_name": "Python 3",
      "language": "python",
      "name": "python3"
    },
    "language_info": {
      "codemirror_mode": {
        "name": "ipython",
        "version": 3
      },
      "file_extension": ".py",
      "mimetype": "text/x-python",
      "name": "python",
      "nbconvert_exporter": "python",
      "pygments_lexer": "ipython3",
      "version": "3.7.4"
    },
    "toc": {
      "base_numbering": 1,
      "nav_menu": {},
      "number_sections": true,
      "sideBar": true,
      "skip_h1_title": false,
      "title_cell": "Table of Contents",
      "title_sidebar": "Contents",
      "toc_cell": false,
      "toc_position": {},
      "toc_section_display": true,
      "toc_window_display": false
    },
    "varInspector": {
      "cols": {
        "lenName": 16,
        "lenType": 16,
        "lenVar": 40
      },
      "kernels_config": {
        "python": {
          "delete_cmd_postfix": "",
          "delete_cmd_prefix": "del ",
          "library": "var_list.py",
          "varRefreshCmd": "print(var_dic_list())"
        },
        "r": {
          "delete_cmd_postfix": ") ",
          "delete_cmd_prefix": "rm(",
          "library": "var_list.r",
          "varRefreshCmd": "cat(var_dic_list()) "
        }
      },
      "types_to_exclude": [
        "module",
        "function",
        "builtin_function_or_method",
        "instance",
        "_Feature"
      ],
      "window_display": false
    },
    "colab": {
      "name": "DeepFM_동영.ipynb",
      "provenance": [],
      "collapsed_sections": [],
      "machine_shape": "hm",
      "include_colab_link": true
    },
    "accelerator": "GPU"
  },
  "nbformat": 4,
  "nbformat_minor": 0
}